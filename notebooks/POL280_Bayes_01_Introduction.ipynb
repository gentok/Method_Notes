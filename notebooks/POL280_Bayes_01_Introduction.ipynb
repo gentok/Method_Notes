{
 "cells": [
  {
   "cell_type": "markdown",
   "metadata": {},
   "source": [
    "# POL280 Bayesian Modelling Memo & Codes\n",
    "\n",
    "(Contents are originally provided by Christopher Hare, annotated and revised by Gento Kato)\n",
    "\n",
    "***THIS IS A MEMO, NOTE THAT THERE CAN BE ERRORS AND MISUNDERSTANDINGS***"
   ]
  },
  {
   "cell_type": "markdown",
   "metadata": {},
   "source": [
    "## Topic 1: Introduction (04/13/2017) "
   ]
  },
  {
   "cell_type": "markdown",
   "metadata": {},
   "source": [
    "### Why Bayes (than Frequentist) ?\n",
    "\n",
    "* Model **assumptions are clear**.\n",
    "* Better way to make **probability statements** on quantitities of interest.\n",
    "* Can **update** statements as new information is received.\n",
    "\n",
    "### Bayes Theorem (Bayes Rule)\n",
    "\n",
    "$$P(A|B) = \\frac{P(B|A) P(A)}{P(B)}$$\n",
    "\n",
    "*Example: Test of Disease* \n",
    "\n",
    "* 1% of the population has the disease: $P(A) = 0.01$\n",
    "* A test is 95% accurate to detect the disease: $P(B|A) = 0.95$\n",
    "* Probability that you have the disease when you've tested positive: $P(A|B)$?\n",
    "\n",
    "\\begin{align}\n",
    "P(A|B) = \\frac{P(B|A) P(A)}{P(B)} &= \\frac{P(B|A) P(A)}{P(A)P(B|A)+P(!A)P(B|!A)}\\\\\n",
    "&= \\frac{.95 \\times .01}{(.01 \\times .95) + (.99 \\times .05)} \\\\\n",
    "&\\approx 0.16\n",
    "\\end{align}"
   ]
  },
  {
   "cell_type": "markdown",
   "metadata": {},
   "source": [
    "### Intuition: The Monty Hall Problem\n",
    "\n",
    "Suppose you're on a game show and you're given teh choice of three doors: Behind one door is a car; behind the otheres, goats. You pick a door, say No.1, and the host, who knows what's behind the doors, opens another door, say No.3, which has a goat. He then says to you \"Do you wan to pick door No.2?\" Is it to your advantage to switch your choice?\n",
    "\n",
    "Let's pick door 1, and Monty then opens door 2 to show us a goat.\n",
    "\n",
    "Let A represent the outcome that the car is behind door 1. Let B represent the event that we're shown a goat behind door 2:\n",
    "\n",
    "$$P(A|B) = \\frac{P(B|A) P(A)}{P(B)}$$\n",
    "\n",
    "Let's Simulate by R!"
   ]
  },
  {
   "cell_type": "code",
   "execution_count": 6,
   "metadata": {},
   "outputs": [
    {
     "data": {
      "text/html": [
       "0.3304"
      ],
      "text/latex": [
       "0.3304"
      ],
      "text/markdown": [
       "0.3304"
      ],
      "text/plain": [
       "[1] 0.3304"
      ]
     },
     "metadata": {},
     "output_type": "display_data"
    }
   ],
   "source": [
    "## Monty Hall Problem Simulation ##\n",
    "doors <- c(\"1\", \"2\", \"3\") # Three Doors \n",
    "sim_montyhall <- function(door){\n",
    "car <- sample(doors, 1) # define the door with car\n",
    "pick <- doors[door] # your pick of the door\n",
    "open <- sample(doors[which(doors!=car & doors!=pick)], 1) # define the door opened\n",
    "return(pick==car) # return if the car is behind your picked door.\n",
    "}\n",
    "sims <- replicate(10000, sim_montyhall(1) ) #repeat the process many times\n",
    "mean(sims) # The probability"
   ]
  },
  {
   "cell_type": "markdown",
   "metadata": {},
   "source": [
    "###  Monte Carlo Simulation"
   ]
  },
  {
   "cell_type": "code",
   "execution_count": 2,
   "metadata": {},
   "outputs": [
    {
     "data": {
      "image/png": "[encoded data removed]",
      "text/plain": [
       "plot without title"
      ]
     },
     "metadata": {},
     "output_type": "display_data"
    }
   ],
   "source": [
    "## Monte Carlo Simulation ##\n",
    "\n",
    "#install.packages(\"plotrix\")\n",
    "library(plotrix)\n",
    "library(grid)\n",
    "\n",
    "options(repr.plot.width=5, repr.plot.height=5)\n",
    "## Plot Rectangle and Circle\n",
    "plot(c(-1, 1), c(-1, 1), type = \"n\", asp = 1)\n",
    "rect(-1, -1, 1, 1)\n",
    "draw.circle(0, 0, 1)\n",
    "\n",
    "## Conduct Simulation \n",
    "nsamp <- 10000 # The size of sample\n",
    "inside <- NA # Storage for those values inside the circle\n",
    "for(i in 1:nsamp){\n",
    "  x <- runif(2, -1, 1) ## Draw two values from uniform distribution (-1, 1)\n",
    "  if (sqrt(x[1] * x[1] + x[2] * x[2]) < 1) {\n",
    "    inside[i] <- 1; points(x[1], x[2], col = \"orange\")\n",
    "  }\n",
    "  if (sqrt(x[1] * x[1] + x[2] * x[2]) > 1) {\n",
    "    inside[i] <- 0; points(x[1], x[2], col = \"black\")\n",
    "  }\n",
    "}"
   ]
  },
  {
   "cell_type": "code",
   "execution_count": 5,
   "metadata": {
    "scrolled": true
   },
   "outputs": [
    {
     "data": {
      "text/plain": [
       "inside\n",
       "   0    1 \n",
       "2176 7824 "
      ]
     },
     "metadata": {},
     "output_type": "display_data"
    },
    {
     "data": {
      "text/html": [
       "3.1392"
      ],
      "text/latex": [
       "3.1392"
      ],
      "text/markdown": [
       "3.1392"
      ],
      "text/plain": [
       "[1] 3.1392"
      ]
     },
     "metadata": {},
     "output_type": "display_data"
    }
   ],
   "source": [
    "table(inside)\n",
    "4 * (7848 / 10000)"
   ]
  }
 ],
 "metadata": {
  "kernelspec": {
   "display_name": "R",
   "language": "R",
   "name": "ir"
  },
  "language_info": {
   "codemirror_mode": "r",
   "file_extension": ".r",
   "mimetype": "text/x-r-source",
   "name": "R",
   "pygments_lexer": "r",
   "version": "3.3.2"
  }
 },
 "nbformat": 4,
 "nbformat_minor": 2
}
