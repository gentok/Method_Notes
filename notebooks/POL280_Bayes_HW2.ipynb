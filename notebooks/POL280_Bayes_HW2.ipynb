{
 "cells": [
  {
   "cell_type": "markdown",
   "metadata": {},
   "source": [
    "# POL280 Bayesian Modeling Homework 2"
   ]
  },
  {
   "cell_type": "markdown",
   "metadata": {
    "collapsed": true
   },
   "source": [
    "### Gento Kato (May 25, 2017)\n",
    "\n",
    "---"
   ]
  },
  {
   "cell_type": "markdown",
   "metadata": {},
   "source": [
    "*Run a Bayesian linear model, assess convergence, and present results for a dataset of your choice.*\n",
    "\n",
    "---\n",
    "\n",
    "## 1. **Prepare Packages and Data**"
   ]
  },
  {
   "cell_type": "code",
   "execution_count": 1,
   "metadata": {},
   "outputs": [
    {
     "name": "stderr",
     "output_type": "stream",
     "text": [
      "Warning message:\n",
      "\"package 'rjags' was built under R version 3.3.3\"Loading required package: coda\n",
      "Linked to JAGS 4.2.0\n",
      "Loaded modules: basemod,bugs\n",
      "Warning message:\n",
      "\"package 'mcmcplots' was built under R version 3.3.3\"Loading required package: ggplot2\n"
     ]
    }
   ],
   "source": [
    "## Clear Workspace\n",
    "#rm(list=ls())\n",
    "## Load Packages\n",
    "library(rjags); library(mcmcplots); library(coefplot); library(ggplot2)\n",
    "## Load Data\n",
    "library(foreign)\n",
    "GLOPE05 = read.dta(\"../data/POL280/gl0507_150710.dta\")"
   ]
  },
  {
   "cell_type": "code",
   "execution_count": 2,
   "metadata": {},
   "outputs": [
    {
     "data": {
      "text/html": [
       "<ol class=list-inline>\n",
       "\t<li>1250</li>\n",
       "\t<li>13</li>\n",
       "</ol>\n"
      ],
      "text/latex": [
       "\\begin{enumerate*}\n",
       "\\item 1250\n",
       "\\item 13\n",
       "\\end{enumerate*}\n"
      ],
      "text/markdown": [
       "1. 1250\n",
       "2. 13\n",
       "\n",
       "\n"
      ],
      "text/plain": [
       "[1] 1250   13"
      ]
     },
     "metadata": {},
     "output_type": "display_data"
    }
   ],
   "source": [
    "## Subset and Extract Data in Use\n",
    "attach(GLOPE05)\n",
    "subdt <- as.data.frame(cbind(bknowall,DKrate,\n",
    "                             PAtohyox,PAtetsudaix,PAiraix,PAkoenx,PAtoinx,PAtoshienx,PAtegamix,PAyakushox,PAdemox,PAvolunteerx,PAjichikaix))\n",
    "subdt <- na.omit(subdt)\n",
    "detach(GLOPE05)\n",
    "GLOPE05 = subdt\n",
    "dim(GLOPE05)"
   ]
  },
  {
   "cell_type": "markdown",
   "metadata": {},
   "source": [
    "The <code>GLOPE05</code> data frame has 1250 rows and 13 columns. The observations are randomly sampled eligible voters in Japan, interviewed in 2005.\n",
    "\n",
    "This data frame contains the following columns:\n",
    " * **bknowall**: Respondent's level of political knowledge. Combined score from multiple factual questions, ranges from 0 through 3.\n",
    " * **DKrate**: Respondent's rate of don't know answers to all ** *attitudinal* ** questions in the survey.\n",
    " * **PAtohyox**: Trichotomous variable of voting participation (2 = participate often, 1 = participate sometimes, 0 = never participate)\n",
    " * **PAtetsudaix**: Trichotomous variable of helping electoral campaign (2 = participate often, 1 = participate sometimes, 0 = never participate)\n",
    " * **PAiraix**: Trichotomous variable of asking others to vote (2 = participate often, 1 = participate sometimes, 0 = never participate)\n",
    " * **PAkoenx**: Trichotomous variable of joining candidate support group, koenkai  (2 = participate often, 1 = participate sometimes, 0 = never participate)\n",
    " * **PAtoinx**: Trichotomous variable of joining political party (2 = participate often, 1 = participate sometimes, 0 = never participate)\n",
    " * **PAtoshienx**: Trichotomous variable of contributing to political party (2 = participate often, 1 = participate sometimes, 0 = never participate)\n",
    " * **PAtegamix**: Trichotomous variable of sending letters to politicians (2 = participate often, 1 = participate sometimes, 0 = never participate)\n",
    " * **PAyakushox**: Trichotomous variable of visit government offices (2 = participate often, 1 = participate sometimes, 0 = never participate)\n",
    " * **PAdemox**: Trichotomous variable of participating demostration (2 = participate often, 1 = participate sometimes, 0 = never participate)\n",
    " * **PAvolunteerx**: Trichotomous variable of participating volunteers (2 = participate often, 1 = participate sometimes, 0 = never participate)\n",
    " * **PAjichikaix**: Trichotomous variable of participating residential association activities (2 = participate often, 1 = participate sometimes, 0 = never participate)\n"
   ]
  },
  {
   "cell_type": "markdown",
   "metadata": {},
   "source": [
    "**Dependent Variable: Participation Level**\n",
    "\n",
    "In what follows I create the summary variable of participation, and make it a dependent variable:"
   ]
  },
  {
   "cell_type": "code",
   "execution_count": 3,
   "metadata": {},
   "outputs": [
    {
     "data": {
      "text/html": [
       "<dl class=dl-horizontal>\n",
       "\t<dt>PAtohyox</dt>\n",
       "\t\t<dd>-0.136276658611881</dd>\n",
       "\t<dt>PAtetsudaix</dt>\n",
       "\t\t<dd>-0.336172782247948</dd>\n",
       "\t<dt>PAiraix</dt>\n",
       "\t\t<dd>-0.286758666284263</dd>\n",
       "\t<dt>PAkoenx</dt>\n",
       "\t\t<dd>-0.284415828151495</dd>\n",
       "\t<dt>PAtoinx</dt>\n",
       "\t\t<dd>-0.170036985850381</dd>\n",
       "\t<dt>PAtoshienx</dt>\n",
       "\t\t<dd>-0.237337478490513</dd>\n",
       "\t<dt>PAtegamix</dt>\n",
       "\t\t<dd>-0.197489802368233</dd>\n",
       "\t<dt>PAyakushox</dt>\n",
       "\t\t<dd>-0.370564042538305</dd>\n",
       "\t<dt>PAdemox</dt>\n",
       "\t\t<dd>-0.229388929313714</dd>\n",
       "\t<dt>PAvolunteerx</dt>\n",
       "\t\t<dd>-0.460649444106687</dd>\n",
       "\t<dt>PAjichikaix</dt>\n",
       "\t\t<dd>-0.422983284112317</dd>\n",
       "</dl>\n"
      ],
      "text/latex": [
       "\\begin{description*}\n",
       "\\item[PAtohyox] -0.136276658611881\n",
       "\\item[PAtetsudaix] -0.336172782247948\n",
       "\\item[PAiraix] -0.286758666284263\n",
       "\\item[PAkoenx] -0.284415828151495\n",
       "\\item[PAtoinx] -0.170036985850381\n",
       "\\item[PAtoshienx] -0.237337478490513\n",
       "\\item[PAtegamix] -0.197489802368233\n",
       "\\item[PAyakushox] -0.370564042538305\n",
       "\\item[PAdemox] -0.229388929313714\n",
       "\\item[PAvolunteerx] -0.460649444106687\n",
       "\\item[PAjichikaix] -0.422983284112317\n",
       "\\end{description*}\n"
      ],
      "text/markdown": [
       "PAtohyox\n",
       ":   -0.136276658611881PAtetsudaix\n",
       ":   -0.336172782247948PAiraix\n",
       ":   -0.286758666284263PAkoenx\n",
       ":   -0.284415828151495PAtoinx\n",
       ":   -0.170036985850381PAtoshienx\n",
       ":   -0.237337478490513PAtegamix\n",
       ":   -0.197489802368233PAyakushox\n",
       ":   -0.370564042538305PAdemox\n",
       ":   -0.229388929313714PAvolunteerx\n",
       ":   -0.460649444106687PAjichikaix\n",
       ":   -0.422983284112317\n",
       "\n"
      ],
      "text/plain": [
       "    PAtohyox  PAtetsudaix      PAiraix      PAkoenx      PAtoinx   PAtoshienx \n",
       "  -0.1362767   -0.3361728   -0.2867587   -0.2844158   -0.1700370   -0.2373375 \n",
       "   PAtegamix   PAyakushox      PAdemox PAvolunteerx  PAjichikaix \n",
       "  -0.1974898   -0.3705640   -0.2293889   -0.4606494   -0.4229833 "
      ]
     },
     "metadata": {},
     "output_type": "display_data"
    }
   ],
   "source": [
    "pcaPAdt <- prcomp(GLOPE05[,-c(1,2)]) ## Conduct PCA \n",
    "pcaPAdt$rotation[,1] ## Show loadings for the first component"
   ]
  },
  {
   "cell_type": "markdown",
   "metadata": {},
   "source": [
    "Since all the participation variables have negative loadings over the first component, I flip the sign of first component to create \"Participation level\" (=<code>PAlev</code>) variable."
   ]
  },
  {
   "cell_type": "code",
   "execution_count": 4,
   "metadata": {},
   "outputs": [
    {
     "data": {
      "image/png": "[encoded data removed]",
      "text/plain": [
       "Plot with title \"Histogram of \n",
       "Participation Level\""
      ]
     },
     "metadata": {},
     "output_type": "display_data"
    }
   ],
   "source": [
    "GLOPE05$palev = -pcaPAdt$x[,1]\n",
    "options(repr.plot.width=4, repr.plot.height=3)\n",
    "hist(GLOPE05$palev, main = \"Histogram of \\nParticipation Level\")"
   ]
  },
  {
   "cell_type": "markdown",
   "metadata": {},
   "source": [
    "**Independent Variables:**\n",
    "\n",
    "Factual Political Knowledge Level (Standardize the original score to 0-1 range):"
   ]
  },
  {
   "cell_type": "code",
   "execution_count": 5,
   "metadata": {},
   "outputs": [
    {
     "data": {
      "image/png": "[encoded data removed]",
      "text/plain": [
       "Plot with title \"Histogram of Factual \n",
       "Political Knowledge\""
      ]
     },
     "metadata": {},
     "output_type": "display_data"
    }
   ],
   "source": [
    "GLOPE05$factknow = GLOPE05$bknowall/3\n",
    "options(repr.plot.width=4, repr.plot.height=3)\n",
    "hist(GLOPE05$factknow, main = \"Histogram of Factual \\nPolitical Knowledge\")"
   ]
  },
  {
   "cell_type": "markdown",
   "metadata": {},
   "source": [
    "DK tendency (since the original distribution of DK rate is skewed, I use square root for the analysis): \n"
   ]
  },
  {
   "cell_type": "code",
   "execution_count": 6,
   "metadata": {
    "scrolled": false
   },
   "outputs": [
    {
     "data": {
      "image/png": "[encoded data removed]",
      "text/plain": [
       "Plot with title \"Histogram of \n",
       "sqrt(Attitudinal DK Rate)\""
      ]
     },
     "metadata": {},
     "output_type": "display_data"
    }
   ],
   "source": [
    "GLOPE05$dktend <- sqrt(GLOPE05$DKrate)\n",
    "options(repr.plot.width=4, repr.plot.height=3)\n",
    "hist(GLOPE05$dktend, main = \"Histogram of \\nsqrt(Attitudinal DK Rate)\")"
   ]
  },
  {
   "cell_type": "markdown",
   "metadata": {},
   "source": [
    "The genral expectations are:\n",
    " 1. Higher Factual Knowledge $\\Rightarrow$ More Participation.\n",
    " 2. Larger Amount Don't Know towards Attitudinal Questions $\\Rightarrow$ Less Participation."
   ]
  },
  {
   "cell_type": "markdown",
   "metadata": {},
   "source": [
    "## 2. **Run Frequentist Linear Regression**\n",
    "\n",
    "Using <code>lm</code> model, and export coefficient plot:"
   ]
  },
  {
   "cell_type": "code",
   "execution_count": 7,
   "metadata": {},
   "outputs": [
    {
     "name": "stderr",
     "output_type": "stream",
     "text": [
      "Warning message:\n",
      "\"Ignoring unknown aesthetics: xmin, xmax\""
     ]
    },
    {
     "data": {},
     "metadata": {},
     "output_type": "display_data"
    },
    {
     "data": {
      "image/png": "[encoded data removed]",
      "text/plain": [
       "plot without title"
      ]
     },
     "metadata": {},
     "output_type": "display_data"
    }
   ],
   "source": [
    "## OLS Prediction of Frequentist Model\n",
    "ols <- lm(palev ~ factknow + dktend, data=GLOPE05)\n",
    "#summary(ols) ## Predicting Morality by Heterogeneity and Mobility\n",
    "options(repr.plot.width=6, repr.plot.height=4)\n",
    "coefplot(ols, title = NULL, decreasing = TRUE, innerCI = 1.96, outerCI = 0)"
   ]
  },
  {
   "cell_type": "code",
   "execution_count": 20,
   "metadata": {
    "scrolled": true
   },
   "outputs": [
    {
     "data": {},
     "metadata": {},
     "output_type": "display_data"
    },
    {
     "data": {
      "image/png": "[encoded data removed]",
      "text/plain": [
       "plot without title"
      ]
     },
     "metadata": {},
     "output_type": "display_data"
    }
   ],
   "source": [
    "source(\"https://raw.githubusercontent.com/gentok/Method_Notes/master/sources/plot_coef.R\")\n",
    "source(\"https://raw.githubusercontent.com/gentok/Method_Notes/master/sources/gktheme.R\")\n",
    "plot_coef(ols)"
   ]
  },
  {
   "cell_type": "markdown",
   "metadata": {},
   "source": [
    "In frequentist linear regression, the expectations are generally confirmed. More factually informed individuals have higher level of political participation, and respondents with higher don't know answer rate have lower level of political participation. 95% confidence interval for both variables do not cross zero, therefore, if these parameter values are zero in truth, there are less than 5% probability that this data is generated."
   ]
  },
  {
   "cell_type": "markdown",
   "metadata": {},
   "source": [
    "## 3. **Run Bayesian Linear Regression Model**\n",
    "\n",
    "**JAGS code for Linear Regression**\n",
    "\n",
    "VERY uninformative prior for coefficients (Uniform distribution in the range between -1000 and 1000)"
   ]
  },
  {
   "cell_type": "code",
   "execution_count": 182,
   "metadata": {
    "collapsed": true
   },
   "outputs": [],
   "source": [
    "glope.model <- \"model{\n",
    "for(i in 1:N){\n",
    "palev[i] ~ dnorm(mu[i], tau)\n",
    "mu[i] <- alpha + beta1 * factknow[i] + beta2 * dktend[i]\n",
    "}\n",
    "alpha ~ dunif(-1000, 1000)\n",
    "beta1 ~ dunif(-1000, 1000)\n",
    "beta2 ~ dunif(-1000, 1000)\n",
    "tau ~ dgamma(.1, .1)\n",
    "}\"\n",
    "## VERY uninformative priors of parameters."
   ]
  },
  {
   "cell_type": "markdown",
   "metadata": {},
   "source": [
    "**Prepare data for JAGS**"
   ]
  },
  {
   "cell_type": "code",
   "execution_count": 183,
   "metadata": {},
   "outputs": [],
   "source": [
    "## Prepare Data\n",
    "palev <- GLOPE05$palev ## DV\n",
    "factknow <- GLOPE05$factknow ## IV 1\n",
    "dktend <- GLOPE05$dktend ## IV 2\n",
    "N <- length(palev) ## The sample size of data \n",
    "\n",
    "#Set of Parameters\n",
    "glope.params <- c(\"alpha\", \"beta1\", \"beta2\")\n",
    "\n",
    "## Set Starting Values\n",
    "glope.inits <- function(){\n",
    "list(\"alpha\" = rnorm(1,20,1), \"beta1\" = rnorm(1), \"beta2\" = rnorm(1))\n",
    "}"
   ]
  },
  {
   "cell_type": "markdown",
   "metadata": {},
   "source": [
    "**Execute Bayesian Linear Model**"
   ]
  },
  {
   "cell_type": "code",
   "execution_count": 184,
   "metadata": {},
   "outputs": [
    {
     "name": "stdout",
     "output_type": "stream",
     "text": [
      "Compiling model graph\n",
      "   Resolving undeclared variables\n",
      "   Allocating nodes\n",
      "Graph information:\n",
      "   Observed stochastic nodes: 1250\n",
      "   Unobserved stochastic nodes: 4\n",
      "   Total graph size: 4436\n",
      "\n",
      "Initializing model\n",
      "\n"
     ]
    }
   ],
   "source": [
    "glope.fit <- jags.model(textConnection(glope.model),\n",
    "data = list(palev=palev, factknow=factknow, dktend=dktend, N=N),\n",
    "inits = glope.inits, n.chains = 2, n.adapt = 10000)"
   ]
  },
  {
   "cell_type": "code",
   "execution_count": 185,
   "metadata": {
    "collapsed": true
   },
   "outputs": [],
   "source": [
    "samples <- coda.samples(glope.fit, glope.params, n.iter=5000, thin=5)\n",
    "# thin: Just extracting every 5th observation in each iteration"
   ]
  },
  {
   "cell_type": "code",
   "execution_count": 186,
   "metadata": {},
   "outputs": [
    {
     "data": {
      "text/plain": [
       "[[1]]\n",
       "Markov Chain Monte Carlo (MCMC) output:\n",
       "Start = 10005 \n",
       "End = 10035 \n",
       "Thinning interval = 5 \n",
       "           alpha     beta1     beta2\n",
       "[1,]  0.30216918 0.4552644 -2.092329\n",
       "[2,]  0.25155394 0.5234288 -1.952976\n",
       "[3,]  0.15809171 0.5911711 -1.814662\n",
       "[4,]  0.17588875 0.5725553 -1.567344\n",
       "[5,] -0.02222493 0.6834728 -1.196610\n",
       "[6,]  0.11538278 0.5815896 -1.541068\n",
       "[7,]  0.19148031 0.4390423 -1.847272\n",
       "\n",
       "[[2]]\n",
       "Markov Chain Monte Carlo (MCMC) output:\n",
       "Start = 10005 \n",
       "End = 10035 \n",
       "Thinning interval = 5 \n",
       "          alpha     beta1     beta2\n",
       "[1,] 0.07296648 0.6468823 -1.613581\n",
       "[2,] 0.03548988 0.7920375 -1.369281\n",
       "[3,] 0.11180350 0.4539420 -1.653616\n",
       "[4,] 0.04467803 0.6370735 -1.663023\n",
       "[5,] 0.04969612 0.5929411 -1.574663\n",
       "[6,] 0.11342372 0.5794432 -1.476459\n",
       "[7,] 0.08750475 0.5702929 -1.539271\n",
       "\n",
       "attr(,\"class\")\n",
       "[1] \"mcmc.list\""
      ]
     },
     "metadata": {},
     "output_type": "display_data"
    }
   ],
   "source": [
    "head(samples) ## Check Inside"
   ]
  },
  {
   "cell_type": "markdown",
   "metadata": {},
   "source": [
    "Rows represent extracted samples, columns represent parameters"
   ]
  },
  {
   "cell_type": "code",
   "execution_count": 187,
   "metadata": {},
   "outputs": [
    {
     "data": {
      "text/plain": [
       "\n",
       "Iterations = 10005:15000\n",
       "Thinning interval = 5 \n",
       "Number of chains = 2 \n",
       "Sample size per chain = 1000 \n",
       "\n",
       "1. Empirical mean and standard deviation for each variable,\n",
       "   plus standard error of the mean:\n",
       "\n",
       "         Mean      SD Naive SE Time-series SE\n",
       "alpha  0.1763 0.09967 0.002229       0.004231\n",
       "beta1  0.4859 0.17485 0.003910       0.006624\n",
       "beta2 -1.7611 0.23745 0.005310       0.008176\n",
       "\n",
       "2. Quantiles for each variable:\n",
       "\n",
       "          2.5%     25%     50%     75%   97.5%\n",
       "alpha -0.01732  0.1095  0.1738  0.2451  0.3756\n",
       "beta1  0.16263  0.3626  0.4778  0.6021  0.8397\n",
       "beta2 -2.22255 -1.9170 -1.7623 -1.5954 -1.2850\n"
      ]
     },
     "metadata": {},
     "output_type": "display_data"
    }
   ],
   "source": [
    "summary(samples)"
   ]
  },
  {
   "cell_type": "code",
   "execution_count": 203,
   "metadata": {},
   "outputs": [
    {
     "data": {
      "text/html": [
       "<dl class=dl-horizontal>\n",
       "\t<dt>2.5%</dt>\n",
       "\t\t<dd>-2.22255270362984</dd>\n",
       "\t<dt>97.5%</dt>\n",
       "\t\t<dd>-1.28504367637684</dd>\n",
       "</dl>\n"
      ],
      "text/latex": [
       "\\begin{description*}\n",
       "\\item[2.5\\textbackslash{}\\%] -2.22255270362984\n",
       "\\item[97.5\\textbackslash{}\\%] -1.28504367637684\n",
       "\\end{description*}\n"
      ],
      "text/markdown": [
       "2.5%\n",
       ":   -2.2225527036298497.5%\n",
       ":   -1.28504367637684\n",
       "\n"
      ],
      "text/plain": [
       "     2.5%     97.5% \n",
       "-2.222553 -1.285044 "
      ]
     },
     "metadata": {},
     "output_type": "display_data"
    }
   ],
   "source": [
    "## Put results into the data frame\n",
    "#all <- as.data.frame(do.call(rbind, samples))\n",
    "#quantile(all$beta2, probs = c(0.025,0.975))"
   ]
  },
  {
   "cell_type": "markdown",
   "metadata": {},
   "source": [
    "Caterplot"
   ]
  },
  {
   "cell_type": "code",
   "execution_count": 208,
   "metadata": {},
   "outputs": [
    {
     "data": {
      "image/png": "[encoded data removed]",
      "text/plain": [
       "plot without title"
      ]
     },
     "metadata": {},
     "output_type": "display_data"
    }
   ],
   "source": [
    "caterplot(samples, parms = c(\"alpha\", \"beta1\", \"beta2\"), collapse = FALSE,\n",
    "          labels = c( \"Constant\", \"Factual Knowledge\", \"DK Tendency\"), labels.loc = \"above\", \n",
    "          quantiles = list(inner=c(0.025,0.975)))"
   ]
  },
  {
   "cell_type": "markdown",
   "metadata": {},
   "source": [
    "The result from catapillar plot shows two coefficients from each chains of estimation. The observation is almost identical to the ones from frequentist regression. For both factual knowledge and DK tendency, participation level changes in the expected direction, and credible intervals do not cross zero. However, now we can interpret the result more simply. Given that 95% credible intervals do not cross zero, there are less than 5% chance that the given parameter values are zero."
   ]
  },
  {
   "cell_type": "markdown",
   "metadata": {},
   "source": [
    "## 4. **Assess Bayesian Linear Regression Model**\n",
    "\n",
    "**Plot Convergence Process**"
   ]
  },
  {
   "cell_type": "code",
   "execution_count": 112,
   "metadata": {},
   "outputs": [
    {
     "data": {
      "image/png": "[encoded data removed]",
      "text/plain": [
       "Plot with title \"Density of beta2\""
      ]
     },
     "metadata": {},
     "output_type": "display_data"
    }
   ],
   "source": [
    "options(repr.plot.width=7, repr.plot.height=7)\n",
    "plot(samples) "
   ]
  },
  {
   "cell_type": "markdown",
   "metadata": {},
   "source": [
    "The above trace and density plots indicate that the process converges quite well. From trace plots, estimated coefficient sizes stays almost constant for all of variables (including constant), and there is no sign of systematic deviation from the constant level. Also, there seems no sign of systematic difference between red and black chains of estimation. From density plots, it can be seen that estimated coefficients are distributed almost normally around their means.\n",
    "\n",
    "**Check Auto Correlation**"
   ]
  },
  {
   "cell_type": "code",
   "execution_count": 118,
   "metadata": {
    "scrolled": false
   },
   "outputs": [
    {
     "data": {
      "image/png": "[encoded data removed]",
      "text/plain": [
       "Plot with title \"beta2\""
      ]
     },
     "metadata": {},
     "output_type": "display_data"
    },
    {
     "data": {
      "image/png": "[encoded data removed]",
      "text/plain": [
       "Plot with title \"beta2\""
      ]
     },
     "metadata": {},
     "output_type": "display_data"
    }
   ],
   "source": [
    "options(repr.plot.width=7, repr.plot.height=3)\n",
    "par(mfrow=c(1,3))\n",
    "autocorr.plot(samples, auto.layout = FALSE)"
   ]
  },
  {
   "cell_type": "markdown",
   "metadata": {},
   "source": [
    "In the above auto-correlation plots, the level of autocorrelation declines as the size of lag increases. This confirms the expectation.\n",
    "\n",
    "**Geweke Diagnostics**"
   ]
  },
  {
   "cell_type": "code",
   "execution_count": 119,
   "metadata": {},
   "outputs": [
    {
     "data": {
      "text/plain": [
       "[[1]]\n",
       "\n",
       "Fraction in 1st window = 0.1\n",
       "Fraction in 2nd window = 0.5 \n",
       "\n",
       " alpha  beta1  beta2 \n",
       " 1.842 -2.338 -1.962 \n",
       "\n",
       "\n",
       "[[2]]\n",
       "\n",
       "Fraction in 1st window = 0.1\n",
       "Fraction in 2nd window = 0.5 \n",
       "\n",
       " alpha  beta1  beta2 \n",
       "-1.800  1.438  1.676 \n",
       "\n"
      ]
     },
     "metadata": {},
     "output_type": "display_data"
    }
   ],
   "source": [
    "geweke.diag(samples)"
   ]
  },
  {
   "cell_type": "markdown",
   "metadata": {},
   "source": [
    "The values from Geweke diagnostics are t-values. From the output, it can be seen that alpha values in both chains converges well, in that the difference between last 50% and last 10% of simulations is not statistically significant ($< 1.96$). In the second chain, the Geweke diagnostic shows sign of convergence ($<1.96$) for two other parameters. On the other hand, for the first chain, the Geweke diagnostics for both beta 1 and beta 2 slightly exceed 1.96. This implies that the estimated coefficient may not be reaching the stable state. More iteration may be needed to make sure that the coefficients converge well.\n",
    "\n",
    "**Gelman-Rubin Diagnostic Plot**"
   ]
  },
  {
   "cell_type": "code",
   "execution_count": 129,
   "metadata": {},
   "outputs": [
    {
     "data": {
      "image/png": "[encoded data removed]",
      "text/plain": [
       "Plot with title \"beta2\""
      ]
     },
     "metadata": {},
     "output_type": "display_data"
    }
   ],
   "source": [
    "options(repr.plot.width=8, repr.plot.height=3.5)\n",
    "par(mfrow=c(1,3))\n",
    "gelman.plot(samples, auto.layout = FALSE)"
   ]
  },
  {
   "cell_type": "markdown",
   "metadata": {},
   "source": [
    "The above plot shows that the shrink factor goes below the poiint 1.1 after some points between 12000 and 13000 iterations, and stays below that points. It indicates that the difference in variance of two chains get sufficiently small in those interation stages, and we can be quite confident to say that the estimation is converged. "
   ]
  }
 ],
 "metadata": {
  "kernelspec": {
   "display_name": "R",
   "language": "R",
   "name": "ir"
  },
  "language_info": {
   "codemirror_mode": "r",
   "file_extension": ".r",
   "mimetype": "text/x-r-source",
   "name": "R",
   "pygments_lexer": "r",
   "version": "3.3.2"
  }
 },
 "nbformat": 4,
 "nbformat_minor": 2
}
