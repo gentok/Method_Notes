{
 "cells": [
  {
   "cell_type": "markdown",
   "metadata": {},
   "source": [
    "# POL280 Bayesian Modeling Homework 1"
   ]
  },
  {
   "cell_type": "markdown",
   "metadata": {
    "collapsed": true
   },
   "source": [
    "### Gento Kato (May 2, 2017)\n",
    "\n",
    "---"
   ]
  },
  {
   "cell_type": "markdown",
   "metadata": {},
   "source": [
    "## Q1\n",
    "*Use the Gamma-Poisson conjugate speciﬁcation to analyze data on the number of presidential appointments from 1960 to 2000. The data are in the ﬁle called **appointments.dta** in the Dropbox folder.*\n",
    "\n",
    "---"
   ]
  },
  {
   "cell_type": "markdown",
   "metadata": {},
   "source": [
    "To start with, it is shown in the class that $gamma(\\alpha, \\beta)$ prior distribution and poisson likelihood produces $gamma(\\alpha + \\Sigma y, \\beta + n)$ posterior distribution, as follows:  \n",
    "\n",
    "* **Gamma (Prior) - Poisson (Likelihood) $\\Rightarrow$ Gamma Posterior**\n",
    "\n",
    "\\begin{align}\n",
    "\\mbox{Prior Distribution} = \\mbox{Gamma}(\\alpha, \\beta) &= \\frac{\\beta^{\\alpha}}{\\Gamma (\\alpha)} \\theta^{\\alpha-1} e^{- \\beta \\theta} \\\\\n",
    "\\mbox{Poisson PMF } &= p(y | \\theta) = \\frac{e^{-\\theta} \\theta^{y_i}}{y_i !} \\\\\n",
    "\\mbox{Poisson Likelihood } &= \\mathit{L}(\\theta | y) = \\hat{\\Pi}_{i=1}^n \\frac{e^{-\\theta} \\theta^{y_i}}{y_i !} \\\\\n",
    "&= \\frac{e^{-\\theta n} \\theta^{\\sum_{i=1}^{n} y_i} }{y_1 ! y_2 ! \\dots y_n !} \\\\\n",
    "\\mbox{Posterior Distribution } \\pi(\\theta | y) &\\propto \\frac{\\beta^{\\alpha}}{\\Gamma (\\alpha)} \\theta^{\\alpha-1} e^{- \\beta \\theta} \\times \\frac{e^{-\\theta n} \\theta^{\\sum_{i=1}^{n} y_i} }{y_1 ! y_2 ! \\dots y_n !} \\\\\n",
    "&\\propto \\theta^{\\alpha - 1 + \\Sigma y} e^{- \\theta (\\beta + n)} \\\\\n",
    "&\\propto \\mbox{Gamma }(\\alpha + \\Sigma y, \\beta + n)\n",
    "\\end{align}"
   ]
  },
  {
   "cell_type": "markdown",
   "metadata": {},
   "source": [
    "Now, the observed posterior value from <code>appointments.dta</code> can be extracted as follows:"
   ]
  },
  {
   "cell_type": "code",
   "execution_count": 94,
   "metadata": {
    "scrolled": true
   },
   "outputs": [
    {
     "data": {
      "text/html": [
       "<ol class=list-inline>\n",
       "\t<li>2</li>\n",
       "\t<li>3</li>\n",
       "\t<li>3</li>\n",
       "\t<li>2</li>\n",
       "\t<li>0</li>\n",
       "\t<li>1</li>\n",
       "\t<li>2</li>\n",
       "\t<li>1</li>\n",
       "\t<li>2</li>\n",
       "\t<li>1</li>\n",
       "</ol>\n"
      ],
      "text/latex": [
       "\\begin{enumerate*}\n",
       "\\item 2\n",
       "\\item 3\n",
       "\\item 3\n",
       "\\item 2\n",
       "\\item 0\n",
       "\\item 1\n",
       "\\item 2\n",
       "\\item 1\n",
       "\\item 2\n",
       "\\item 1\n",
       "\\end{enumerate*}\n"
      ],
      "text/markdown": [
       "1. 2\n",
       "2. 3\n",
       "3. 3\n",
       "4. 2\n",
       "5. 0\n",
       "6. 1\n",
       "7. 2\n",
       "8. 1\n",
       "9. 2\n",
       "10. 1\n",
       "\n",
       "\n"
      ],
      "text/plain": [
       " [1] 2 3 3 2 0 1 2 1 2 1"
      ]
     },
     "metadata": {},
     "output_type": "display_data"
    }
   ],
   "source": [
    "library(foreign)\n",
    "appdta <- read.dta(\"../data/POL280/appointments.dta\") ## Open Data\n",
    "y <- appdta$appoints ; y ## Store observed y"
   ]
  },
  {
   "cell_type": "markdown",
   "metadata": {},
   "source": [
    "Then, using R function <code>rgamma(alpha, beta)</code>, we can create function to produce posterior distribution:"
   ]
  },
  {
   "cell_type": "code",
   "execution_count": 95,
   "metadata": {},
   "outputs": [],
   "source": [
    "posterior <- function(sample, y, alpha, beta){\n",
    "    n = length(y); sigmay = sum(y) \n",
    "    # n is y's sample size, sigmay is the sum of all y values\n",
    "    return(rgamma(sample, alpha+sigmay, beta+n)) \n",
    "    # generate posterior distribution from prior's parameters\n",
    "}"
   ]
  },
  {
   "cell_type": "markdown",
   "metadata": {},
   "source": [
    "I will use the above function in Q3 and Q4."
   ]
  },
  {
   "cell_type": "markdown",
   "metadata": {},
   "source": [
    "## Q2\n",
    "*The posterior distribution for $\\theta$ is $gamma(\\delta_1, \\delta_2)$ according to some parameters $\\delta_1$ and $\\delta_2$, which of course depend on your choice of the parameters for the gamma prior. You should model $\\theta$ using two sets of priors: one which speciﬁes a great deal of certainty regarding your best guess as to the value of $\\theta$ and one that represents ignorance regarding this value. *\n",
    "\n",
    "---"
   ]
  },
  {
   "cell_type": "markdown",
   "metadata": {},
   "source": [
    "Before turning to the analysis, for the gamma distribution specification in Q1, the mean and variance of the distribution are defined as follows:\n",
    "\n",
    "\\begin{align}\n",
    "Mean\\left[gamma(\\alpha, \\beta)\\right] &= \\frac{\\alpha}{\\beta}\\\\\n",
    "Var\\left[gamma(\\alpha, \\beta)\\right] &= \\frac{\\alpha}{\\beta^2}\\\\\n",
    "\\end{align}\n",
    "\n",
    "Now, suppose that there are two prior belief gamma distribution with the same mean (let's say 5), but different variance (certainty), as follows:\n",
    "\n",
    "\\begin{align}\n",
    "\\mbox{Prior 1 (ignorant): Mean } &= \\frac{\\alpha}{\\beta} = \\frac{5}{1} = 5 \\\\\n",
    "\\mbox{Variance } &= \\frac{\\alpha}{\\beta^2} = \\frac{5}{1} = 5\\\\\n",
    "\\mbox{Prior 2 (certain): Mean } &= \\frac{\\alpha}{\\beta} = \\frac{50}{10} = 5 \\\\\n",
    "\\mbox{Variance } &= \\frac{\\alpha}{\\beta^2} = \\frac{50}{100} = \\frac{1}{2}\n",
    "\\end{align}\n",
    "\n",
    "We can generate those two prior distributions in R as follows"
   ]
  },
  {
   "cell_type": "code",
   "execution_count": null,
   "metadata": {
    "collapsed": true
   },
   "outputs": [],
   "source": [
    "## Set Alpha and Betas\n",
    "a1 = 5; b1 = 1 ## Ignorant\n",
    "a2 = 50; b2 = 10 ## Certain\n",
    "\n",
    "## Generate Prior distribution\n",
    "set.seed(27674) # Make this replicable\n",
    "prior1 <- rgamma(10000, a1, b1) # Ignorant\n",
    "prior2 <- rgamma(10000, a2, b2) # Certain\n",
    "\n",
    "## Check Result\n",
    "paste(\"For prior 1, mean is \", round(mean(prior1),2), \n",
    "      \", variance is \", round(var(prior1),2))\n",
    "paste(\"For prior 2, mean is \", round(mean(prior2),2), \n",
    "      \", variance is \", round(var(prior2),2))"
   ]
  },
  {
   "cell_type": "markdown",
   "metadata": {},
   "source": [
    "Now, the above two distributions can be plotted as follows:"
   ]
  },
  {
   "cell_type": "code",
   "execution_count": 103,
   "metadata": {},
   "outputs": [],
   "source": [
    "library(ggplot2);\n",
    "source(\"https://raw.githubusercontent.com/gentok/Method_Notes/master/sources/gktheme.R\")\n",
    "\n",
    "bayesdata <- data.frame(prior1 = prior1, prior2 = prior2) \n",
    "\n",
    "## Plot Result ##\n",
    "bgraph <- ggplot(bayesdata) + gktheme +\n",
    "    geom_density(aes(prior1, fill=\"1\"), alpha = 0.5, size=0.5) +   \n",
    "    geom_density(aes(prior2, fill=\"2\"), alpha = 0.5, size=0.5) +   \n",
    "    scale_y_continuous(limits=c(0,0.6),breaks=c(0,0.2,0.4,0.6))+\n",
    "    scale_x_continuous(limits=c(0,16.03),breaks=c(0,2.5,5,7.5,10,12.5,15))+\n",
    "    scale_linetype_manual(name=\"Gamma Parameters\",values=c(1,2), \n",
    "      labels = c(expression(paste(\"1. Ignorant: \", alpha == 5, \"; \" , beta == 1)),\n",
    "                 expression(paste(\"2. Certain: \", alpha == 50, \"; \" , beta == 10))))+\n",
    "    scale_fill_manual(name=\"Gamma Parameters\",values=c(1,2), \n",
    "      labels = c(expression(paste(\"1. Ignorant: \", alpha == 5, \"; \" , beta == 1)),\n",
    "                 expression(paste(\"2. Certain: \", alpha == 50, \"; \" , beta == 10))))+\n",
    "    xlab(\"Prior Belief\")+\n",
    "    ylab(\"Density\")+\n",
    "    ggtitle(\"Prior Distributions by Different Parameters\")+\n",
    "    theme(legend.position = \"right\")"
   ]
  },
  {
   "cell_type": "code",
   "execution_count": 104,
   "metadata": {},
   "outputs": [
    {
     "data": {},
     "metadata": {},
     "output_type": "display_data"
    },
    {
     "data": {
      "image/png": "[encoded data removed]",
      "text/plain": [
       "plot without title"
      ]
     },
     "metadata": {},
     "output_type": "display_data"
    }
   ],
   "source": [
    "options(repr.plot.width=7, repr.plot.height=3.5)\n",
    "bgraph"
   ]
  },
  {
   "cell_type": "markdown",
   "metadata": {},
   "source": [
    "## Q3\n",
    "*Generate a large number of values from this distribution in **R**, say 10, 000 or so, using the command:*\n",
    "\n",
    "**posterior.sample <- rgamma(10000,d1,d2)**\n",
    "\n",
    "---"
   ]
  },
  {
   "cell_type": "markdown",
   "metadata": {},
   "source": [
    "Note that in Q1, I created following objects:\n",
    "\n",
    " * <code>y</code> variable, which is number of appointments by each president.\n",
    " * <code>posterior</code> function, to generate posterior distribution from gamma prior parameters and poisson likelihood\n",
    " \n",
    "<code>posterior</code> function utilizes <code>rgamma</code>, so those two functions are essentially the same. Therefore, I use <code>posterior</code> function to generate posterior distribution, as follows:"
   ]
  },
  {
   "cell_type": "code",
   "execution_count": 98,
   "metadata": {},
   "outputs": [],
   "source": [
    "set.seed(8900786) # Make this replicable\n",
    "#posterior(y, alpha, beta) ## Alpha and Beta from prior distribution\n",
    "posterior1 <- posterior(10000, y, a1, b1)\n",
    "posterior2 <- posterior(10000, y, a2, b2)"
   ]
  },
  {
   "cell_type": "markdown",
   "metadata": {},
   "source": [
    "## Q4\n",
    "\n",
    "Summarize the posteriors with quantities of interest such as means, medians, and\n",
    "variances. Also supply plots of the density of the posterior distributions.\n",
    "\n",
    "---"
   ]
  },
  {
   "cell_type": "markdown",
   "metadata": {},
   "source": [
    "Before starting the analysis, note that mean, median and variance of observed y is shown as follows:"
   ]
  },
  {
   "cell_type": "code",
   "execution_count": 99,
   "metadata": {},
   "outputs": [
    {
     "data": {
      "text/html": [
       "<span style=white-space:pre-wrap>'For observed y, mean is  1.7 , median is  2 , variance is  0.9'</span>"
      ],
      "text/latex": [
       "'For observed y, mean is  1.7 , median is  2 , variance is  0.9'"
      ],
      "text/markdown": [
       "<span style=white-space:pre-wrap>'For observed y, mean is  1.7 , median is  2 , variance is  0.9'</span>"
      ],
      "text/plain": [
       "[1] \"For observed y, mean is  1.7 , median is  2 , variance is  0.9\""
      ]
     },
     "metadata": {},
     "output_type": "display_data"
    }
   ],
   "source": [
    "paste(\"For observed y, mean is \", round(mean(y),2), \n",
    "      \", median is \", round(median(y),2), \n",
    "      \", variance is \", round(var(y),2))"
   ]
  },
  {
   "cell_type": "markdown",
   "metadata": {},
   "source": [
    "Now the characteristics of posterior distribution can be extracted as follows:"
   ]
  },
  {
   "cell_type": "code",
   "execution_count": 100,
   "metadata": {
    "scrolled": true
   },
   "outputs": [
    {
     "data": {
      "text/html": [
       "<span style=white-space:pre-wrap>'For posterior 1, mean is  2 , median is  1.96 , variance is  0.18'</span>"
      ],
      "text/latex": [
       "'For posterior 1, mean is  2 , median is  1.96 , variance is  0.18'"
      ],
      "text/markdown": [
       "<span style=white-space:pre-wrap>'For posterior 1, mean is  2 , median is  1.96 , variance is  0.18'</span>"
      ],
      "text/plain": [
       "[1] \"For posterior 1, mean is  2 , median is  1.96 , variance is  0.18\""
      ]
     },
     "metadata": {},
     "output_type": "display_data"
    },
    {
     "data": {
      "text/html": [
       "<span style=white-space:pre-wrap>'For posterior 2, mean is  3.35 , median is  3.33 , variance is  0.17'</span>"
      ],
      "text/latex": [
       "'For posterior 2, mean is  3.35 , median is  3.33 , variance is  0.17'"
      ],
      "text/markdown": [
       "<span style=white-space:pre-wrap>'For posterior 2, mean is  3.35 , median is  3.33 , variance is  0.17'</span>"
      ],
      "text/plain": [
       "[1] \"For posterior 2, mean is  3.35 , median is  3.33 , variance is  0.17\""
      ]
     },
     "metadata": {},
     "output_type": "display_data"
    }
   ],
   "source": [
    "## Check Result\n",
    "paste(\"For posterior 1, mean is \", round(mean(posterior1),2), \n",
    "      \", median is \", round(median(posterior1),2), \n",
    "      \", variance is \", round(var(posterior1),2))\n",
    "paste(\"For posterior 2, mean is \", round(mean(posterior2),2), \n",
    "      \", median is \", round(median(posterior2),2), \n",
    "      \", variance is \", round(var(posterior2),2))"
   ]
  },
  {
   "cell_type": "markdown",
   "metadata": {},
   "source": [
    "From the above result, the mean of posterior distrbution from more ignorant prior distribution (i.e., prior 1) is more strongly pulled by the observed y values than the mean of posterior distibution from certain prior distributon (i.e., prior 2). In other words, posterior distribution 1 has closer mean (i.e., mean is 2) to observed y (i.e., mean is 1.7) than posterior distribution 2 (i.e, mean is 3.35). The observed y has stronger influence on ignorant (high variance) prior belief than on certain (low variance) prior belief. Note that the variance for two posterior distributions are identical.\n",
    "\n",
    "Now the Result can be plotted as follows:"
   ]
  },
  {
   "cell_type": "code",
   "execution_count": 105,
   "metadata": {},
   "outputs": [],
   "source": [
    "bayesdata$posterior1 <- posterior1 \n",
    "bayesdata$posterior2 <- posterior2\n",
    "\n",
    "## Plot Result ##\n",
    "bgraph2 <- ggplot(bayesdata) + gktheme +\n",
    "    geom_density(aes(posterior1, fill=\"1\"), alpha = 0.5, size=0.5) +   \n",
    "    geom_density(aes(posterior2, fill=\"2\"), alpha = 0.5, size=0.5) +   \n",
    "    scale_y_continuous(limits=c(0,1),breaks=c(0,0.25,0.5,0.75,1))+\n",
    "    scale_x_continuous(limits=c(0,6),breaks=c(0,1,2,3,4,5,6))+\n",
    "    scale_linetype_manual(name=\"Gamma Prior Parameters\",values=c(1,2), \n",
    "      labels = c(expression(paste(\"1. Ignorant: \", alpha == 5, \"; \" , beta == 1)),\n",
    "                 expression(paste(\"2. Certain: \", alpha == 50, \"; \" , beta == 10))))+\n",
    "    scale_fill_manual(name=\"Gamma Prior Parameters\",values=c(1,2), \n",
    "      labels = c(expression(paste(\"1. Ignorant: \", alpha == 5, \"; \" , beta == 1)),\n",
    "                 expression(paste(\"2. Certain: \", alpha == 50, \"; \" , beta == 10))))+\n",
    "    xlab(\"Posterior Belief\")+\n",
    "    ylab(\"Density\")+\n",
    "    ggtitle(\"Posterior Distributions by Prior Parameters\")+\n",
    "    theme(legend.position = \"right\")"
   ]
  },
  {
   "cell_type": "code",
   "execution_count": 106,
   "metadata": {},
   "outputs": [
    {
     "data": {},
     "metadata": {},
     "output_type": "display_data"
    },
    {
     "data": {
      "image/png": "[encoded data removed]",
      "text/plain": [
       "plot without title"
      ]
     },
     "metadata": {},
     "output_type": "display_data"
    }
   ],
   "source": [
    "options(repr.plot.width=7, repr.plot.height=3.5)\n",
    "bgraph2"
   ]
  },
  {
   "cell_type": "markdown",
   "metadata": {},
   "source": [
    "The above plot further confirmes the implication. While the shape of two posterior distributions are almost identical, the posterior distribution for ignorant prior is placed left of the posterior distribution for certain prior. Given that both prior distribution had the same mean of 5, ignorant prior holders are more strongly pulled by the observation of y (mean of 2) than certain prior holders. "
   ]
  }
 ],
 "metadata": {
  "kernelspec": {
   "display_name": "R",
   "language": "R",
   "name": "ir"
  },
  "language_info": {
   "codemirror_mode": "r",
   "file_extension": ".r",
   "mimetype": "text/x-r-source",
   "name": "R",
   "pygments_lexer": "r",
   "version": "3.4.2"
  }
 },
 "nbformat": 4,
 "nbformat_minor": 2
}
