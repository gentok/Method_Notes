{
 "cells": [
  {
   "cell_type": "markdown",
   "metadata": {
    "deletable": true,
    "editable": true
   },
   "source": [
    "# POL280 Bayesian Modelling Memo & Codes\n",
    "\n",
    "(Annotated codes are originally provided by Christopher Hare)"
   ]
  },
  {
   "cell_type": "markdown",
   "metadata": {
    "deletable": true,
    "editable": true
   },
   "source": [
    "## Lecture 1: Introduction (04/13/2017) "
   ]
  },
  {
   "cell_type": "markdown",
   "metadata": {
    "deletable": true,
    "editable": true
   },
   "source": [
    "###  Monte Carlo Simulation"
   ]
  },
  {
   "cell_type": "code",
   "execution_count": 3,
   "metadata": {
    "collapsed": false,
    "deletable": true,
    "editable": true
   },
   "outputs": [
    {
     "data": {
      "text/plain": [
       "inside\n",
       "   0    1 \n",
       "2106 7894 "
      ]
     },
     "metadata": {},
     "output_type": "display_data"
    },
    {
     "data": {
      "text/html": [
       "3.1392"
      ],
      "text/latex": [
       "3.1392"
      ],
      "text/markdown": [
       "3.1392"
      ],
      "text/plain": [
       "[1] 3.1392"
      ]
     },
     "metadata": {},
     "output_type": "display_data"
    },
    {
     "data": {
      "image/png": "[encoded data removed]",
      "text/plain": [
       "plot without title"
      ]
     },
     "metadata": {},
     "output_type": "display_data"
    }
   ],
   "source": [
    "## Monte Carlo Simulation ##\n",
    "\n",
    "#install.packages(\"plotrix\")\n",
    "library(plotrix)\n",
    "library(grid)\n",
    "\n",
    "options(repr.plot.width=5, repr.plot.height=5)\n",
    "## Plot Rectangle and Circle\n",
    "plot(c(-1, 1), c(-1, 1), type = \"n\", asp = 1)\n",
    "rect(-1, -1, 1, 1)\n",
    "draw.circle(0, 0, 1)\n",
    "\n",
    "## Conduct Simulation \n",
    "nsamp <- 10000 # The size of sample\n",
    "inside <- NA # Storage for those values inside the cirlce\n",
    "for(i in 1:nsamp){\n",
    "  x <- runif(2, -1, 1) ## Draw two values from uniform distribution (-1, 1)\n",
    "  if (sqrt(x[1] * x[1] + x[2] * x[2]) < 1) {\n",
    "    inside[i] <- 1; points(x[1], x[2], col = \"orange\")\n",
    "  }\n",
    "  if (sqrt(x[1] * x[1] + x[2] * x[2]) > 1) {\n",
    "    inside[i] <- 0; points(x[1], x[2], col = \"black\")\n",
    "  }\n",
    "}\n",
    "\n",
    "table(inside)\n",
    "4 * (7848 / 10000)"
   ]
  },
  {
   "cell_type": "markdown",
   "metadata": {
    "deletable": true,
    "editable": true
   },
   "source": [
    "## Lecture 2: Simple Bayesian Models and Priors (04/20/2017)"
   ]
  },
  {
   "cell_type": "markdown",
   "metadata": {
    "deletable": true,
    "editable": true
   },
   "source": [
    "### The Monty Hall Problem\n",
    "\n",
    "Suppose you're on a game show and you're given teh choice of three doors: Behind one door is a car; behind the otheres, goats. You pick a door, say No.1, and the host, who knows what's behind the doors, opens another door, say No.3, which has a goat. He then says to you \"Do you wan to pick door No.2?\" Is it to your advantage to switch your choice?\n",
    "\n",
    "Let's pick door 1, and Monty then opens door 2 to show us a goat.\n",
    "\n",
    "Let A represent the outcome that the car is behind door 1. Let B represent the event that we're shown a goat behind door 2:\n",
    "\n",
    "$$P(A|B) = \\frac{P(B|A) P(A)}{P(B)}$$\n",
    "\n",
    "Let's Simulate by R!"
   ]
  },
  {
   "cell_type": "code",
   "execution_count": 1,
   "metadata": {
    "collapsed": false,
    "deletable": true,
    "editable": true
   },
   "outputs": [
    {
     "data": {
      "text/html": [
       "0.3314"
      ],
      "text/latex": [
       "0.3314"
      ],
      "text/markdown": [
       "0.3314"
      ],
      "text/plain": [
       "[1] 0.3314"
      ]
     },
     "metadata": {},
     "output_type": "display_data"
    }
   ],
   "source": [
    "## Monty Hall Problem Simulation ##\n",
    "doors <- c(\"1\", \"2\", \"3\") # Three Doors \n",
    "sim_montyhall <- function(door){\n",
    "car <- sample(doors, 1) # define the door with car\n",
    "pick <- doors[door] # your pick of the door\n",
    "open <- sample(doors[which(doors!=car & doors!=pick)], 1) # defined the door opened\n",
    "return(pick==car) # return if the car is behind your picked door.\n",
    "}\n",
    "sims <- replicate(10000, sim_montyhall(1) ) #repeat the process many times\n",
    "mean(sims) # The probability"
   ]
  },
  {
   "cell_type": "markdown",
   "metadata": {
    "deletable": true,
    "editable": true
   },
   "source": [
    "### Bayesian Inference\n",
    "\n",
    "#### Do Statistical Inference\n",
    "\n",
    "In the statistical inference context, A is replaced with $\\theta$ (unknown parameters), and B is replaced with $y$ (data). Therefore, the equation becomes:\n",
    "\n",
    "\\begin{align}\n",
    "P(\\theta|y) &= \\frac{P(\\theta) P(y|\\theta)}{P(y)} \\\\\n",
    "&\\propto P(\\theta) L(\\theta|y)\n",
    "\\end{align}\n",
    "\n",
    "Intuitively stated:\n",
    "\n",
    "Posteriot Probability (of parameter level) $\\propto$ Prior Probability $\\times$ Likelihood Function\n",
    "\n",
    "It's all about **distribution**."
   ]
  },
  {
   "cell_type": "markdown",
   "metadata": {
    "deletable": true,
    "editable": true
   },
   "source": [
    "#### Setting Prior\n",
    "\n",
    "Given the function given above, **prior matters** the most when the **data is sparse** (small size?) Data dominates the prior when there is enough data.\n",
    "\n",
    "The variance of prior matters. As the **variance of prior distribution increases**, the **impact of data on poterior distribution increases**."
   ]
  },
  {
   "cell_type": "markdown",
   "metadata": {
    "deletable": true,
    "editable": true
   },
   "source": [
    "### Bayesian Mechanics\n",
    "\n",
    "#### Three Steps to Model Bayesan\n",
    "\n",
    "1. Specify 1) the probability model of **how $y$ were generated**, & 2) **prior belief** of $\\theta$ (probability distribution)\n",
    "\n",
    "2. **Update $\\theta$** by conditioning the probability model on the **data**.\n",
    "\n",
    "3. Evaluate model fit and sensitivity."
   ]
  },
  {
   "cell_type": "markdown",
   "metadata": {
    "deletable": true,
    "editable": true
   },
   "source": [
    "#### First Step (1): Probability Models\n",
    "\n",
    "An assumption about the probability distribution $p(y | \\theta)$ that generated $y$. Defined as **PDF** (probability density functons) **if $y$ is continuous** random variables, defined as **PMF** (probability mass functions) **if $y$ is discrete** random variables.\n",
    "\n",
    "$p(y | \\theta)$ is also called **likelihood function**. It is calculated as:\n",
    "\n",
    "$$L(\\theta | y) = \\Pi_{i=1}^n p(y_i | \\theta)$$\n",
    "\n",
    "Easier to with natural log of the likelihood:\n",
    "\n",
    "$$\\mathit{l}(\\theta | y) = \\mbox{log}L(\\theta | y)$$ \n",
    "\n",
    "Because the original likelihood often become very small, so we want to deal with the manageable numbers by taking log of it.  \n",
    " \n",
    "* Use of MLE($\\hat{\\theta}$) by frequentists cannot answer questions such as: $p (\\theta > 0)$; $p(\\theta \\in (a, b))$ or relative likelihood of competing models.\n",
    "\n",
    "\n",
    "\n"
   ]
  },
  {
   "cell_type": "markdown",
   "metadata": {
    "deletable": true,
    "editable": true
   },
   "source": [
    "#### First Step (2): Specifying Priors\n",
    "\n",
    "**Conjugate priors** produce posterior densities of the same distributional family as the prior.\n",
    "\n",
    "* **Beta (prior) - Binomial (likelihood) $\\Rightarrow$  Beta posterior**\n",
    "\n",
    "\\begin{align}\n",
    "\\mbox{Beta Prior } p(\\theta) &= \\frac{\\Gamma(\\alpha + \\beta)}{\\Gamma (\\alpha) + \\Gamma (\\beta)} \\theta^{\\alpha-1} (1-\\theta)^{\\beta-1} \\\\\n",
    "\\mbox{Binomial Likelihood } &= \n",
    "\\begin{pmatrix} \n",
    "n \\\\ y \n",
    "\\end{pmatrix} \n",
    "\\theta^y (1-\\theta)^{n-y}  \n",
    "\\end{align}\n",
    "\n",
    "Then (can take the constant out for the minimization problem): \n",
    "\n",
    "\\begin{align}\n",
    "\\mbox{Posterior } &\\propto \\mbox{Prior} \\times \\mbox{Likelihood} \\\\\n",
    "\\pi(\\theta | y) &\\propto \\left\\{ \\frac{\\Gamma(\\alpha + \\beta)}{\\Gamma (\\alpha) + \\Gamma (\\beta)} \\theta^{\\alpha-1} (1-\\theta)^{\\beta-1} \\right\\} \\times \\left\\{ \n",
    "\\begin{pmatrix} \n",
    "n \\\\ y \n",
    "\\end{pmatrix} \n",
    "\\theta^y (1-\\theta)^{n-y} \\right\\} \\\\\n",
    "&\\propto \\theta^{\\alpha - 1 + y} + (1 - \\theta)^{\\beta - 1 + n - y}\n",
    "\\end{align}\n",
    "\n",
    "The Solution is:\n",
    "\n",
    "\\begin{align}\n",
    "\\mbox{Posterior } \\pi (\\theta | y) &\\approx \\mbox{Beta}( \\alpha + y, \\beta + n - y) \\\\\n",
    "E(\\theta | y) &\\approx \\frac{\\alpha + y}{\\alpha + \\beta + n} \n",
    "\\end{align}\n",
    "\n",
    "Try in R!"
   ]
  },
  {
   "cell_type": "code",
   "execution_count": 7,
   "metadata": {
    "collapsed": false,
    "deletable": true,
    "editable": true,
    "scrolled": false
   },
   "outputs": [
    {
     "name": "stderr",
     "output_type": "stream",
     "text": [
      "Warning message in densfun(x, parm[1], parm[2], ...):\n",
      "\"NaNs produced\"Warning message in densfun(x, parm[1], parm[2], ...):\n",
      "\"NaNs produced\"Warning message in densfun(x, parm[1], parm[2], ...):\n",
      "\"NaNs produced\""
     ]
    }
   ],
   "source": [
    "library(dplyr) ## Library dplyr package \n",
    "load(\"../data/POL280/baseball.Rda\") ## Import data\n",
    "#\n",
    "career_filtered <- career %>% filter(AB >= 500) ## Filter data as AB >=500\n",
    "m <- MASS::fitdistr(career_filtered$average, dbeta,\n",
    "                    start = list(shape1 = 1, shape2 = 10)) ## Fitting distribution\n",
    "alpha0 <- m$estimate[1]\n",
    "beta0 <- m$estimate[2]\n",
    "#\n",
    "career_eb <- career %>% mutate(eb_estimate = (H + alpha0) / (AB + alpha0 + beta0))"
   ]
  },
  {
   "cell_type": "markdown",
   "metadata": {
    "deletable": true,
    "editable": true
   },
   "source": [
    "* **Gamma (Prior) - Poisson (Likelihood) $\\Rightarrow$ Gamma Posterior**\n",
    "\n",
    "\\begin{align}\n",
    "\\mbox{Gamma } &= \\frac{\\beta^{\\alpha}}{\\Gamma (\\alpha)} \\theta^{\\alpha-1} e^{- \\beta \\theta} \\\\\n",
    "\\mbox{Poisson PMF } &= p(y | \\theta) = \\frac{e^{-\\theta} \\theta^{y_i}}{y_i !} \\\\\n",
    "\\mbox{Poisson Likelihood } &= \\mathit{L}(\\theta | y) = \\hat{\\Pi}_{i=1}^n \\frac{e^{-\\theta} \\theta^{y_i}}{y_i !} \\\\\n",
    "&= \\frac{e^{-\\theta n} \\theta^{\\sum_{i=1}^{n} y_i} }{y_1 ! y_2 ! \\dots y_n !} \\\\\n",
    "\\pi(\\theta | y) &\\propto \\frac{\\beta^{\\alpha}}{\\Gamma (\\alpha)} \\theta^{\\alpha-1} e^{- \\beta \\theta} \\times \\frac{e^{-\\theta n} \\theta^{\\sum_{i=1}^{n} y_i} }{y_1 ! y_2 ! \\dots y_n !} \\\\\n",
    "&\\propto \\theta^{\\alpha - 1 + \\Sigma y} e^{- \\theta (\\beta + n)} \\\\\n",
    "&\\propto \\mbox{Gamma }(\\alpha + \\Sigma y, \\beta + n)\n",
    "\\end{align}"
   ]
  },
  {
   "cell_type": "markdown",
   "metadata": {
    "deletable": true,
    "editable": true
   },
   "source": [
    "## Lecture 3 Sampling (04/27/2017)"
   ]
  },
  {
   "cell_type": "markdown",
   "metadata": {
    "deletable": true,
    "editable": true
   },
   "source": [
    "### Priors and Posteriors\n",
    "\n",
    " * **Conjugate priors** and **solicited priors**. Solicited priors are often more difficult to defend (convenient distribution to get better result...) <br><br>\n",
    " \n",
    " * If we want the prior to be **essentially flat**, it is popular to use uniform distibution (computationally challenging), or diffused normal (i.e., very high variance. Computationally little more easy)."
   ]
  },
  {
   "cell_type": "markdown",
   "metadata": {
    "deletable": true,
    "editable": true
   },
   "source": [
    "### Possible Prior Distibutions\n",
    "\n",
    "#### Beta Distribution\n",
    "\n",
    "\\begin{align}\n",
    "B(\\alpha, \\beta) = \\frac{\\Gamma(\\alpha + \\beta)}{\\Gamma (\\alpha) + \\Gamma (\\beta)} \\theta^{\\alpha-1} (1-\\theta)^{\\beta-1}\n",
    "\\end{align}\n",
    "\n",
    "This is a PDF on $[0, 1]$ interval, with expected value $\\cfrac{\\alpha}{\\alpha + \\beta}$\n",
    "\n",
    "Examples of the distribution."
   ]
  },
  {
   "cell_type": "code",
   "execution_count": 28,
   "metadata": {
    "collapsed": false,
    "deletable": true,
    "editable": true
   },
   "outputs": [
    {
     "data": {
      "image/png": "[encoded data removed]",
      "text/plain": [
       "Plot with title \"density.default(x = b1)\""
      ]
     },
     "metadata": {},
     "output_type": "display_data"
    }
   ],
   "source": [
    "b1 <- rbeta(1000,10,10) # alpha = beta (large)\n",
    "b2 <- rbeta(1000,2,2) # alpha = beta (small)\n",
    "b3 <- rbeta(1000,0.5,0.5) # alpha = beta (very small)\n",
    "\n",
    "options(repr.plot.width=5, repr.plot.height=4)\n",
    "plot(density(b1), col=\"black\", lty = 1, lwd=2, xlim = c(-0.5, 1.5))\n",
    "lines(density(b2), col=\"blue\", lty = 2, lwd = 2)\n",
    "lines(density(b3), col=\"red\", lty = 2, lwd = 2)"
   ]
  },
  {
   "cell_type": "markdown",
   "metadata": {
    "deletable": true,
    "editable": true
   },
   "source": [
    "$$\\mbox{Binomial Likelihood } = \n",
    "\\begin{pmatrix} \n",
    "n \\\\ y \n",
    "\\end{pmatrix} \n",
    "\\theta^y (1-\\theta)^{n-y} \n",
    "$$\n",
    " * The value of $\\theta$ most likely to have produced the observed data is $\\frac{y}{n}$\n",
    "\n",
    "Then, from the last lecture, **posterior** is (can take the constant out for the minimization problem): \n",
    "\n",
    "\\begin{align}\n",
    "\\mbox{Posterior } &\\propto \\mbox{Prior} \\times \\mbox{Likelihood} \\\\\n",
    "\\pi(\\theta | y) &\\propto \\left\\{ \\frac{\\Gamma(\\alpha + \\beta)}{\\Gamma (\\alpha) + \\Gamma (\\beta)} \\theta^{\\alpha-1} (1-\\theta)^{\\beta-1} \\right\\} \\times \\left\\{ \n",
    "\\begin{pmatrix} \n",
    "n \\\\ y \n",
    "\\end{pmatrix} \n",
    "\\theta^y (1-\\theta)^{n-y} \\right\\} \\\\\n",
    "&\\propto \\theta^{\\alpha - 1 + y} + (1 - \\theta)^{\\beta - 1 + n - y}\n",
    "\\end{align}\n",
    "\n",
    "The Solution is:\n",
    "\n",
    "\\begin{align}\n",
    "\\mbox{Posterior } \\pi (\\theta | y) &\\approx \\mbox{Beta}\\left( \\alpha + y, \\beta + n - y\\right) \\\\\n",
    "E(\\theta | y) &\\approx \\frac{\\alpha + y}{\\alpha + \\beta + n} \n",
    "\\end{align}"
   ]
  },
  {
   "cell_type": "markdown",
   "metadata": {
    "deletable": true,
    "editable": true
   },
   "source": [
    "#### Example: Undervoting (白票を投じる?)\n",
    "\n",
    " * Tomz and van Howelling (2003) finds that, using 1964-2004 ANES data, 10/1091 (0.91%) black respondents and 57/9770 (0.58%) of white respondents stated they undervoted. <br><br>\n",
    " \n",
    " * We know posterior distributions of undervoting: $\\pi_{black}$, $\\pi_{white}$ <br><br>\n",
    " \n",
    " * Set **prior** as $B(\\alpha=1, \\beta=100)$. Then we can extract the sample of posterior distribution as follows... <br>"
   ]
  },
  {
   "cell_type": "code",
   "execution_count": 27,
   "metadata": {
    "collapsed": false,
    "deletable": true,
    "editable": true
   },
   "outputs": [
    {
     "data": {
      "image/png": "[encoded data removed]",
      "text/plain": [
       "Plot with title \"density.default(x = white)\""
      ]
     },
     "metadata": {},
     "output_type": "display_data"
    }
   ],
   "source": [
    "## Sample beta posterior distribution, given specified prior.\n",
    "## Note that, in this specification, Beta( alpha + y, beta + n - y)\n",
    "white <- rbeta(1000, (1 + 57), (100 + 9770 - 57)) ## Draw 1000\n",
    "black <- rbeta(1000, (1 + 10), (100 + 1091 - 10)) ## Draw 1000\n",
    "\n",
    "options(repr.plot.width=5, repr.plot.height=4)\n",
    "plot(density(white), col=\"black\", lty = 1, lwd=2, xlim = c(0, 0.025))\n",
    "lines(density(black), col=\"black\", lty = 2, lwd = 2)"
   ]
  },
  {
   "cell_type": "markdown",
   "metadata": {
    "deletable": true,
    "editable": true
   },
   "source": [
    "We can calculate the \"p-value\" of Bayesian model as follows..."
   ]
  },
  {
   "cell_type": "code",
   "execution_count": 29,
   "metadata": {
    "collapsed": false,
    "deletable": true,
    "editable": true,
    "scrolled": false
   },
   "outputs": [
    {
     "data": {
      "text/plain": [
       "\n",
       "FALSE  TRUE \n",
       "  114   886 "
      ]
     },
     "metadata": {},
     "output_type": "display_data"
    },
    {
     "data": {
      "text/html": [
       "<span style=white-space:pre-wrap>'Bayesian p-value is:  0.886 (higher is better)'</span>"
      ],
      "text/latex": [
       "'Bayesian p-value is:  0.886 (higher is better)'"
      ],
      "text/markdown": [
       "<span style=white-space:pre-wrap>'Bayesian p-value is:  0.886 (higher is better)'</span>"
      ],
      "text/plain": [
       "[1] \"Bayesian p-value is:  0.886 (higher is better)\""
      ]
     },
     "metadata": {},
     "output_type": "display_data"
    }
   ],
   "source": [
    "## Likelihood of black undervoting intention higher than white\n",
    "table(black > white) \n",
    "## Calculate p-value of black undervotes more than whites\n",
    "paste(\"Bayesian p-value is: \", table(black > white)[2] / 1000, \n",
    "      \"(higher is better)\")\n",
    "## 95$ Credible Interval Can be Extracted Just as:\n",
    "blackCI = quantile(black, probs=c(0.025, 0.095))\n",
    "paste(\"Blac\")\n",
    "whiteCI = quantile(black, probs=c(0.025, 0.095))\n"
   ]
  },
  {
   "cell_type": "markdown",
   "metadata": {
    "deletable": true,
    "editable": true
   },
   "source": [
    "(Note on Gamma Distribution: Shape = alpha; scale = beta)"
   ]
  },
  {
   "cell_type": "markdown",
   "metadata": {
    "deletable": true,
    "editable": true
   },
   "source": [
    "### Mote-Carlo Simulation\n",
    "\n",
    " * **Problem**:  How do you solve multidimensional integral equations needed to model behavior of complex systems with many random quantities? <br><br>\n",
    " \n",
    " * **Solution**: We can learn learn by sampling many times from $f(\\theta)$, the density of $\\theta$. We assume that, as $n \\rightarrow \\infty$, $\\hat{\\theta} \\rightarrow \\theta$ (We borrow frequentist assumption).  "
   ]
  },
  {
   "cell_type": "markdown",
   "metadata": {
    "deletable": true,
    "editable": true
   },
   "source": [
    "#### Rejection Sampling: \n"
   ]
  },
  {
   "cell_type": "code",
   "execution_count": 34,
   "metadata": {
    "collapsed": false,
    "deletable": true,
    "editable": true
   },
   "outputs": [
    {
     "data": {
      "text/html": [
       "0.175"
      ],
      "text/latex": [
       "0.175"
      ],
      "text/markdown": [
       "0.175"
      ],
      "text/plain": [
       "[1] 0.175"
      ]
     },
     "metadata": {},
     "output_type": "display_data"
    },
    {
     "data": {
      "text/html": [
       "<ol class=list-inline>\n",
       "\t<li>NA</li>\n",
       "\t<li>1.34488764801063</li>\n",
       "\t<li>0.784836302045733</li>\n",
       "\t<li>3.55517067597248</li>\n",
       "\t<li>1.26741572399624</li>\n",
       "\t<li>1.67662424151786</li>\n",
       "\t<li>NA</li>\n",
       "\t<li>1.48924893932417</li>\n",
       "\t<li>1.8753206776455</li>\n",
       "\t<li>NA</li>\n",
       "</ol>\n"
      ],
      "text/latex": [
       "\\begin{enumerate*}\n",
       "\\item NA\n",
       "\\item 1.34488764801063\n",
       "\\item 0.784836302045733\n",
       "\\item 3.55517067597248\n",
       "\\item 1.26741572399624\n",
       "\\item 1.67662424151786\n",
       "\\item NA\n",
       "\\item 1.48924893932417\n",
       "\\item 1.8753206776455\n",
       "\\item NA\n",
       "\\end{enumerate*}\n"
      ],
      "text/markdown": [
       "1. NA\n",
       "2. 1.34488764801063\n",
       "3. 0.784836302045733\n",
       "4. 3.55517067597248\n",
       "5. 1.26741572399624\n",
       "6. 1.67662424151786\n",
       "7. NA\n",
       "8. 1.48924893932417\n",
       "9. 1.8753206776455\n",
       "10. NA\n",
       "\n",
       "\n"
      ],
      "text/plain": [
       " [1]        NA 1.3448876 0.7848363 3.5551707 1.2674157 1.6766242        NA\n",
       " [8] 1.4892489 1.8753207        NA"
      ]
     },
     "metadata": {},
     "output_type": "display_data"
    },
    {
     "data": {
      "text/html": [
       "<ol class=list-inline>\n",
       "\t<li>3.58052654191852</li>\n",
       "\t<li>1.34488764801063</li>\n",
       "\t<li>0.784836302045733</li>\n",
       "\t<li>3.55517067597248</li>\n",
       "\t<li>1.26741572399624</li>\n",
       "\t<li>1.67662424151786</li>\n",
       "\t<li>2.74214936303906</li>\n",
       "\t<li>1.48924893932417</li>\n",
       "\t<li>1.8753206776455</li>\n",
       "\t<li>3.11274379491806</li>\n",
       "</ol>\n"
      ],
      "text/latex": [
       "\\begin{enumerate*}\n",
       "\\item 3.58052654191852\n",
       "\\item 1.34488764801063\n",
       "\\item 0.784836302045733\n",
       "\\item 3.55517067597248\n",
       "\\item 1.26741572399624\n",
       "\\item 1.67662424151786\n",
       "\\item 2.74214936303906\n",
       "\\item 1.48924893932417\n",
       "\\item 1.8753206776455\n",
       "\\item 3.11274379491806\n",
       "\\end{enumerate*}\n"
      ],
      "text/markdown": [
       "1. 3.58052654191852\n",
       "2. 1.34488764801063\n",
       "3. 0.784836302045733\n",
       "4. 3.55517067597248\n",
       "5. 1.26741572399624\n",
       "6. 1.67662424151786\n",
       "7. 2.74214936303906\n",
       "8. 1.48924893932417\n",
       "9. 1.8753206776455\n",
       "10. 3.11274379491806\n",
       "\n",
       "\n"
      ],
      "text/plain": [
       " [1] 3.5805265 1.3448876 0.7848363 3.5551707 1.2674157 1.6766242 2.7421494\n",
       " [8] 1.4892489 1.8753207 3.1127438"
      ]
     },
     "metadata": {},
     "output_type": "display_data"
    }
   ],
   "source": [
    "## Some Complicated Function\n",
    "target <- function(z){return((1/40)*(2*z+3))}\n",
    "#\n",
    "a <- 0 ## Lower Boundary\n",
    "b <- 5 ## Higher Boundary\n",
    "k <- 2\n",
    "enveloping <- .2\n",
    "ndraws <- 1000\n",
    "proposed <- accept <- rep(NA,ndraws)\n",
    "for (i in 1:ndraws){\n",
    "proposed[i] <- z <- runif(1, a, b)\n",
    "R <- target(z) / (k * enveloping)\n",
    "if(R > runif(1, 0, 1)){accept[i] <- z}\n",
    "}\n",
    "target(2)\n",
    "accept[1:10]\n",
    "proposed[1:10]"
   ]
  },
  {
   "cell_type": "code",
   "execution_count": 35,
   "metadata": {
    "collapsed": false,
    "deletable": true,
    "editable": true
   },
   "outputs": [
    {
     "data": {
      "text/html": [
       "44"
      ],
      "text/latex": [
       "44"
      ],
      "text/markdown": [
       "44"
      ],
      "text/plain": [
       "[1] 44"
      ]
     },
     "metadata": {},
     "output_type": "display_data"
    },
    {
     "data": {
      "text/html": [
       "176"
      ],
      "text/latex": [
       "176"
      ],
      "text/markdown": [
       "176"
      ],
      "text/plain": [
       "[1] 176"
      ]
     },
     "metadata": {},
     "output_type": "display_data"
    },
    {
     "data": {
      "text/html": [
       "142"
      ],
      "text/latex": [
       "142"
      ],
      "text/markdown": [
       "142"
      ],
      "text/plain": [
       "[1] 142"
      ]
     },
     "metadata": {},
     "output_type": "display_data"
    },
    {
     "data": {
      "text/html": [
       "200"
      ],
      "text/latex": [
       "200"
      ],
      "text/markdown": [
       "200"
      ],
      "text/plain": [
       "[1] 200"
      ]
     },
     "metadata": {},
     "output_type": "display_data"
    },
    {
     "data": {
      "image/png": "[encoded data removed]",
      "text/plain": [
       "plot without title"
      ]
     },
     "metadata": {},
     "output_type": "display_data"
    }
   ],
   "source": [
    "x <- seq(0,5,0.01)\n",
    "plot(x, target(x), type=\"l\")\n",
    "lines(density(accept, na.rm=TRUE), lty=2, col=\"red\")\n",
    "#\n",
    "length(proposed[accept < 1 & !is.na(accept)])\n",
    "length(proposed[proposed < 1])\n",
    "#\n",
    "length(proposed[accept > 4 & !is.na(accept)])\n",
    "length(proposed[proposed > 4])"
   ]
  }
 ],
 "metadata": {
  "kernelspec": {
   "display_name": "R",
   "language": "R",
   "name": "ir"
  },
  "language_info": {
   "codemirror_mode": "r",
   "file_extension": ".r",
   "mimetype": "text/x-r-source",
   "name": "R",
   "pygments_lexer": "r",
   "version": "3.3.2"
  }
 },
 "nbformat": 4,
 "nbformat_minor": 2
}
