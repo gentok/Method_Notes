{
 "cells": [
  {
   "cell_type": "markdown",
   "metadata": {
    "slideshow": {
     "slide_type": "slide"
    }
   },
   "source": [
    "# Election with Platform and Valence Competition\n",
    "## Scott Ashworth and Ethan Bueno de Mesquita\n",
    "\n",
    "Presented by Gento Kato (POL282 2018/01/23)\n"
   ]
  },
  {
   "cell_type": "markdown",
   "metadata": {
    "slideshow": {
     "slide_type": "slide"
    }
   },
   "source": [
    "## 1. Overview"
   ]
  },
  {
   "cell_type": "markdown",
   "metadata": {
    "slideshow": {
     "slide_type": "-"
    }
   },
   "source": [
    "* **Problem**: Interaction between policy platform and valence (e.g., campaign spending) in election.\n",
    "  1. Exogenous (fixed) valence advantage and platform determination.\n",
    "  2. **Endogenous determination of both platform and valence**. "
   ]
  },
  {
   "cell_type": "markdown",
   "metadata": {
    "slideshow": {
     "slide_type": "subslide"
    }
   },
   "source": [
    "* **Insights**: \n",
    "  1. **Policy polarization loosen the needs to accumulate valence**. Policy divergence even without policy preference.\n",
    "  2. **Uncertainty about the median voter's ideal point** (not about candidates) is important.\n",
    "  3. Exogenous increase in the marginal **benefit-to-cost ratio of valence accumulation** increases both policy polarization and valene accumulation."
   ]
  },
  {
   "cell_type": "markdown",
   "metadata": {
    "slideshow": {
     "slide_type": "subslide"
    }
   },
   "source": [
    "* **Importance**: Capturing important elements in the election. Polarization without policy preference is particularly interesting.\n",
    "\n",
    "* **The model useful?** Some details are difficult to follow, but intuition is simple.  The graphs especially help the straightforward understanding. On the other hand, it is diffucult to comprehend how the non-smooth change in the strategy is realized in the actual election. \n",
    "\n"
   ]
  },
  {
   "cell_type": "markdown",
   "metadata": {
    "slideshow": {
     "slide_type": "slide"
    }
   },
   "source": [
    "## 2. Game Setting"
   ]
  },
  {
   "cell_type": "markdown",
   "metadata": {
    "slideshow": {
     "slide_type": "-"
    }
   },
   "source": [
    "* Players: **the voter** as a group and **two candidates** $c \\in \\{L, R\\}$\n",
    "\n",
    "* Voter's policy **ideal point**: $x^\\star \\in \\mathbb{R}$ <br> \n",
    "*Common belief*: distributed uniformly on $\\left[-\\cfrac{\\gamma}{2}, \\cfrac{\\gamma}{2}\\right]$ \n",
    "\n",
    "* Candidate's **policy platform**: $x \\in \\mathbb{R}$ where $x_L \\leq x_R$\n",
    "\n",
    "* Candidate's **valence**: $v \\in \\mathbb{R}_+$"
   ]
  },
  {
   "cell_type": "markdown",
   "metadata": {
    "slideshow": {
     "slide_type": "subslide"
    }
   },
   "source": [
    "* Sequential Game, Subgame Perfect Equiribria (SPE)\n",
    "\n",
    "* Timing\n",
    "  1. The candidates simultaneously choose $x_c$ (platforms)\n",
    "  2. The candidates observe $x_c$, and simultaneously choose $v_c$ (valence subgame)\n",
    "  3. Nature determines ideal point $x^\\star$ of the voter.\n",
    "  4. The voter observes $x_c$, $v_c$ and $x^\\star$ and chooses $L$ or $R$ (voting subgame)\n"
   ]
  },
  {
   "cell_type": "markdown",
   "metadata": {
    "slideshow": {
     "slide_type": "subslide"
    }
   },
   "source": [
    "* Utility:\n",
    "  * For voter: $u(x, v) = v - (x^\\star - x)^2$ <br>\n",
    "    (*Implies sincere voting*)\n",
    "  * For candidate: $u_c = B \\lambda_c - v_c$ <br>\n",
    "    (*$B$ relates to the benefit-to-cost ratio of valence accumulation*) <br>\n",
    "    (*$\\lambda_c$ indicates the probability of $c$ winning the election*)\n"
   ]
  },
  {
   "cell_type": "markdown",
   "metadata": {
    "slideshow": {
     "slide_type": "subslide"
    }
   },
   "source": [
    "* Strategy Sets\n",
    "  * Voter's strategy: $c \\in \\{L, R\\}$\n",
    "  * Candidate's Strategy: $\\{x_c, \\sigma_c^{x_L,x_R} \\}$ <br>\n",
    "  ($\\sigma_c^{x_L,x_R}$ is a mapping prob. function of $v_c$ given fixed values of $x_L$ and $x_R$)\n",
    "\n",
    "* Interested in Symmetric SPE: $x_L = -x_R$  "
   ]
  },
  {
   "cell_type": "markdown",
   "metadata": {
    "slideshow": {
     "slide_type": "slide"
    }
   },
   "source": [
    "## 3.1. Solve Voting Subgame\n"
   ]
  },
  {
   "cell_type": "markdown",
   "metadata": {
    "slideshow": {
     "slide_type": "-"
    }
   },
   "source": [
    "* Vote for L if: $$v_L - (x^\\star - x_L)^2 > v_R - (x^\\star - x_R)^2$$ <br>\n",
    "* Find the cutoff $\\hat{x}$ of which voter is indifferent between $L$ & $R$:\n",
    "\n",
    "\\begin{align*}\n",
    "v_L - (\\hat{x} - x_L)^2 &= v_R - (\\hat{x} - x_R)^2 \\\\\n",
    "v_L - v_R  &= (\\hat{x} - x_L)^2 - (\\hat{x} - x_R)^2 \\\\\n",
    "&= \\hat{x}^2 - 2 x_L \\hat{x} + x_L^2 - \\hat{x}^2 + 2 x_R \\hat{x} - x_R^2 \\\\\n",
    "x_R^2 - x_L^2 + v_L - v_R &= 2 (x_R - x_L) \\hat{x} \\\\\n",
    "2 (x_R - x_L) \\hat{x} &= (x_R + x_L)(x_R - x_L) + v_L - v_R \\\\\n",
    "\\hat{x} &= \\cfrac{1}{2}(x_R + x_L) + \\cfrac{v_L - v_R}{2 (x_R - x_L)}\n",
    "\\end{align*}"
   ]
  },
  {
   "cell_type": "markdown",
   "metadata": {
    "slideshow": {
     "slide_type": "subslide"
    }
   },
   "source": [
    "* Probability of $L$ winning the election\n",
    "\n",
    "\\begin{equation*}\n",
    "  \\lambda(x_L,x_R,v_L,v_R) = \\begin{cases}\n",
    "    \\frac{1}{2}  & \\text{if $x_L = x_R$ and $v_L = v_R$}.\\\\\n",
    "    1  & \\text{if $x_L = x_R$ and $v_L > v_R$}.\\\\\n",
    "    0  & \\text{if $x_L = x_R$ and $v_L < v_R$}.\\\\\n",
    "    F_\\gamma(\\hat{x}(x_L,x_R,v_L,v_R)) & \\text{if $x_L \\neq x_R$}.\n",
    "  \\end{cases}\n",
    "\\end{equation*}\n",
    "\n",
    "* where $F_\\gamma(x)$ is a CDF of uniform distribution:\n",
    "\n",
    "\\begin{equation*}\n",
    "  F_\\gamma(x) = \\begin{cases}\n",
    "    1  & \\text{if $x > \\gamma/2$}.\\\\\n",
    "    \\cfrac{x - (- \\gamma/2)}{\\gamma/2 - (-\\gamma/2)} = \\cfrac{x + \\gamma/2}{\\gamma} & \\text{if $x \\in [-\\gamma/2, \\gamma/2]$}.\\\\\n",
    "    0  & \\text{if $x < - \\gamma/2$}.\n",
    "  \\end{cases}\n",
    "\\end{equation*}"
   ]
  },
  {
   "cell_type": "markdown",
   "metadata": {
    "slideshow": {
     "slide_type": "subslide"
    }
   },
   "source": [
    "* if $x_L \\neq x_R$ and $\\hat{x} \\in [-\\gamma/2, \\gamma/2]$, plug $\\hat{x}$ into $F_\\gamma(x)$:\n",
    "\n",
    "\\begin{align*}\n",
    "\\lambda(x_L,x_R,v_L,v_R) &= F_\\gamma(\\hat{x}(x_L,x_R,v_L,v_R)) \\\\\n",
    "&=  \\cfrac{\\hat{x} + \\gamma/2}{\\gamma} \\\\\n",
    "&=  \\cfrac{ \\cfrac{1}{2}(x_R + x_L) + \\cfrac{v_L - v_R}{2 (x_R - x_L)} }{\\gamma} + \\frac{1}{2} \\\\\n",
    "&=  \\frac{1}{2} + \\cfrac{1}{2\\gamma}(x_R + x_L) + \\cfrac{v_L - v_R}{2\\gamma (x_R - x_L)} \n",
    "\\end{align*}\n"
   ]
  },
  {
   "cell_type": "code",
   "execution_count": 2,
   "metadata": {
    "slideshow": {
     "slide_type": "skip"
    }
   },
   "outputs": [
    {
     "name": "stderr",
     "output_type": "stream",
     "text": [
      "Warning message:\n",
      "\"package 'ggplot2' was built under R version 3.4.3\""
     ]
    }
   ],
   "source": [
    "library(ggplot2)\n",
    "source(\"../../../Method_Notes/sources/gktheme.R\")\n",
    "#source(\"https://raw.githubusercontent.com/gentok/Method_Notes/master/sources/gktheme.R\")\n",
    "\n",
    "## Utility Functions\n",
    "ucalc <- function(xL,xR=\"sym\",vL=1,vR=2, g=1, B = 8, out=\"xhat\"){\n",
    "    # If xR is defined as symmetric \n",
    "    if(xR[1]==\"sym\") { xR <- -xL }\n",
    "    # xhat calculation\n",
    "    xhat <- (xR + xL)/2 + (vL - vR)/(2*(xR - xL))\n",
    "    # probability of L winning election\n",
    "    lL <- 1/2 + (xR + xL)/(2*g) + (vL - vR)/(2*g*(xR - xL))\n",
    "    lL[which(xhat > g/2)] <- 1\n",
    "    lL[which(xhat < -(g/2))] <- 0\n",
    "    lL[which(xL==xR & vL==vR)] <- 0.5\n",
    "    lL[which(xL==xR & vL>vR)] <- 1\n",
    "    lL[which(xL==xR & vL<vR)] <- 0\n",
    "    # Benefit Only\n",
    "    BlL <- B * lL\n",
    "    # utility for L\n",
    "    uL <- BlL - vL\n",
    "    # EQ payoff\n",
    "    Tx <- ceiling((B/(2*g*(xR-xL)))) - 1\n",
    "    piL <- B * (0.5 + ((xR+xL)/(2*g))) * (1-((2*g*(xR-xL))/B) * Tx)\n",
    "    piR <- B * (0.5 - ((xR+xL)/(2*g))) * (1-((2*g*(xR-xL))/B) * Tx)\n",
    "    # Valence Total\n",
    "    vLR <- 2*g*(xR-xL) * Tx\n",
    "    # Return what is defined in out\n",
    "    ulist <- list(\"xhat\" = xhat, \"lL\" = lL, \"BlL\" = BlL, \"uL\" = uL,\n",
    "                  \"piL\" = piL, piR = \"piR\", \"vLR\" = vLR) \n",
    "    return(ulist[[out]])\n",
    "} "
   ]
  },
  {
   "cell_type": "code",
   "execution_count": 3,
   "metadata": {
    "collapsed": true,
    "slideshow": {
     "slide_type": "skip"
    }
   },
   "outputs": [],
   "source": [
    "## Cutoff Simulation\n",
    "usim <- function(xL, xR=\"sym\", vLmin, vLmax, vR=0, \n",
    "                    g=1, B=8, out=\"xhat\", n=500){\n",
    "    # Symmetric xR\n",
    "    if(xR==\"sym\") {\n",
    "        xR <- -xL\n",
    "    } else { \n",
    "        xR <- rep(xR,length(xL))\n",
    "    }\n",
    "    d <- data.frame(xL=numeric(), xR=numeric(),\n",
    "                    vL=numeric(), vR=numeric(), xhat=numeric())\n",
    "    for (i in 1:length(xL)) {\n",
    "    xLi <- rep(xL[i], n); xRi <- rep(xR[i], n)\n",
    "    vLi <- seq(vLmin,vLmax, length=n); vRi <- rep(vR, n)\n",
    "    \n",
    "    outval <- ucalc(xL=xLi, xR=xRi, vL=vLi, vR=vRi, g=g, B=B, out=out)\n",
    "    \n",
    "    di <- data.frame(xL=xLi, xR=xRi, vL=vLi, vR=vRi, out=outval)\n",
    "    d <- rbind(d, di)\n",
    "    }\n",
    "\n",
    "    return(d)\n",
    "    \n",
    "}"
   ]
  },
  {
   "cell_type": "code",
   "execution_count": 4,
   "metadata": {
    "collapsed": true,
    "slideshow": {
     "slide_type": "skip"
    }
   },
   "outputs": [],
   "source": [
    "## Cutoff Plot\n",
    "uplot <- function(xL, xR=\"sym\", vLmin, vLmax, vR=0, \n",
    "                     g=1, B=8, out=\"xhat\", n=500, ylim=NULL){\n",
    "  collist <- c(\"#66c2a5\",\"#fc8d62\",\"#8da0cb\",\"#e78ac3\",\"#a6d854\",\"#ffd92f\")\n",
    "  ud <- usim(xL=xL, vLmin=vLmin, vLmax=vLmax, xR=xR, vR=vR, \n",
    "                g=g, B=B, out=out, n=n)\n",
    "  ud$xdist <- as.character(abs(ud$xL-ud$xR))\n",
    "  ycenter <- (max(ud$out)-min(ud$out))/2\n",
    "  xcenter <- (vLmax-vLmin)/2\n",
    "  p <- ggplot(ud, aes(x=vL)) + gktheme \n",
    "  if (out==\"xhat\") { \n",
    "    if (length(unique(ud$xL))==1) {\n",
    "       p <- p + annotate(\"rect\", \n",
    "                         xmin=ud$vL[which(ud$out > -(g/2))][1], \n",
    "                         xmax=ud$vL[which(ud$out >= g/2)][1], \n",
    "                         ymin=-Inf, ymax=Inf,\n",
    "                         fill=\"#a6d854\", alpha=0.2, colour=NA)+\n",
    "      annotate(\"text\", y = (ycenter-min(ud$out))/2 + min(ud$out), \n",
    "               x = ud$vL[which(ud$out >= g/2)][1], \n",
    "               label = \"I(vR, xL, xR)\", colour=\"#66a61e\")   \n",
    "    }\n",
    "    p <- p + \n",
    "      geom_ribbon(aes(ymin=-g/2, ymax=g/2), fill=\"#ffd92f\", alpha=0.2, colour=NA) +\n",
    "      annotate(\"text\", y = -g/2, x = xcenter, label = \"-- -g/2 --\") + \n",
    "      annotate(\"text\", y = g/2, x = xcenter, label = \"-- g/2 --\")\n",
    "   } else if (out==\"lL\"){\n",
    "    if (length(unique(ud$xL))==1) {\n",
    "      p <- p + annotate(\"rect\", \n",
    "                         xmin=ud$vL[which(ud$out > 0)][1], \n",
    "                         xmax=ud$vL[which(ud$out >= 1)][1], \n",
    "                         ymin=-Inf, ymax=Inf,\n",
    "                         fill=\"#a6d854\", alpha=0.2, colour=NA)+\n",
    "      annotate(\"text\", y = (ycenter-min(ud$out))/2 + min(ud$out), \n",
    "               x = ud$vL[which(ud$out >= 1)][1], \n",
    "               label = \"I(vR, xL, xR)\", colour=\"#66a61e\")\n",
    "    }\n",
    "  } else if (out==\"BlL\") {\n",
    "    if (length(unique(ud$xL))==1) {\n",
    "      p <- p + annotate(\"rect\", \n",
    "                         xmin=ud$vL[which(ud$out > 0)][1], \n",
    "                         xmax=ud$vL[which(ud$out >= B)][1], \n",
    "                         ymin=-Inf, ymax=Inf,\n",
    "                         fill=\"#a6d854\", alpha=0.2, colour=NA) +\n",
    "      annotate(\"text\", y = (ycenter-min(ud$out))/2 + min(ud$out), \n",
    "               x = ud$vL[which(ud$out >= B)][1], \n",
    "               label = \"I(vR, xL, xR)\", colour=\"#66a61e\")\n",
    "    }\n",
    "    p <- p + geom_line(aes(y=vL),colour=\"red\",linetype=1,size=0.5) + \n",
    "      geom_vline(aes(xintercept=B[1]),colour=\"blue\",linetype=2,size=0.5) + \n",
    "      annotate(\"text\", x = B[1], y = ycenter, label = \"vL=B\", colour=\"blue\") +\n",
    "      geom_hline(aes(yintercept=B[1]),colour=\"blue\",linetype=2,size=0.5) + \n",
    "      annotate(\"text\", x = xcenter, y = B[1], label = \"BlL=B\", colour=\"blue\")\n",
    "  } else if (out==\"uL\") {\n",
    "    if (length(unique(ud$xL))==1) {\n",
    "      p <- p + annotate(\"rect\", \n",
    "                         xmin=ud$vL[which(ud$out+ud$vL > 0)][1], \n",
    "                         xmax=ud$vL[which(ud$out+ud$vL >= B)][1], \n",
    "                         ymin=-Inf, ymax=Inf,\n",
    "                         fill=\"#a6d854\", alpha=0.2, colour=NA) +\n",
    "      annotate(\"text\", y = (ycenter-min(ud$out))/2 + min(ud$out), \n",
    "               x = ud$vL[which(ud$out+ud$vL >= B)][1], \n",
    "               label = \"I(vR, xL, xR)\", colour=\"#66a61e\")\n",
    "    }\n",
    "   p <- p + geom_hline(aes(yintercept=0),colour=\"black\",size=0.5,linetype=2) \n",
    "  }\n",
    "  p <- p + geom_line(aes(y=out, \n",
    "                  colour=factor(xdist,levels=unique(xdist)),\n",
    "                  linetype=factor(xdist,levels=unique(xdist))), size = 1) + \n",
    "    scale_colour_manual(name=\"Platform Distance\",values=collist[1:length(xL)]) + \n",
    "    scale_linetype_manual(name=\"Platform Distance\",values=c(1:length(xL))) + \n",
    "    theme(legend.position = c(0.15,0.8))\n",
    "              \n",
    "  if (is.null(ylim)==FALSE){\n",
    "    p <-p + scale_y_continuous(limits=ylim)\n",
    "  }\n",
    "  \n",
    "  # Title Automation\n",
    "  t1 <- \"L's Valence Impact on\"\n",
    "  vLt <- paste(\"\\nvL=\",vLmin,\":\",vLmax,sep=\"\")\n",
    "  vRt <- paste(\"vR=\", vR, sep=\"\")\n",
    "  gt <- paste(\"gamma=\", g, sep=\"\")\n",
    "  Bt <- paste(\"B=\", B, sep=\"\")   \n",
    "  if (out == \"xhat\") { txt <- paste(t1,out,vLt,vRt,gt)}\n",
    "  if (out == \"lL\") { txt <- paste(t1,out,vLt,vRt,gt) }\n",
    "  if (out == \"BlL\") { txt <- paste(t1,out,vLt,vRt,gt,Bt)}\n",
    "  if (out == \"uL\") { txt <- paste(t1,out,vLt,vRt,gt,Bt)}\n",
    "  p <- p + ggtitle(txt) + ylab(out)  \n",
    "               \n",
    "  return(p)\n",
    "}"
   ]
  },
  {
   "cell_type": "code",
   "execution_count": 5,
   "metadata": {
    "scrolled": false,
    "slideshow": {
     "slide_type": "subslide"
    }
   },
   "outputs": [
    {
     "data": {},
     "metadata": {},
     "output_type": "display_data"
    },
    {
     "data": {
      "image/png": "[encoded data removed]",
      "text/plain": [
       "plot without title"
      ]
     },
     "metadata": {},
     "output_type": "display_data"
    }
   ],
   "source": [
    "uplot(xL=c(-1,-2,-4), xR=\"sym\", vLmin=0, vLmax=8, vR=3, g=1, out=\"xhat\") # Try \"lL\""
   ]
  },
  {
   "cell_type": "code",
   "execution_count": 6,
   "metadata": {
    "scrolled": false,
    "slideshow": {
     "slide_type": "skip"
    }
   },
   "outputs": [
    {
     "data": {},
     "metadata": {},
     "output_type": "display_data"
    },
    {
     "data": {
      "image/png": "[encoded data removed]",
      "text/plain": [
       "plot without title"
      ]
     },
     "metadata": {},
     "output_type": "display_data"
    }
   ],
   "source": [
    "uplot(xL=c(-1,-2,-4), xR=\"sym\", vLmin=0, vLmax=8, vR=3, g=1, out=\"lL\") # Try \"lL\""
   ]
  },
  {
   "cell_type": "markdown",
   "metadata": {
    "slideshow": {
     "slide_type": "slide"
    }
   },
   "source": [
    "## 3.2. Solve Valence Subgame"
   ]
  },
  {
   "cell_type": "markdown",
   "metadata": {
    "slideshow": {
     "slide_type": "-"
    }
   },
   "source": [
    "* Nash Equilibrium of the subgame can be denoted as $\\{\\sigma_L^{x_L,x_R}, \\sigma_R^{x_L,x_R}\\}$, which are the mapping probability distribution of $v_c$ which maximize $u_L$ and $u_R$ with respect to $v_{-c}$ given possible combinations of $\\{x_L,x_R\\}$.\n",
    "\n",
    "* In terms of valence, $L$ wins the election if: \n",
    "\n",
    "\\begin{align*}\n",
    "v_L - (x^\\star - x_L)^2 &> v_R - (x^\\star - x_R)^2 \\\\\n",
    "v_L &> (x^\\star - x_L)^2 - (x^\\star - x_R)^2 + v_R \\\\\n",
    " &> \\{(x^\\star - x_L) + (x^\\star - x_R)\\}\\{(x^\\star - x_L) - (x^\\star - x_R)\\} + v_R \\\\\n",
    " &> \\{2x^\\star - x_L - x_R\\}\\{ - x_L + x_R\\} + v_R \\\\\n",
    " &> - 2x^\\star x_L + 2x^\\star x_R  + x_L^2 - x_L x_R + x_L x_R - x_R^2 + v_R \\\\\n",
    " &> - 2x^\\star x_L + 2x^\\star x_R  + x_L^2 - x_R^2 + v_R \\\\\n",
    " &> 2(x_R - x_L)x^\\star + x_L^2 - x_R^2 + v_R \\equiv \\mathcal{H} \\\\\n",
    "\\end{align*}\n",
    "\n",
    "* $\\mathcal{H}$ is stochastic and has **variance**, because $x^\\star$ (and often $v_R$) are stochastic. Marginal benefit of valence is decreasing in the variance of $\\mathcal{H}$. The variance of $\\mathcal{H}$ is increasing in the variance of $2(x_R - x_L)x^\\star$, which is increasing in $x_R - x_L$ (policy polarization), which is decreasing in the marginal benefit of valence.\n",
    "\n"
   ]
  },
  {
   "cell_type": "markdown",
   "metadata": {
    "slideshow": {
     "slide_type": "subslide"
    }
   },
   "source": [
    "### Equilibrium 1 (when $x_L=x_R$: platform convergence) \n"
   ]
  },
  {
   "cell_type": "markdown",
   "metadata": {
    "slideshow": {
     "slide_type": "-"
    }
   },
   "source": [
    "\n",
    "\\begin{equation*}\n",
    "NE_{conv} = \\{\\mbox{Both play $\\sigma_c^{x_L,x_R} =$ uniform distribution on $[0, B]$}\\}\n",
    "\\end{equation*}\n",
    "  \n",
    "\\begin{equation*}\n",
    " {u_c}_{{NE}_{conv}} = B \\cdot p_c - v_c \\\\\n",
    " E(u_c)_{{NE}_{conv}} = B \\cdot \\frac{1}{2} - \\overline{\\mbox{unif}(0,B)}\\\\\n",
    " = \\frac{B}{2} - \\frac{B}{2} = 0\n",
    "\\end{equation*}\n",
    " \n",
    "  * Proof: \n",
    "    1. Any pure strategy $v_c \\geq B$ is strictly dominated by $v_c=0$. <br>\n",
    "       (i.e., $Bp_L - v_c < 0$ for all $v_c > B$ and $B/2 - v_c < 0$ for $v_c = B$)\n",
    "    2. For any pure strategy $v_c \\in [0,B)$, one player has an incentive to deviate and increase $v_c$ slightly.\n",
    "    4. Only mixed strategy is possible. Give equal probability to all not strictly dominated options."
   ]
  },
  {
   "cell_type": "markdown",
   "metadata": {
    "slideshow": {
     "slide_type": "subslide"
    }
   },
   "source": [
    "### Equilibrium 2 (when $2\\gamma(x_R-x_L) \\geq B$: high platform divergence)\n",
    "\n",
    " $$NE_{high} = \\{v_L = v_R = 0\\}$$\n",
    " \n",
    "\\begin{align*}\n",
    " {u_c}_{{NE}_{high}} &= B \\cdot \\lambda_c - v_c \\\\\n",
    " E(u_c)_{{NE}_{high}} &= B \\left[ \\frac{1}{2} + \\cfrac{1}{2\\gamma}(x_R + x_L) + \\cfrac{v_L - v_R}{2\\gamma (x_R - x_L)} \\right] - 0\\\\\n",
    " &= B \\left[ \\frac{1}{2} + \\cfrac{x_R + x_L}{2\\gamma}  \\right]\n",
    "\\end{align*}\n"
   ]
  },
  {
   "cell_type": "markdown",
   "metadata": {
    "slideshow": {
     "slide_type": "subslide"
    }
   },
   "source": [
    " * Proof: \n",
    "   Given fixed $\\gamma$, $x_L$, $x_R$ and $v_R$  (assume that $\\hat{x} \\in [-\\gamma/2,\\gamma/2]$), \n",
    "   \n",
    "\\begin{align*}\n",
    "  \\lambda &= B \\left[ \\frac{1}{2} + \\cfrac{1}{2\\gamma}(x_R + x_L) + \\cfrac{v_L - v_R}{2\\gamma (x_R - x_L)} \\right] - v_L \\\\\n",
    "  &= \\cfrac{B}{2\\gamma (x_R - x_L)}v_L - v_L + Z \\\\\n",
    "  &= \\left( \\cfrac{B}{2\\gamma (x_R - x_L)} - 1 \\right)v_L + Z \\tag{v.1}  \n",
    "\\end{align*}\n",
    "\n",
    "  $\\lambda$ is strictly decreasing with respect to $v_L$ if $2\\gamma(x_R-x_L) > B$, therefore $v_L=0$ is the unique best response. When $2\\gamma(x_R-x_L) = B$, $v_L$ does not have influence on $p_L$ , thus $v_L=0$ is one of the best response. The symmetric logic follows for $x_R$. "
   ]
  },
  {
   "cell_type": "code",
   "execution_count": 7,
   "metadata": {
    "slideshow": {
     "slide_type": "subslide"
    }
   },
   "outputs": [
    {
     "data": {},
     "metadata": {},
     "output_type": "display_data"
    },
    {
     "data": {
      "image/png": "[encoded data removed]",
      "text/plain": [
       "plot without title"
      ]
     },
     "metadata": {},
     "output_type": "display_data"
    }
   ],
   "source": [
    "uplot(xL=c(-2,-4), xR=\"sym\", vLmin=0, vLmax=8, vR=3, g=1, B=8, out=\"BlL\") # try\"uL\""
   ]
  },
  {
   "cell_type": "code",
   "execution_count": 8,
   "metadata": {
    "slideshow": {
     "slide_type": "skip"
    }
   },
   "outputs": [
    {
     "data": {},
     "metadata": {},
     "output_type": "display_data"
    },
    {
     "data": {
      "image/png": "[encoded data removed]",
      "text/plain": [
       "plot without title"
      ]
     },
     "metadata": {},
     "output_type": "display_data"
    }
   ],
   "source": [
    "uplot(xL=c(-2,-4), xR=\"sym\", vLmin=0, vLmax=8, vR=3, g=1, B=8, out=\"uL\") # try\"uL\""
   ]
  },
  {
   "cell_type": "markdown",
   "metadata": {
    "slideshow": {
     "slide_type": "subslide"
    }
   },
   "source": [
    "### Equilibrium 3 (when $2\\gamma(x_R- x_L) < B$ and $x_R \\neq x_L$: Moderate Platform Divergence)"
   ]
  },
  {
   "cell_type": "code",
   "execution_count": 9,
   "metadata": {
    "scrolled": false,
    "slideshow": {
     "slide_type": "-"
    }
   },
   "outputs": [
    {
     "data": {},
     "metadata": {},
     "output_type": "display_data"
    },
    {
     "data": {
      "image/png": "[encoded data removed]",
      "text/plain": [
       "plot without title"
      ]
     },
     "metadata": {},
     "output_type": "display_data"
    }
   ],
   "source": [
    "uplot(xL=-1, xR=\"sym\", vLmin=0, vLmax=8, vR=3, g=1, B=8, out=\"BlL\") # try\"uL\""
   ]
  },
  {
   "cell_type": "markdown",
   "metadata": {
    "slideshow": {
     "slide_type": "subslide"
    }
   },
   "source": [
    "* No Pure Strategy Equilibria\n",
    "\n",
    "* There is a mixed-strategy EQ where supports $v_c \\in I(v_{-c}, x_L, x_R)$ for both players. \n",
    "   * Players play different action in different subgame (non-overlapping) \n",
    "   * $\\alpha \\equiv 2\\gamma (x_R - x_L)$\n",
    "   * The platform is moderately diverged if $0 < \\alpha < B \\equiv \\cfrac{B}{\\alpha}>1$.\n",
    "   * $T(x)$: the integer greater or equal to $x$ - 1. (If $x = 10.89$, then$T(x)=10$).\n",
    "   * $n$: $T\\left(\\cfrac{B}{\\alpha}\\right)$\n"
   ]
  },
  {
   "cell_type": "markdown",
   "metadata": {
    "slideshow": {
     "slide_type": "subslide"
    }
   },
   "source": [
    "* Then the EQ $(\\sigma_L, \\sigma_R)$ is characterized as:\n",
    "   \n",
    "   \\begin{equation*}\n",
    "   (p_c^1, p_c^2, ..., p_c^n) = \\left(1- n \\cdot \\cfrac{\\alpha}{B},\\cfrac{\\alpha}{B}, ..., \\cfrac{\\alpha}{B}\\right) \\\\\n",
    "    \\mbox{assigned to:} \\{v_c^1 = 0, v_c^2, ..., v_c^n\\}\n",
    "   \\end{equation*}"
   ]
  },
  {
   "cell_type": "markdown",
   "metadata": {
    "slideshow": {
     "slide_type": "subslide"
    }
   },
   "source": [
    "Where:\n",
    " * $\\beta^k$: The probability that L wins with $(v_L^k, v_R^k)$\n",
    "    1. $v_L^2 = Bp_L^1\\beta^1 + \\alpha(1-\\beta^1)$\n",
    "    2. $v_R^2 = Bp_R^1(1-\\beta^1) + \\alpha\\beta^1$ \n",
    "    3. For $k>1$, \n",
    "       * $v_L^{k+1} = \\alpha + \\alpha(\\beta^{k+1} - \\beta^k) - v_L^k$\n",
    "       * $v_R^{k+1} = \\alpha - \\alpha(\\beta^{k+1} - \\beta^k) - v_R^k$\n",
    "       * $v_L^{k+1} + v_L^{k+1} = \\alpha - (v_L^k +v_R^k)$ \n",
    "          \n",
    " * The set of $p^k_c$ is unique, but $v_c^k$ for $k > 2$ are not. "
   ]
  },
  {
   "cell_type": "markdown",
   "metadata": {
    "slideshow": {
     "slide_type": "subslide"
    }
   },
   "source": [
    " * Proposition 1 (Latter Part): The strictly positive payoff from non-overlapping mixed strategy EQ are:\n",
    " \n",
    " $$\\pi_L(x_L, x_R) = B\\left( \\cfrac{1}{2} + \\cfrac{x_R + x_L}{2\\gamma} \\right) \\left(1- \\cfrac{2\\gamma(x_R-x_L)}{B} T\\left(\\cfrac{B}{2\\gamma(x_R-x_L)} \\right) \\right)$$\n",
    " \n",
    " $$\\pi_R(x_L, x_R) = B\\left( \\cfrac{1}{2} - \\cfrac{x_R + x_L}{2\\gamma} \\right) \\left(1- \\cfrac{2\\gamma(x_R-x_L)}{B} T\\left(\\cfrac{B}{2\\gamma(x_R-x_L)} \\right) \\right)$$\n",
    " \n",
    "   1. $B$: The payoff of victory given no valence accumulated\n",
    "   2. The probability that $c$ is winning if no valence accumulated.\n",
    "   3. The probability that either party chooses zero valence.\n",
    "   "
   ]
  },
  {
   "cell_type": "code",
   "execution_count": 10,
   "metadata": {
    "collapsed": true,
    "slideshow": {
     "slide_type": "skip"
    }
   },
   "outputs": [],
   "source": [
    "## Payoff Simulation\n",
    "usim2 <- function(xLmin, xLmax, xR=\"sym\", g=1, B=8, out=\"piL\", n=500){\n",
    "    # Symmetric xR\n",
    "    xL <- seq(xLmin,xLmax, length=n)\n",
    "    if(xR==\"sym\"){\n",
    "      xR <- -xL\n",
    "    } else { \n",
    "        xR <- rep(xR,n)\n",
    "    }\n",
    "    outval = ucalc(xL=xL,xR=xR, g=g, B=B, out=out)\n",
    "    \n",
    "    d <- data.frame(out=outval, xL=xL, xR= xR, g=g, B=B)\n",
    " \n",
    "    return(d)   \n",
    "}"
   ]
  },
  {
   "cell_type": "code",
   "execution_count": 11,
   "metadata": {
    "collapsed": true,
    "slideshow": {
     "slide_type": "skip"
    }
   },
   "outputs": [],
   "source": [
    "uplot2 <- function(xLmin, xLmax, xR=\"sym\", g=1, B=8, out=\"piL\", n=500, ylim=NULL){\n",
    "  collist <- c(\"#66c2a5\",\"#fc8d62\",\"#8da0cb\",\"#e78ac3\",\"#a6d854\",\"#ffd92f\")\n",
    "  ud <- usim2(xLmin=xLmin, xLmax=xLmax, xR=xR, g=g, B=B, out=out, n=n)\n",
    "  ud$f <- (0.5 + (ud$xR+ud$xL)/(2*ud$g)) * (2*ud$g*(ud$xR-ud$xL))\n",
    "  p <- ggplot(ud, aes(x=xL)) + gktheme \n",
    "  p <- p + geom_line(aes(y=out), size = 1)\n",
    "  if (out==\"piL\") {\n",
    "      p <- p + geom_line(aes(y=f), size=0.5, colour=\"red\")\n",
    "  }\n",
    "  if (is.null(ylim)==FALSE){\n",
    "    p <-p + scale_y_continuous(limits=ylim)\n",
    "  }\n",
    "  \n",
    "  # Title Automation\n",
    "  t1 <- \"L's Platform Impact on\"\n",
    "  xLt <- paste(\"\\nxL=\",min(ud$xL),\":\",max(ud$xL),sep=\"\")  \n",
    "  xRt <- paste(\"xR=\",min(ud$xR),\":\",max(ud$xR),sep=\"\")  \n",
    "  gt <- paste(\"gamma=\", g, sep=\"\")\n",
    "  Bt <- paste(\"B=\", B, sep=\"\")   \n",
    "  txt <- paste(t1,out,xLt,xRt,gt,Bt)\n",
    "  p <- p + ggtitle(txt) + ylab(out)  \n",
    "               \n",
    "  return(p)\n",
    "}"
   ]
  },
  {
   "cell_type": "code",
   "execution_count": 12,
   "metadata": {
    "slideshow": {
     "slide_type": "subslide"
    }
   },
   "outputs": [
    {
     "data": {},
     "metadata": {},
     "output_type": "display_data"
    },
    {
     "data": {
      "image/png": "[encoded data removed]",
      "text/plain": [
       "plot without title"
      ]
     },
     "metadata": {},
     "output_type": "display_data"
    }
   ],
   "source": [
    "uplot2(xLmin = -6, xLmax = 5, xR=6, g=1, B=10, out=\"piL\") #change g"
   ]
  },
  {
   "cell_type": "markdown",
   "metadata": {
    "slideshow": {
     "slide_type": "subslide"
    }
   },
   "source": [
    "* Proposition 2: Expected sum of valences in the EQ is unique to $(x_L, x_R)$:\n",
    "\n",
    "$$E[v_L+v_R | x_R, x_L, \\gamma, B] = 2\\gamma(x_R-x_L) \\cdot T\\left(\\cfrac{B}{2\\gamma(x_R-x_L)}\\right)$$ "
   ]
  },
  {
   "cell_type": "code",
   "execution_count": 13,
   "metadata": {
    "slideshow": {
     "slide_type": "subslide"
    }
   },
   "outputs": [
    {
     "data": {},
     "metadata": {},
     "output_type": "display_data"
    },
    {
     "data": {
      "image/png": "[encoded data removed]",
      "text/plain": [
       "plot without title"
      ]
     },
     "metadata": {},
     "output_type": "display_data"
    }
   ],
   "source": [
    "uplot2(xLmin = -6, xLmax = 5, xR=6, g=1, B=10, out=\"vLR\") # change g"
   ]
  },
  {
   "cell_type": "markdown",
   "metadata": {
    "slideshow": {
     "slide_type": "slide"
    }
   },
   "source": [
    "## 3.3. Solve Platform Game\n",
    "\n",
    "* Proposition 3: There is no SPE with $x_L=x_R$\n",
    "  * because $\\pi_c(x_L, x_R)$ are strictly positive.\n",
    "  \n",
    "* Proposition 4: Non-overlapping SPE with moderately diverged platforms exists if $B \\geq 2\\gamma$, and all SPEs have moderately diverged platforms if $B > 4\\gamma$."
   ]
  },
  {
   "cell_type": "markdown",
   "metadata": {
    "slideshow": {
     "slide_type": "subslide"
    }
   },
   "source": [
    "* In the EQ, the equilibrium platforms are: \n",
    "$$x^\\star_L = -\\cfrac{B}{4n\\gamma} \\mbox{ and } x^\\star_R = \\cfrac{B}{4n\\gamma}$$\n",
    "$$\\mbox{ where $n$ is the integer $\\in \\left[\\cfrac{B}{2\\gamma^2}-1, \\cfrac{B}{2\\gamma^2}+1\\right]$}$$ \n",
    " "
   ]
  },
  {
   "cell_type": "markdown",
   "metadata": {
    "slideshow": {
     "slide_type": "slide"
    }
   },
   "source": [
    "## 4. Comparative Statics"
   ]
  },
  {
   "cell_type": "code",
   "execution_count": 14,
   "metadata": {
    "collapsed": true,
    "slideshow": {
     "slide_type": "skip"
    }
   },
   "outputs": [],
   "source": [
    "usim3 <- function(Bmin, Bmax, xL=NULL, xR=\"sym\", g=1, out=\"vLR\", n=500){\n",
    "    # Symmetric xR\n",
    "    B <- seq(Bmin,Bmax, length=n)\n",
    "        nval <- ceiling(0.5*(B/g^2))\n",
    "    if (is.null(xL)==TRUE) {\n",
    "        xL <- -(B/(4*nval*g)) \n",
    "        xR <- -xL        \n",
    "    } else if (xR==\"sym\") { \n",
    "        xR <- -xL        \n",
    "    }\n",
    "    outval = ucalc(xL=xL, xR=xR, g=g, B=B, out=out)\n",
    "    \n",
    "    d <- data.frame(out=outval, xL=xL, xR= xR, g=g, B=B, n=nval)\n",
    " \n",
    "    return(d)   \n",
    "}"
   ]
  },
  {
   "cell_type": "code",
   "execution_count": 15,
   "metadata": {
    "collapsed": true,
    "slideshow": {
     "slide_type": "skip"
    }
   },
   "outputs": [],
   "source": [
    "uplot3 <- function(Bmin, Bmax, xL=NULL, xR=\"sym\", g=1, out=\"vLR\", n=500, ylim=NULL){\n",
    "  if(out==\"xdist\"){\n",
    "    ud <- usim3(Bmin=Bmin, Bmax=Bmax, xL=xL, xR=xR, g=g, n=n) \n",
    "    ud$out <- abs(ud$xR-ud$xL)\n",
    "  } else {\n",
    "    ud <- usim3(Bmin=Bmin, Bmax=Bmax, xL=xL, xR=xR, g=g, out=out, n=n)  \n",
    "  }  \n",
    "  p <- ggplot(ud, aes(x=B)) + gktheme \n",
    "  p <- p + geom_line(aes(y=out), size = 1)               \n",
    "  if (is.null(ylim)==FALSE){\n",
    "    p <-p + scale_y_continuous(limits=ylim)\n",
    "  }\n",
    "  \n",
    "  # Title Automation\n",
    "  t1 <- \"B's Impact on\"\n",
    "  xLt <- paste(\"\\nxL=\",round(min(ud$xL),2),\":\",round(max(ud$xL),2),sep=\"\")  \n",
    "  xRt <- paste(\"xR=\", round(min(ud$xR),2),\":\",round(max(ud$xR),2),sep=\"\")\n",
    "  xLt2 <- paste(\"\\nxL=\",median(ud$xL),sep=\"\")  \n",
    "  xRt2 <- paste(\"xR=\",median(ud$xR),sep=\"\")\n",
    "  nt <- paste(\"\\nn=ceiling(0.5*B/g^2)\",sep=\"\") \n",
    "  gt <- paste(\"gamma=\", g, sep=\"\")\n",
    "  Bt <- paste(\"B=\", min(ud$B),\":\",max(ud$B),sep=\"\")\n",
    "  if (is.null(xL)==TRUE){\n",
    "      txt <- paste(t1,out,xLt,xRt,gt,Bt,nt)\n",
    "  } else {\n",
    "      txt <- paste(t1,out,xLt2,xRt2,gt,Bt)\n",
    "  }\n",
    "  p <- p + ggtitle(txt) + ylab(out)  \n",
    "               \n",
    "  return(p)\n",
    "}"
   ]
  },
  {
   "cell_type": "markdown",
   "metadata": {
    "slideshow": {
     "slide_type": "subslide"
    }
   },
   "source": [
    "### The Total Valence Accumulation and B"
   ]
  },
  {
   "cell_type": "code",
   "execution_count": 16,
   "metadata": {
    "slideshow": {
     "slide_type": "-"
    }
   },
   "outputs": [
    {
     "data": {},
     "metadata": {},
     "output_type": "display_data"
    },
    {
     "data": {
      "image/png": "[encoded data removed]",
      "text/plain": [
       "plot without title"
      ]
     },
     "metadata": {},
     "output_type": "display_data"
    }
   ],
   "source": [
    "uplot3(Bmin = 0.001, Bmax = 10, xL=NULL, g=1, out=\"vLR\", n=500) #Try xL=-0.5"
   ]
  },
  {
   "cell_type": "code",
   "execution_count": 17,
   "metadata": {
    "slideshow": {
     "slide_type": "skip"
    }
   },
   "outputs": [
    {
     "data": {},
     "metadata": {},
     "output_type": "display_data"
    },
    {
     "data": {
      "image/png": "[encoded data removed]",
      "text/plain": [
       "plot without title"
      ]
     },
     "metadata": {},
     "output_type": "display_data"
    }
   ],
   "source": [
    "options(repr.plot.width=6, repr.plot.height=4)\n",
    "uplot3(Bmin = 0.001, Bmax = 10, xL=-0.5, g=1, out=\"vLR\", n=500) #Try xL=-0.5"
   ]
  },
  {
   "cell_type": "markdown",
   "metadata": {
    "slideshow": {
     "slide_type": "subslide"
    }
   },
   "source": [
    "### Platform Divergence and B"
   ]
  },
  {
   "cell_type": "code",
   "execution_count": 18,
   "metadata": {
    "slideshow": {
     "slide_type": "-"
    }
   },
   "outputs": [
    {
     "data": {},
     "metadata": {},
     "output_type": "display_data"
    },
    {
     "data": {
      "image/png": "[encoded data removed]",
      "text/plain": [
       "plot without title"
      ]
     },
     "metadata": {},
     "output_type": "display_data"
    }
   ],
   "source": [
    "uplot3(Bmin = 0.01, Bmax = 10, g=1, out=\"xdist\") # change g"
   ]
  }
 ],
 "metadata": {
  "author": "Gento Kato",
  "celltoolbar": "Slideshow",
  "hide_codes": true,
  "kernelspec": {
   "display_name": "R",
   "language": "R",
   "name": "ir"
  },
  "language_info": {
   "codemirror_mode": "r",
   "file_extension": ".r",
   "mimetype": "text/x-r-source",
   "name": "R",
   "pygments_lexer": "r",
   "version": "3.4.2"
  },
  "livereveal": {
   "auto_select": "code",
   "auto_select_fragment": true,
   "scroll": true,
   "slideNumber": "c",
   "start_slideshow_at": "selected",
   "theme": "beige"
  },
  "title": "Ashworth and Bueno de Mesquita (2009) Review"
 },
 "nbformat": 4,
 "nbformat_minor": 2
}
