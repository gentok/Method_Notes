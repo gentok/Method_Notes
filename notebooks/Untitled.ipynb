{
 "cells": [
  {
   "cell_type": "code",
   "execution_count": 5,
   "metadata": {},
   "outputs": [],
   "source": [
    "%reload_ext tikzmagic"
   ]
  },
  {
   "cell_type": "code",
   "execution_count": 8,
   "metadata": {},
   "outputs": [
    {
     "data": {
      "text/latex": [
       "\\begin{tikzpicture}[font=\\footnotesize,scale=1.5]\n",
       "% Two node styles: solid and hollow\n",
       "\\tikzstyle{solid node}=[circle,draw,inner sep=1.2,fill=black];\n",
       "\\tikzstyle{hollow node}=[circle,draw,inner sep=1.2];\n",
       "% The Tree (use \"coordiante\" for empty node)\n",
       "\\node(0)[hollow node]{}\n",
       "child[grow=90]{node[solid node]{}\n",
       "\tchild[grow=0]{node[solid node]{}\n",
       "\t\tchild[grow=25]{node[coordinate]{}edge from parent[black] node[above left]{$B$}}\n",
       "\t\tchild[grow=335]{node[coordinate]{}edge from parent[black] node[below left]{$NB$} }\t\t\n",
       "\t\tedge from parent[black] node[above]{$N$}\n",
       "\t}\n",
       "\tchild[grow=180]{node[solid node]{}\t\n",
       "\t\tchild[grow=155]{node[coordinate]{}edge from parent[black] node[above right]{$B$}}\n",
       "\t\tchild[grow=205]{node[coordinate]{}edge from parent[black] node[below right]{$NB$} }\t\t\n",
       "\t\tedge from parent[black] node[above]{$A$}\n",
       "\t}\n",
       "\tedge from parent node[right]{$p=0.5$}\n",
       "}\t\n",
       "child[grow=270]{node[solid node]{}\t\n",
       "\tchild[grow=0]{node[solid node]{}\n",
       "\t\tchild[grow=25]{node[coordinate]{}edge from parent[black] node[above left]{$B$}}\n",
       "\t\tchild[grow=335]{node[coordinate]{}edge from parent[black] node[below left]{$NB$} }\t\t\n",
       "\t\tedge from parent[black] node[below]{$N$}\n",
       "\t}\n",
       "\tchild[grow=180]{node[solid node]{}\n",
       "\t\tchild[grow=155]{node[coordinate]{}edge from parent[black] node[above right]{$B$}}\n",
       "\t\tchild[grow=205]{node[coordinate]{}edge from parent[black] node[below right]{$NB$} }\t\t\n",
       "\t\tedge from parent[black] node[below]{$A$}\n",
       "\t}\n",
       "\tedge from parent[black] node[left]{$1-p=0.5$}\n",
       "};\n",
       "% Line\n",
       "\\draw[dashed](0-1-1)to(0-2-1);\n",
       "\\draw[dashed](0-1-2)to(0-2-2);\n",
       "% Movers\n",
       "\\node[right]at(0){\\textbf{$N$}};\n",
       "\\node[above]at(0-1){\\textbf{$P1_H$}};\n",
       "\\node[below]at(0-2){\\textbf{$P1_L$}};\n",
       "\\node[right]at($(0-1-1)!.5!(0-2-1)$){$P2$};\n",
       "\\node[left]at($(0-1-2)!.5!(0-2-2)$){$P2$};\n",
       "% Beliefs\n",
       "\\node[red, above]at(0-1-1){\\textbf{$\\pi$}};\n",
       "\\node[red, below]at(0-2-1){\\textbf{$1-\\pi$}};\n",
       "\\node[red, above]at(0-1-2){\\textbf{$\\mu$}};\n",
       "\\node[red, below]at(0-2-2){\\textbf{$1-\\mu$}};\n",
       "% payoffs\n",
       "\\node[right]at(0-1-1-1){$(R,1)$};\n",
       "\\node[right]at(0-1-1-2){$(0,0)$};\n",
       "\\node[left]at(0-1-2-1){$(R-c,1)$};\n",
       "\\node[left]at(0-1-2-2){$(-c,0)$};\n",
       "\\node[right]at(0-2-1-1){$(r,-1)$};\n",
       "\\node[right]at(0-2-1-2){$(0,0)$};\n",
       "\\node[left]at(0-2-2-1){$(r-c,-1)$};\n",
       "\\node[left]at(0-2-2-2){$(-c,0)$};\n",
       "\\end{tikzpicture}"
      ],
      "text/plain": [
       "<IPython.core.display.Latex object>"
      ]
     },
     "metadata": {},
     "output_type": "display_data"
    }
   ],
   "source": [
    "%%\n",
    "\\begin{tikzpicture}[font=\\footnotesize,scale=1.5]\n",
    "% Two node styles: solid and hollow\n",
    "\\tikzstyle{solid node}=[circle,draw,inner sep=1.2,fill=black];\n",
    "\\tikzstyle{hollow node}=[circle,draw,inner sep=1.2];\n",
    "% The Tree (use \"coordiante\" for empty node)\n",
    "\\node(0)[hollow node]{}\n",
    "child[grow=90]{node[solid node]{}\n",
    "\tchild[grow=0]{node[solid node]{}\n",
    "\t\tchild[grow=25]{node[coordinate]{}edge from parent[black] node[above left]{$B$}}\n",
    "\t\tchild[grow=335]{node[coordinate]{}edge from parent[black] node[below left]{$NB$} }\t\t\n",
    "\t\tedge from parent[black] node[above]{$N$}\n",
    "\t}\n",
    "\tchild[grow=180]{node[solid node]{}\t\n",
    "\t\tchild[grow=155]{node[coordinate]{}edge from parent[black] node[above right]{$B$}}\n",
    "\t\tchild[grow=205]{node[coordinate]{}edge from parent[black] node[below right]{$NB$} }\t\t\n",
    "\t\tedge from parent[black] node[above]{$A$}\n",
    "\t}\n",
    "\tedge from parent node[right]{$p=0.5$}\n",
    "}\t\n",
    "child[grow=270]{node[solid node]{}\t\n",
    "\tchild[grow=0]{node[solid node]{}\n",
    "\t\tchild[grow=25]{node[coordinate]{}edge from parent[black] node[above left]{$B$}}\n",
    "\t\tchild[grow=335]{node[coordinate]{}edge from parent[black] node[below left]{$NB$} }\t\t\n",
    "\t\tedge from parent[black] node[below]{$N$}\n",
    "\t}\n",
    "\tchild[grow=180]{node[solid node]{}\n",
    "\t\tchild[grow=155]{node[coordinate]{}edge from parent[black] node[above right]{$B$}}\n",
    "\t\tchild[grow=205]{node[coordinate]{}edge from parent[black] node[below right]{$NB$} }\t\t\n",
    "\t\tedge from parent[black] node[below]{$A$}\n",
    "\t}\n",
    "\tedge from parent[black] node[left]{$1-p=0.5$}\n",
    "};\n",
    "% Line\n",
    "\\draw[dashed](0-1-1)to(0-2-1);\n",
    "\\draw[dashed](0-1-2)to(0-2-2);\n",
    "% Movers\n",
    "\\node[right]at(0){\\textbf{$N$}};\n",
    "\\node[above]at(0-1){\\textbf{$P1_H$}};\n",
    "\\node[below]at(0-2){\\textbf{$P1_L$}};\n",
    "\\node[right]at($(0-1-1)!.5!(0-2-1)$){$P2$};\n",
    "\\node[left]at($(0-1-2)!.5!(0-2-2)$){$P2$};\n",
    "% Beliefs\n",
    "\\node[red, above]at(0-1-1){\\textbf{$\\pi$}};\n",
    "\\node[red, below]at(0-2-1){\\textbf{$1-\\pi$}};\n",
    "\\node[red, above]at(0-1-2){\\textbf{$\\mu$}};\n",
    "\\node[red, below]at(0-2-2){\\textbf{$1-\\mu$}};\n",
    "% payoffs\n",
    "\\node[right]at(0-1-1-1){$(R,1)$};\n",
    "\\node[right]at(0-1-1-2){$(0,0)$};\n",
    "\\node[left]at(0-1-2-1){$(R-c,1)$};\n",
    "\\node[left]at(0-1-2-2){$(-c,0)$};\n",
    "\\node[right]at(0-2-1-1){$(r,-1)$};\n",
    "\\node[right]at(0-2-1-2){$(0,0)$};\n",
    "\\node[left]at(0-2-2-1){$(r-c,-1)$};\n",
    "\\node[left]at(0-2-2-2){$(-c,0)$};\n",
    "\\end{tikzpicture}"
   ]
  },
  {
   "cell_type": "code",
   "execution_count": null,
   "metadata": {
    "collapsed": true
   },
   "outputs": [],
   "source": []
  }
 ],
 "metadata": {
  "kernelspec": {
   "display_name": "Python 2",
   "language": "python",
   "name": "python2"
  },
  "language_info": {
   "codemirror_mode": {
    "name": "ipython",
    "version": 2
   },
   "file_extension": ".py",
   "mimetype": "text/x-python",
   "name": "python",
   "nbconvert_exporter": "python",
   "pygments_lexer": "ipython2",
   "version": "2.7.13"
  }
 },
 "nbformat": 4,
 "nbformat_minor": 2
}
