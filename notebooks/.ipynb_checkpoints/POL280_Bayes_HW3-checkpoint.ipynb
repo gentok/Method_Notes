{
 "cells": [
  {
   "cell_type": "markdown",
   "metadata": {
    "deletable": true,
    "editable": true
   },
   "source": [
    "# POL280 Bayesian Modeling Homework 3"
   ]
  },
  {
   "cell_type": "markdown",
   "metadata": {
    "collapsed": true,
    "deletable": true,
    "editable": true
   },
   "source": [
    "### Gento Kato (June 8, 2017)\n",
    "\n",
    "---"
   ]
  },
  {
   "cell_type": "markdown",
   "metadata": {
    "deletable": true,
    "editable": true
   },
   "source": [
    "*Run a Bayesian linear model, assess convergence, and present results for a dataset of your choice.*\n",
    "\n",
    "---\n",
    "\n",
    "## 1. **Preparation**\n",
    "\n",
    "**Load Packages and Data**"
   ]
  },
  {
   "cell_type": "code",
   "execution_count": 1,
   "metadata": {
    "collapsed": false,
    "deletable": true,
    "editable": true
   },
   "outputs": [
    {
     "name": "stderr",
     "output_type": "stream",
     "text": [
      "Warning message:\n",
      "\"package 'rjags' was built under R version 3.3.3\"Loading required package: coda\n",
      "Linked to JAGS 4.2.0\n",
      "Loaded modules: basemod,bugs\n",
      "Warning message:\n",
      "\"package 'mcmcplots' was built under R version 3.3.3\"Loading required package: ggplot2\n"
     ]
    }
   ],
   "source": [
    "## Clear Workspace\n",
    "#rm(list=ls())\n",
    "## Load Packages\n",
    "library(rjags); library(mcmcplots); library(coefplot); library(ggplot2)\n",
    "source(\"https://raw.githubusercontent.com/gentok/Method_Notes/master/sources/gktheme.R\")\n",
    "## Load Data\n",
    "library(foreign)\n",
    "data = read.dta(\"../data/POL280/assignment3_bayes.dta\")"
   ]
  },
  {
   "cell_type": "markdown",
   "metadata": {},
   "source": [
    "**Describe relevant variables**"
   ]
  },
  {
   "cell_type": "code",
   "execution_count": 2,
   "metadata": {
    "collapsed": false,
    "deletable": true,
    "editable": true,
    "scrolled": false
   },
   "outputs": [
    {
     "data": {},
     "metadata": {},
     "output_type": "display_data"
    },
    {
     "data": {
      "image/png": "[encoded data removed]",
      "text/plain": [
       "plot without title"
      ]
     },
     "metadata": {},
     "output_type": "display_data"
    }
   ],
   "source": [
    "options(repr.plot.width=4, repr.plot.height=3, warn=-1)\n",
    "ggplot(data=data,aes(wgt)) + gktheme + geom_histogram(bins=50) +\n",
    "ggtitle(\"Histogram of wgt (Outcome Variable)\") + xlab(\"wgt: Weight of Individual\")"
   ]
  },
  {
   "cell_type": "code",
   "execution_count": 3,
   "metadata": {
    "collapsed": false
   },
   "outputs": [
    {
     "data": {},
     "metadata": {},
     "output_type": "display_data"
    },
    {
     "data": {
      "image/png": "[encoded data removed]",
      "text/plain": [
       "plot without title"
      ]
     },
     "metadata": {},
     "output_type": "display_data"
    }
   ],
   "source": [
    "options(repr.plot.width=4, repr.plot.height=3, warn=-1)\n",
    "ggplot(data=data,aes(hgt)) + gktheme + geom_histogram(bins=50) +\n",
    "ggtitle(\"Histogram of hgt (IV1)\") + xlab(\"hgt: Height of Individual\")"
   ]
  },
  {
   "cell_type": "code",
   "execution_count": 4,
   "metadata": {
    "collapsed": false
   },
   "outputs": [
    {
     "data": {},
     "metadata": {},
     "output_type": "display_data"
    },
    {
     "data": {
      "image/png": "[encoded data removed]",
      "text/plain": [
       "plot without title"
      ]
     },
     "metadata": {},
     "output_type": "display_data"
    }
   ],
   "source": [
    "options(repr.plot.width=4, repr.plot.height=3, warn=-1)\n",
    "ggplot(data=data,aes(age)) + gktheme + geom_histogram(bins=50) +\n",
    "ggtitle(\"Histogram of age (IV2)\") + xlab(\"age: Age of Individual\")"
   ]
  },
  {
   "cell_type": "code",
   "execution_count": 5,
   "metadata": {
    "collapsed": false
   },
   "outputs": [
    {
     "data": {},
     "metadata": {},
     "output_type": "display_data"
    },
    {
     "data": {
      "image/png": "[encoded data removed]",
      "text/plain": [
       "plot without title"
      ]
     },
     "metadata": {},
     "output_type": "display_data"
    }
   ],
   "source": [
    "options(repr.plot.width=4, repr.plot.height=3, warn=-1)\n",
    "ggplot(data=data,aes(hc)) + gktheme + geom_histogram(bins=50) +\n",
    "ggtitle(\"Histogram of hc (IV3)\") + xlab(\"hc: Head Circumference of Individual\")"
   ]
  },
  {
   "cell_type": "markdown",
   "metadata": {
    "deletable": true,
    "editable": true
   },
   "source": [
    "## 2. **Run Frequentist Linear Regression**\n",
    "\n",
    "Using <code>lm</code> model, and export coefficient plot:"
   ]
  },
  {
   "cell_type": "code",
   "execution_count": 6,
   "metadata": {
    "collapsed": false,
    "deletable": true,
    "editable": true
   },
   "outputs": [
    {
     "data": {},
     "metadata": {},
     "output_type": "display_data"
    },
    {
     "data": {
      "image/png": "[encoded data removed]",
      "text/plain": [
       "plot without title"
      ]
     },
     "metadata": {},
     "output_type": "display_data"
    }
   ],
   "source": [
    "## OLS Prediction of Frequentist Model\n",
    "ols <- lm(wgt ~ hgt + age + hc, data=data)\n",
    "#summary(ols) ## Predicting Morality by Heterogeneity and Mobility\n",
    "options(repr.plot.width=4, repr.plot.height=3, warn=-1)\n",
    "coefplot(ols, title = NULL, decreasing = TRUE, innerCI = 1.96, outerCI = 0)"
   ]
  },
  {
   "cell_type": "markdown",
   "metadata": {
    "deletable": true,
    "editable": true
   },
   "source": [
    "## 3. **Run Bayesian Linear Regression Model**\n",
    "\n",
    "### **Original Code**"
   ]
  },
  {
   "cell_type": "code",
   "execution_count": 7,
   "metadata": {
    "collapsed": true
   },
   "outputs": [],
   "source": [
    "hw3.model <- \n",
    "\"model{\n",
    "   for i in 1:n){\n",
    "   wgt[i] ~ dnorm(mu, tau)\n",
    "   mu[i] <- alpha[i] + beta1 * hgt[i] + beta2 * age * beta3 * hc[j]\n",
    "  alpha ~ rnorm(0, .1)\n",
    "  beta1 - dunifr(-100,100)\n",
    "  beta3 <- dunif(-100,100)\n",
    "  tau ~ dgamma(.01,-.01)\n",
    "}\""
   ]
  },
  {
   "cell_type": "markdown",
   "metadata": {},
   "source": [
    "Through debugging, I found following problems in the above code:\n",
    "\n",
    "* <code>for i in 1:n)</code> $\\Rightarrow$ <code>for (i in 1:N)</code>\n",
    "* <code>wgt[i] ~ dnorm(mu, tau)</code> $\\Rightarrow$ <code>wgt[i] ~ dnorm(mu[i], tau)</code>\n",
    "* <code>alpha[i] +</code> $\\Rightarrow$ <code>alpha +</code>\n",
    "* <code>age * beta3</code> $\\Rightarrow$  <code>age[i] + beta3</code>\n",
    "* <code>hc[j]</code> $\\Rightarrow$  <code>hc[i]</code>\n",
    "* ADD following lines to define independent variables' prior for missing values<br> \n",
    "<code>hgt[i] ~ dnorm(hgt_mean, tau)</code> <br>\n",
    "<code>age[i] ~ dnorm(age_mean, tau)</code> <br>\n",
    "<code>hc[i] ~ dnorm(hc_mean, tau)</code> \n",
    "* ADD following line: <br><code>}</code>\n",
    "* <code>alpha ~ rnorm(0, .1)</code> $\\Rightarrow$ <code>alpha ~ dnorm(0, .1)</code>\n",
    "* <code>beta1 - dunifr(-100,100)</code> $\\Rightarrow$ <code>beta1 ~ dunif(-100,100)</code>\n",
    "* ADD following line: <br> <code>beta2 ~ dunif(-100,100)</code>\n",
    "* <code>beta3 <- dunif(-100,100)</code> $\\Rightarrow$ <code>beta3 ~ dunif(-100,100)</code>\n",
    "* <code>tau ~ dgamma(.01,-.01)</code> $\\Rightarrow$ <code>tau ~ dgamma(.01,.01)</code>\n",
    "\n",
    "### **New Code**"
   ]
  },
  {
   "cell_type": "code",
   "execution_count": 8,
   "metadata": {
    "collapsed": true,
    "deletable": true,
    "editable": true
   },
   "outputs": [],
   "source": [
    "hw3.model <- \n",
    "\"model{\n",
    "for (i in 1:N){\n",
    "wgt[i] ~ dnorm(mu[i], tau)\n",
    "mu[i] <- alpha + beta1 * hgt[i] + beta2 * age[i] + beta3 * hc[i]\n",
    "hgt[i] ~ dnorm(hgt_mean, tau)\n",
    "age[i] ~ dnorm(age_mean, tau)\n",
    "hc[i] ~ dnorm(hc_mean, tau)\n",
    "}\n",
    "alpha ~ dnorm(0, .1)\n",
    "beta1 ~ dunif(-100,100)\n",
    "beta2 ~ dunif(-100,100)\n",
    "beta3 ~ dunif(-100,100)\n",
    "tau ~ dgamma(.01,.01)\n",
    "}\""
   ]
  },
  {
   "cell_type": "markdown",
   "metadata": {
    "deletable": true,
    "editable": true
   },
   "source": [
    "### **Prepare data for JAGS**"
   ]
  },
  {
   "cell_type": "code",
   "execution_count": 9,
   "metadata": {
    "collapsed": false,
    "deletable": true,
    "editable": true
   },
   "outputs": [],
   "source": [
    "## Prepare Data\n",
    "wgt <- data$wgt ## DV\n",
    "hgt <- data$hgt ## IV 1\n",
    "age <- data$age ## IV 2\n",
    "hc <- data$hc ## IV 3\n",
    "\n",
    "N <- length(wgt) ## The sample size of data \n",
    "\n",
    "#Set of Parameters\n",
    "hw3.params <- c(\"alpha\", \"beta1\", \"beta2\", \"beta3\")\n",
    "\n",
    "## Set Starting Values\n",
    "hw3.inits <- function(){\n",
    "list(\"alpha\" = rnorm(1,20,1), \"beta1\" = rnorm(1), \"beta2\" = rnorm(1), \"beta3\" = rnorm(1))\n",
    "}"
   ]
  },
  {
   "cell_type": "markdown",
   "metadata": {
    "deletable": true,
    "editable": true
   },
   "source": [
    "### **Execute Bayesian Linear Model**"
   ]
  },
  {
   "cell_type": "code",
   "execution_count": 10,
   "metadata": {
    "collapsed": false,
    "deletable": true,
    "editable": true
   },
   "outputs": [
    {
     "name": "stdout",
     "output_type": "stream",
     "text": [
      "Compiling model graph\n",
      "   Resolving undeclared variables\n",
      "   Allocating nodes\n",
      "Graph information:\n",
      "   Observed stochastic nodes: 2916\n",
      "   Unobserved stochastic nodes: 81\n",
      "   Total graph size: 5195\n",
      "\n",
      "Initializing model\n",
      "\n"
     ]
    }
   ],
   "source": [
    "hw3.fit <- jags.model(textConnection(hw3.model),\n",
    "data = list(wgt=wgt, hgt=hgt, age=age, hc=hc, N=N, \n",
    "            hgt_mean=mean(hgt, na.rm=T), age_mean=mean(age, na.rm=T), hc_mean=mean(hc, na.rm=T)),\n",
    "inits = hw3.inits, n.chains = 2, n.adapt = 10000)"
   ]
  },
  {
   "cell_type": "code",
   "execution_count": 11,
   "metadata": {
    "collapsed": true,
    "deletable": true,
    "editable": true
   },
   "outputs": [],
   "source": [
    "samples <- coda.samples(hw3.fit, hw3.params, n.iter=5000, thin=5)\n",
    "# thin: Just extracting every 5th observation in each iteration"
   ]
  },
  {
   "cell_type": "markdown",
   "metadata": {},
   "source": [
    "### **Summarize Result**"
   ]
  },
  {
   "cell_type": "code",
   "execution_count": 13,
   "metadata": {
    "collapsed": false,
    "deletable": true,
    "editable": true
   },
   "outputs": [
    {
     "data": {
      "text/plain": [
       "\n",
       "Iterations = 10005:15000\n",
       "Thinning interval = 5 \n",
       "Number of chains = 2 \n",
       "Sample size per chain = 1000 \n",
       "\n",
       "1. Empirical mean and standard deviation for each variable,\n",
       "   plus standard error of the mean:\n",
       "\n",
       "          Mean      SD Naive SE Time-series SE\n",
       "alpha -1.05910 2.85878 0.063924        0.15130\n",
       "beta1  0.10637 0.07016 0.001569        0.01165\n",
       "beta2  2.93861 0.41488 0.009277        0.06720\n",
       "beta3 -0.05342 0.12056 0.002696        0.01682\n",
       "\n",
       "2. Quantiles for each variable:\n",
       "\n",
       "          2.5%      25%      50%    75%  97.5%\n",
       "alpha -6.50782 -3.02922 -1.05543 0.7824 4.6598\n",
       "beta1 -0.02271  0.05809  0.10941 0.1519 0.2469\n",
       "beta2  2.08849  2.67206  2.93353 3.2336 3.7324\n",
       "beta3 -0.29816 -0.13686 -0.04921 0.0292 0.1713\n"
      ]
     },
     "metadata": {},
     "output_type": "display_data"
    }
   ],
   "source": [
    "summary(samples)"
   ]
  },
  {
   "cell_type": "markdown",
   "metadata": {
    "deletable": true,
    "editable": true
   },
   "source": [
    "Caterplot:"
   ]
  },
  {
   "cell_type": "code",
   "execution_count": 17,
   "metadata": {
    "collapsed": false,
    "deletable": true,
    "editable": true
   },
   "outputs": [
    {
     "data": {
      "image/png": "[encoded data removed]",
      "text/plain": [
       "plot without title"
      ]
     },
     "metadata": {},
     "output_type": "display_data"
    }
   ],
   "source": [
    "options(repr.plot.width=5, repr.plot.height=3.5, warn=-1)\n",
    "caterplot(samples, parms = c(\"alpha\", \"beta1\", \"beta2\",\"beta3\"), collapse = FALSE,\n",
    "          labels = c( \"alpha (constant)\", \"beta1 (hgt)\", \"beta2 (age)\", \"beta3 (hc)\"), labels.loc = \"above\", \n",
    "          quantiles = list(inner=c(0.025,0.975)))"
   ]
  }
 ],
 "metadata": {
  "kernelspec": {
   "display_name": "R",
   "language": "R",
   "name": "ir"
  },
  "language_info": {
   "codemirror_mode": "r",
   "file_extension": ".r",
   "mimetype": "text/x-r-source",
   "name": "R",
   "pygments_lexer": "r",
   "version": "3.3.2"
  }
 },
 "nbformat": 4,
 "nbformat_minor": 2
}
