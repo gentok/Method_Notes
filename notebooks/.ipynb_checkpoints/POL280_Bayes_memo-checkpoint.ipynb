{
 "cells": [
  {
   "cell_type": "markdown",
   "metadata": {
    "deletable": true,
    "editable": true
   },
   "source": [
    "# POL280 Bayesian Modelling Memo & Codes\n",
    "\n",
    "(Contents are originally provided by Christopher Hare, annotated and revised by Gento Kato)\n",
    "\n",
    "***THIS MEMO IS NOT COMPLETE***"
   ]
  },
  {
   "cell_type": "markdown",
   "metadata": {
    "deletable": true,
    "editable": true
   },
   "source": [
    "## Lecture 1: Introduction (04/13/2017) "
   ]
  },
  {
   "cell_type": "markdown",
   "metadata": {
    "deletable": true,
    "editable": true
   },
   "source": [
    "###  Monte Carlo Simulation"
   ]
  },
  {
   "cell_type": "code",
   "execution_count": 3,
   "metadata": {
    "collapsed": false,
    "deletable": true,
    "editable": true
   },
   "outputs": [
    {
     "data": {
      "text/plain": [
       "inside\n",
       "   0    1 \n",
       "2106 7894 "
      ]
     },
     "metadata": {},
     "output_type": "display_data"
    },
    {
     "data": {
      "text/html": [
       "3.1392"
      ],
      "text/latex": [
       "3.1392"
      ],
      "text/markdown": [
       "3.1392"
      ],
      "text/plain": [
       "[1] 3.1392"
      ]
     },
     "metadata": {},
     "output_type": "display_data"
    },
    {
     "data": {
      "image/png": "[encoded data removed]",
      "text/plain": [
       "plot without title"
      ]
     },
     "metadata": {},
     "output_type": "display_data"
    }
   ],
   "source": [
    "## Monte Carlo Simulation ##\n",
    "\n",
    "#install.packages(\"plotrix\")\n",
    "library(plotrix)\n",
    "library(grid)\n",
    "\n",
    "options(repr.plot.width=5, repr.plot.height=5)\n",
    "## Plot Rectangle and Circle\n",
    "plot(c(-1, 1), c(-1, 1), type = \"n\", asp = 1)\n",
    "rect(-1, -1, 1, 1)\n",
    "draw.circle(0, 0, 1)\n",
    "\n",
    "## Conduct Simulation \n",
    "nsamp <- 10000 # The size of sample\n",
    "inside <- NA # Storage for those values inside the cirlce\n",
    "for(i in 1:nsamp){\n",
    "  x <- runif(2, -1, 1) ## Draw two values from uniform distribution (-1, 1)\n",
    "  if (sqrt(x[1] * x[1] + x[2] * x[2]) < 1) {\n",
    "    inside[i] <- 1; points(x[1], x[2], col = \"orange\")\n",
    "  }\n",
    "  if (sqrt(x[1] * x[1] + x[2] * x[2]) > 1) {\n",
    "    inside[i] <- 0; points(x[1], x[2], col = \"black\")\n",
    "  }\n",
    "}\n",
    "\n",
    "table(inside)\n",
    "4 * (7848 / 10000)"
   ]
  },
  {
   "cell_type": "markdown",
   "metadata": {
    "deletable": true,
    "editable": true
   },
   "source": [
    "## Lecture 2: Simple Bayesian Models and Priors (04/20/2017)"
   ]
  },
  {
   "cell_type": "markdown",
   "metadata": {
    "deletable": true,
    "editable": true
   },
   "source": [
    "### Intuition: The Monty Hall Problem\n",
    "\n",
    "Suppose you're on a game show and you're given teh choice of three doors: Behind one door is a car; behind the otheres, goats. You pick a door, say No.1, and the host, who knows what's behind the doors, opens another door, say No.3, which has a goat. He then says to you \"Do you wan to pick door No.2?\" Is it to your advantage to switch your choice?\n",
    "\n",
    "Let's pick door 1, and Monty then opens door 2 to show us a goat.\n",
    "\n",
    "Let A represent the outcome that the car is behind door 1. Let B represent the event that we're shown a goat behind door 2:\n",
    "\n",
    "$$P(A|B) = \\frac{P(B|A) P(A)}{P(B)}$$\n",
    "\n",
    "Let's Simulate by R!"
   ]
  },
  {
   "cell_type": "code",
   "execution_count": 92,
   "metadata": {
    "collapsed": false,
    "deletable": true,
    "editable": true
   },
   "outputs": [
    {
     "data": {
      "text/html": [
       "0.3259"
      ],
      "text/latex": [
       "0.3259"
      ],
      "text/markdown": [
       "0.3259"
      ],
      "text/plain": [
       "[1] 0.3259"
      ]
     },
     "metadata": {},
     "output_type": "display_data"
    }
   ],
   "source": [
    "## Monty Hall Problem Simulation ##\n",
    "doors <- c(\"1\", \"2\", \"3\") # Three Doors \n",
    "sim_montyhall <- function(door){\n",
    "car <- sample(doors, 1) # define the door with car\n",
    "pick <- doors[door] # your pick of the door\n",
    "open <- sample(doors[which(doors!=car & doors!=pick)], 1) # define the door opened\n",
    "return(pick==car) # return if the car is behind your picked door.\n",
    "}\n",
    "sims <- replicate(10000, sim_montyhall(1) ) #repeat the process many times\n",
    "mean(sims) # The probability"
   ]
  },
  {
   "cell_type": "markdown",
   "metadata": {
    "deletable": true,
    "editable": true
   },
   "source": [
    "### Bayesian Inference\n",
    "\n",
    "#### Do Statistical Inference\n",
    "\n",
    "In the statistical inference context, A is replaced with $\\theta$ (unknown parameters), and B is replaced with $y$ (data). Therefore, the equation becomes:\n",
    "\n",
    "\\begin{align}\n",
    "P(\\theta|y) &= \\frac{P(\\theta) P(y|\\theta)}{P(y)} \\\\\n",
    "&\\propto P(\\theta) L(\\theta|y)\n",
    "\\end{align}\n",
    "\n",
    "Intuitively stated:\n",
    "\n",
    "Posteriot Probability (of parameter level) $\\propto$ Prior Probability $\\times$ Likelihood Function\n",
    "\n",
    "It's all about **distribution**!"
   ]
  },
  {
   "cell_type": "markdown",
   "metadata": {
    "deletable": true,
    "editable": true
   },
   "source": [
    "#### Setting Prior\n",
    "\n",
    "Given the function given above, **prior matters** the most when the **data is sparse** (small size?) Data dominates the prior when there is enough data.\n",
    "\n",
    "The variance of prior matters. As the **variance of prior distribution increases**, the **impact of data on poterior distribution increases**."
   ]
  },
  {
   "cell_type": "markdown",
   "metadata": {
    "deletable": true,
    "editable": true
   },
   "source": [
    "### Bayesian Mechanics\n",
    "\n",
    "#### Three Steps to Model Bayesan\n",
    "\n",
    "1. Specify... <br>\n",
    "1) the probability model of **how $y$ were generated** (likelihood function) <br>\n",
    "2) **prior belief** of $\\theta$ (probability distribution)\n",
    "\n",
    "2. **Update $\\theta$** by conditioning the probability model on the **data**.\n",
    "\n",
    "3. Evaluate model fit and sensitivity."
   ]
  },
  {
   "cell_type": "markdown",
   "metadata": {
    "deletable": true,
    "editable": true
   },
   "source": [
    "#### First Step (1): Likelihood Function\n",
    "\n",
    "**Sampling density** $p(y | \\theta)$ is an assumption about the probability distribution that generated $y$. \n",
    "\n",
    "Defined as **PDF** (probability density functons) **if $y$ is continuous** random variables (e.g., normal distribution), <br> \n",
    "defined as **PMF** (probability mass functions) **if $y$ is discrete** random variables (e.g., binomial/poisson distribution).\n",
    "\n",
    "If **$y$ is fixed** (i.e., observed data) and **$\\theta$ is unknown** (e.g., coefficients from regression model), then $p(y | \\theta)$ is also called **likelihood function**. It is Calculataed as:\n",
    "\n",
    "\\begin{equation}\n",
    "L(\\theta | y) = \\prod_{i=1}^n p(y_i | \\theta)\n",
    "\\end{equation}\n",
    "\n",
    "<center>(Product of each $y_i$'s probability for given $\\theta$)</center>\n",
    "<!---\n",
    "Often easier to deal with natural log of the likelihood:\n",
    "$$\\mathit{l}(\\theta | y) = \\mbox{log}L(\\theta | y)$$ \n",
    "Because the original likelihood often become very small, so we want to deal with the manageable numbers by taking log of it.  \n",
    "--->　\n",
    " * **Frequentist** use of likelihood function: find the value of $\\theta$ that maximizes the likelihood of data $y$: $\\mbox{MLE}\\left(\\hat{\\theta}\\right)$. However this conceptualization cannot answer important questions such as: $pr (\\theta > 0)$; $pr(\\theta \\in (a, b))$ or relative likelihood of competing models. <br><br>\n",
    " \n",
    " * **Bayesian** use of likelihood function: use it to extract $P(\\theta|y)$. This is more interesting.\n",
    "\n",
    "\n"
   ]
  },
  {
   "cell_type": "markdown",
   "metadata": {
    "deletable": true,
    "editable": true
   },
   "source": [
    "#### First Step (2): Specifying Priors\n",
    "\n",
    "**Conjugate priors** produce posterior densities of the same distributional family as the prior.\n",
    "\n",
    "* **Beta (prior) - Binomial (likelihood) $\\Rightarrow$  Beta posterior**\n",
    "  \n",
    "  * This distribution is useful when the outcome variable is distributed across 0-1 range. Beta distribution takes values from 0 to 1, and binomial likelihood deals with the likelihood of value being 1 than 0. The calculation can be made as follows: <br>\n",
    "\\begin{align}\n",
    "\\mbox{Beta Prior } p(\\theta) &= \\frac{\\Gamma(\\alpha + \\beta)}{\\Gamma (\\alpha) + \\Gamma (\\beta)} \\theta^{\\alpha-1} (1-\\theta)^{\\beta-1} \\\\\n",
    "\\mbox{Binomial Likelihood } &= \n",
    "\\begin{pmatrix} \n",
    "n \\\\ y \n",
    "\\end{pmatrix} \n",
    "\\theta^y (1-\\theta)^{n-y}  \n",
    "\\end{align}\n",
    "\n",
    "   Then (can take the constant out): <br><br>\n",
    "\\begin{align}\n",
    "\\mbox{Posterior } &\\propto \\mbox{Prior} \\times \\mbox{Likelihood} \\\\\n",
    "\\pi(\\theta | y) &\\propto \\left\\{ \\frac{\\Gamma(\\alpha + \\beta)}{\\Gamma (\\alpha) + \\Gamma (\\beta)} \\theta^{\\alpha-1} (1-\\theta)^{\\beta-1} \\right\\} \\times \\left\\{ \n",
    "\\begin{pmatrix} \n",
    "n \\\\ y \n",
    "\\end{pmatrix} \n",
    "\\theta^y (1-\\theta)^{n-y} \\right\\} \\\\\n",
    "&\\propto \\theta^{\\alpha - 1 + y} + (1 - \\theta)^{\\beta - 1 + n - y}\n",
    "\\end{align}\n",
    "\n",
    "   The Solution is: <br><br>\n",
    "\\begin{align}\n",
    "\\mbox{Posterior } \\pi (\\theta | y) &\\approx \\mbox{Beta}( \\alpha + y, \\beta + n - y) \\\\\n",
    "E(\\theta | y) &\\approx \\frac{\\alpha + y}{\\alpha + \\beta + n} \n",
    "\\end{align}"
   ]
  },
  {
   "cell_type": "markdown",
   "metadata": {
    "deletable": true,
    "editable": true
   },
   "source": [
    "* **Gamma (Prior) - Poisson (Likelihood) $\\Rightarrow$ Gamma Posterior**\n",
    "\n",
    "\\begin{align}\n",
    "\\mbox{Gamma } &= \\frac{\\beta^{\\alpha}}{\\Gamma (\\alpha)} \\theta^{\\alpha-1} e^{- \\beta \\theta} \\\\\n",
    "\\mbox{Poisson PMF } &= p(y | \\theta) = \\frac{e^{-\\theta} \\theta^{y_i}}{y_i !} \\\\\n",
    "\\mbox{Poisson Likelihood } &= \\mathit{L}(\\theta | y) = \\hat{\\Pi}_{i=1}^n \\frac{e^{-\\theta} \\theta^{y_i}}{y_i !} \\\\\n",
    "&= \\frac{e^{-\\theta n} \\theta^{\\sum_{i=1}^{n} y_i} }{y_1 ! y_2 ! \\dots y_n !} \\\\\n",
    "\\pi(\\theta | y) &\\propto \\frac{\\beta^{\\alpha}}{\\Gamma (\\alpha)} \\theta^{\\alpha-1} e^{- \\beta \\theta} \\times \\frac{e^{-\\theta n} \\theta^{\\sum_{i=1}^{n} y_i} }{y_1 ! y_2 ! \\dots y_n !} \\\\\n",
    "&\\propto \\theta^{\\alpha - 1 + \\Sigma y} e^{- \\theta (\\beta + n)} \\\\\n",
    "&\\propto \\mbox{Gamma }(\\alpha + \\Sigma y, \\beta + n)\n",
    "\\end{align}"
   ]
  },
  {
   "cell_type": "markdown",
   "metadata": {
    "deletable": true,
    "editable": true
   },
   "source": [
    "### Motivating Example: Expected Performance of Base Ball Players\n",
    "\n",
    "Variable of Interest: Baseball players hitting probability (theoretically ranges from 0-1)<br>\n",
    "   * Prior Distribution: career batting averages of ALL baseball players (except for those who have really short career).\n",
    "   * Data: career batter box appearnce and career hits for EACH baseball player (binomial)\n",
    "   * Posterior: Expected performance of the player in the next batter box <br><br>\n",
    "   \n",
    "Use **Beta-Binomial conjugate priors** to model this variable!"
   ]
  },
  {
   "cell_type": "code",
   "execution_count": 25,
   "metadata": {
    "collapsed": false,
    "deletable": true,
    "editable": true,
    "scrolled": true
   },
   "outputs": [
    {
     "data": {
      "text/html": [
       "<table>\n",
       "<thead><tr><th scope=col>name</th><th scope=col>H</th><th scope=col>AB</th><th scope=col>average</th></tr></thead>\n",
       "<tbody>\n",
       "\t<tr><td>Hank Aaron    </td><td>3771          </td><td>12364         </td><td>0.3049984     </td></tr>\n",
       "\t<tr><td>Tommie Aaron  </td><td> 216          </td><td>  944         </td><td>0.2288136     </td></tr>\n",
       "\t<tr><td>Ed Abbaticchio</td><td> 772          </td><td> 3044         </td><td>0.2536137     </td></tr>\n",
       "\t<tr><td>Fred Abbott   </td><td> 107          </td><td>  513         </td><td>0.2085770     </td></tr>\n",
       "\t<tr><td>Jeff Abbott   </td><td> 157          </td><td>  596         </td><td>0.2634228     </td></tr>\n",
       "\t<tr><td>Kurt Abbott   </td><td> 523          </td><td> 2044         </td><td>0.2558708     </td></tr>\n",
       "</tbody>\n",
       "</table>\n"
      ],
      "text/latex": [
       "\\begin{tabular}{r|llll}\n",
       " name & H & AB & average\\\\\n",
       "\\hline\n",
       "\t Hank Aaron     & 3771           & 12364          & 0.3049984     \\\\\n",
       "\t Tommie Aaron   &  216           &   944          & 0.2288136     \\\\\n",
       "\t Ed Abbaticchio &  772           &  3044          & 0.2536137     \\\\\n",
       "\t Fred Abbott    &  107           &   513          & 0.2085770     \\\\\n",
       "\t Jeff Abbott    &  157           &   596          & 0.2634228     \\\\\n",
       "\t Kurt Abbott    &  523           &  2044          & 0.2558708     \\\\\n",
       "\\end{tabular}\n"
      ],
      "text/markdown": [
       "\n",
       "name | H | AB | average | \n",
       "|---|---|---|---|---|---|\n",
       "| Hank Aaron     | 3771           | 12364          | 0.3049984      | \n",
       "| Tommie Aaron   |  216           |   944          | 0.2288136      | \n",
       "| Ed Abbaticchio |  772           |  3044          | 0.2536137      | \n",
       "| Fred Abbott    |  107           |   513          | 0.2085770      | \n",
       "| Jeff Abbott    |  157           |   596          | 0.2634228      | \n",
       "| Kurt Abbott    |  523           |  2044          | 0.2558708      | \n",
       "\n",
       "\n"
      ],
      "text/plain": [
       "  name           H    AB    average  \n",
       "1 Hank Aaron     3771 12364 0.3049984\n",
       "2 Tommie Aaron    216   944 0.2288136\n",
       "3 Ed Abbaticchio  772  3044 0.2536137\n",
       "4 Fred Abbott     107   513 0.2085770\n",
       "5 Jeff Abbott     157   596 0.2634228\n",
       "6 Kurt Abbott     523  2044 0.2558708"
      ]
     },
     "metadata": {},
     "output_type": "display_data"
    }
   ],
   "source": [
    "## Library dplyr package \n",
    "library(dplyr) \n",
    "\n",
    "## Import Baseball Players Data\n",
    "load(\"../data/POL280/baseball.Rda\") \n",
    "\n",
    "## Filter data as AB >=500 (Appeared in batter box 500 or more times)\n",
    "career_filtered <- career %>% filter(AB >= 500) \n",
    "\n",
    "## See inside\n",
    "head(career_filtered) \n",
    "## H = hits; AB = appearnce at batter box, average = career batting av."
   ]
  },
  {
   "cell_type": "markdown",
   "metadata": {
    "deletable": true,
    "editable": true
   },
   "source": [
    "Now, we can fit the binomial distribution to the \"average\" data and make it a prior distribution."
   ]
  },
  {
   "cell_type": "code",
   "execution_count": 80,
   "metadata": {
    "collapsed": false,
    "deletable": true,
    "editable": true,
    "scrolled": false
   },
   "outputs": [
    {
     "name": "stderr",
     "output_type": "stream",
     "text": [
      "Warning message in densfun(x, parm[1], parm[2], ...):\n",
      "\"NaNs produced\"Warning message in densfun(x, parm[1], parm[2], ...):\n",
      "\"NaNs produced\"Warning message in densfun(x, parm[1], parm[2], ...):\n",
      "\"NaNs produced\""
     ]
    },
    {
     "data": {
      "text/html": [
       "<span style=white-space:pre-wrap>'The fitted beta distribution is B (alpha =  78.81 ; beta =  225.59 )'</span>"
      ],
      "text/latex": [
       "'The fitted beta distribution is B (alpha =  78.81 ; beta =  225.59 )'"
      ],
      "text/markdown": [
       "<span style=white-space:pre-wrap>'The fitted beta distribution is B (alpha =  78.81 ; beta =  225.59 )'</span>"
      ],
      "text/plain": [
       "[1] \"The fitted beta distribution is B (alpha =  78.81 ; beta =  225.59 )\""
      ]
     },
     "metadata": {},
     "output_type": "display_data"
    },
    {
     "data": {
      "text/html": [
       "<span style=white-space:pre-wrap>'The fitted distribution has a mean of  0.259  and the variance of  0.001'</span>"
      ],
      "text/latex": [
       "'The fitted distribution has a mean of  0.259  and the variance of  0.001'"
      ],
      "text/markdown": [
       "<span style=white-space:pre-wrap>'The fitted distribution has a mean of  0.259  and the variance of  0.001'</span>"
      ],
      "text/plain": [
       "[1] \"The fitted distribution has a mean of  0.259  and the variance of  0.001\""
      ]
     },
     "metadata": {},
     "output_type": "display_data"
    },
    {
     "data": {},
     "metadata": {},
     "output_type": "display_data"
    },
    {
     "data": {
      "image/png": "[encoded data removed]",
      "text/plain": [
       "plot without title"
      ]
     },
     "metadata": {},
     "output_type": "display_data"
    }
   ],
   "source": [
    "## Fitting beta distribution to the given batting average data\n",
    "m <- MASS::fitdistr(career_filtered$average, dbeta,\n",
    "                    ## starting value: alpha = 1, beta = 10                    \n",
    "                    start = list(shape1 = 1, shape2 = 10))\n",
    "\n",
    "## Store Parameters of fitted prior distribution (of expected batting average)\n",
    "alpha0 <- m$estimate[1]; beta0 <- m$estimate[2]\n",
    "paste(\"The fitted beta distribution is B (alpha = \", round(alpha0,2), \"; beta = \", round(beta0,2), \")\")\n",
    "\n",
    "#Compare the observed distribution and fitted distribution. \n",
    "library(ggplot2); source(\"../sources/gktheme.R\")\n",
    "fittedprior <- rbeta(length(career_filtered$average),alpha0,beta0) \n",
    " # generate fitted distributionn (same n as observed, for the comparison)\n",
    "priordist <- data.frame(obs=career_filtered$average, fit=fittedprior) \n",
    " # Store them into dataframe\n",
    "bgraph <- ggplot(priordist) + gktheme +\n",
    "    geom_density(aes(obs, fill=\"1\"), alpha = 0.5, size=0.5) +   \n",
    "    geom_density(aes(fit, fill=\"2\"), alpha = 0.5, size=0.5) +   \n",
    "    scale_fill_manual(name=\"Prior Distribution\",values=c(1,2), \n",
    "      labels = c(\"Observed Distribution\",\"Fitted Beta Distribution\"))+\n",
    "    xlab(\"Value\")+ ylab(\"Density\")+\n",
    "    ggtitle(\"Observed and Fitted Prior Distributions\")+\n",
    "    theme(legend.position = \"right\")\n",
    "\n",
    "paste(\"The fitted distribution has a mean of \", round(mean(fittedprior),3), \n",
    "      \" and the variance of \", round(var(fittedprior),3))\n",
    "options(repr.plot.width=6, repr.plot.height=2.5)\n",
    "bgraph"
   ]
  },
  {
   "cell_type": "markdown",
   "metadata": {
    "deletable": true,
    "editable": true
   },
   "source": [
    "As shown above, we have almost perfect fit of beta distribution to the observed distribution. That's good.\n",
    "\n",
    "Now, we can move on to estimate the posterior distribution of expected performance at the next batting opportunity."
   ]
  },
  {
   "cell_type": "code",
   "execution_count": 28,
   "metadata": {
    "collapsed": false,
    "deletable": true,
    "editable": true
   },
   "outputs": [],
   "source": [
    "## Store expected batting average from posterior distribution\n",
    "career_eb <- career %>% mutate(eb_estimate = (H + alpha0) / (AB + alpha0 + beta0))"
   ]
  },
  {
   "cell_type": "code",
   "execution_count": 61,
   "metadata": {
    "collapsed": false,
    "deletable": true,
    "editable": true,
    "scrolled": false
   },
   "outputs": [
    {
     "data": {},
     "metadata": {},
     "output_type": "display_data"
    },
    {
     "data": {
      "image/png": "[encoded data removed]",
      "text/plain": [
       "plot without title"
      ]
     },
     "metadata": {},
     "output_type": "display_data"
    }
   ],
   "source": [
    "## Plot expected performance by observed career average\n",
    "library(ggplot2); source(\"../sources/gktheme.R\")\n",
    "bgraph <- ggplot(career_eb) + gktheme +\n",
    "    geom_line(aes(x = average, y = abs(average-eb_estimate)), size = 1) +   \n",
    "    scale_y_continuous(limits=c(0,1))+ scale_x_continuous(limits=c(0,1))+\n",
    "    xlab(\"Observed Career Batting Av.\")+ \n",
    "    ylab(\"|Expected - Observed|\")+\n",
    "    ggtitle(\"Observed vs. Expected \\n(By Obs. Performance)\")\n",
    "options(repr.plot.width=3, repr.plot.height=3)\n",
    "bgraph"
   ]
  },
  {
   "cell_type": "markdown",
   "metadata": {
    "deletable": true,
    "editable": true
   },
   "source": [
    "The above plot has a straight forward implication. The posterior expected performance gets further away from observed performance as the observed performance become more extreme relative to the mean of prior beleif distribution (= 0.258).\n",
    "\n",
    "Let's look at the result from another perspective..."
   ]
  },
  {
   "cell_type": "code",
   "execution_count": 62,
   "metadata": {
    "collapsed": false,
    "deletable": true,
    "editable": true
   },
   "outputs": [
    {
     "data": {},
     "metadata": {},
     "output_type": "display_data"
    },
    {
     "data": {
      "image/png": "[encoded data removed]",
      "text/plain": [
       "plot without title"
      ]
     },
     "metadata": {},
     "output_type": "display_data"
    }
   ],
   "source": [
    "bgraph <- ggplot(career_eb) + gktheme +\n",
    "    geom_line(aes(x = log(AB), y = abs(average-eb_estimate)), size = 1) +   \n",
    "    scale_y_continuous(limits=c(0,1))+ \n",
    "    scale_x_continuous(limits=c(0,10),breaks=c(0,log(10),log(100),log(1000),log(10000)),\n",
    "                       labels=c(\"0\",\"10\",\"100\",\"1000\",\"10000\"))+\n",
    "    xlab(\"Logged Career AB\")+ ylab(\"|Expected - Observed|\")+\n",
    "    ggtitle(\"Observed vs. Expected (by Career Length)\")\n",
    "                       \n",
    "options(repr.plot.width=6, repr.plot.height=3)\n",
    "bgraph"
   ]
  },
  {
   "cell_type": "markdown",
   "metadata": {
    "deletable": true,
    "editable": true
   },
   "source": [
    "The implication from the second plot is interesting. It indicates that, as the player has more data of its own, data is more likely to overwhelm prior beliefs.\n",
    "\n",
    "Let's look at this in more precise way. Following three players have (approximately) same career batting average, but has different length in career (AB):"
   ]
  },
  {
   "cell_type": "code",
   "execution_count": 77,
   "metadata": {
    "collapsed": false,
    "deletable": true,
    "editable": true
   },
   "outputs": [
    {
     "data": {
      "text/html": [
       "<table>\n",
       "<thead><tr><th scope=col>name</th><th scope=col>H</th><th scope=col>AB</th><th scope=col>average</th></tr></thead>\n",
       "<tbody>\n",
       "\t<tr><td>Pete Rose  </td><td>4256       </td><td>14053      </td><td>0.3028535  </td></tr>\n",
       "\t<tr><td>Eddie Brown</td><td> 878       </td><td> 2902      </td><td>0.3025500  </td></tr>\n",
       "\t<tr><td>Walt French</td><td> 297       </td><td>  981      </td><td>0.3027523  </td></tr>\n",
       "</tbody>\n",
       "</table>\n"
      ],
      "text/latex": [
       "\\begin{tabular}{r|llll}\n",
       " name & H & AB & average\\\\\n",
       "\\hline\n",
       "\t Pete Rose   & 4256        & 14053       & 0.3028535  \\\\\n",
       "\t Eddie Brown &  878        &  2902       & 0.3025500  \\\\\n",
       "\t Walt French &  297        &   981       & 0.3027523  \\\\\n",
       "\\end{tabular}\n"
      ],
      "text/markdown": [
       "\n",
       "name | H | AB | average | \n",
       "|---|---|---|\n",
       "| Pete Rose   | 4256        | 14053       | 0.3028535   | \n",
       "| Eddie Brown |  878        |  2902       | 0.3025500   | \n",
       "| Walt French |  297        |   981       | 0.3027523   | \n",
       "\n",
       "\n"
      ],
      "text/plain": [
       "  name        H    AB    average  \n",
       "1 Pete Rose   4256 14053 0.3028535\n",
       "2 Eddie Brown  878  2902 0.3025500\n",
       "3 Walt French  297   981 0.3027523"
      ]
     },
     "metadata": {},
     "output_type": "display_data"
    }
   ],
   "source": [
    "career[c(which(career_eb$name == \"Pete Rose\"),\n",
    "         which(career_eb$name == \"Eddie Brown\"),\n",
    "         which(career_eb$name == \"Walt French\")),][-2,]"
   ]
  },
  {
   "cell_type": "markdown",
   "metadata": {
    "deletable": true,
    "editable": true
   },
   "source": [
    "We have the same prior distribution $\\mbox{Beta}( \\alpha \\approx 78.81; \\beta \\approx 225.59)$, remember that the posterior distribution can be calculated as:\n",
    "\n",
    "\\begin{align}\n",
    "\\mbox{Posterior } \\pi (\\theta | y) &\\approx \\mbox{Beta}( \\alpha + y, \\beta + n - y) \n",
    "\\end{align}\n",
    "\n",
    "Now, we can generate and plot the posterior distribution of the expected performance as follows:"
   ]
  },
  {
   "cell_type": "code",
   "execution_count": 98,
   "metadata": {
    "collapsed": false,
    "deletable": true,
    "editable": true
   },
   "outputs": [
    {
     "data": {},
     "metadata": {},
     "output_type": "display_data"
    },
    {
     "data": {
      "image/png": "[encoded data removed]",
      "text/plain": [
       "plot without title"
      ]
     },
     "metadata": {},
     "output_type": "display_data"
    }
   ],
   "source": [
    "pete = rbeta(10000, alpha0 + 4256, beta0 + 14053 - 4256)\n",
    "eddie = rbeta(10000, alpha0 + 878, beta0 + 2902 - 878)\n",
    "walt = rbeta(10000, alpha0 + 297, beta0 + 981 - 297)\n",
    "\n",
    "posteriordist <- data.frame(pete, eddie, walt)\n",
    "\n",
    "bgraph <- ggplot(posteriordist) + gktheme +\n",
    "    geom_density(aes(pete, fill=\"1\"), alpha = 0.5, size=0.5) +   \n",
    "    geom_density(aes(eddie, fill=\"2\"), alpha = 0.5, size=0.5) +   \n",
    "    geom_density(aes(walt, fill=\"3\"), alpha = 0.5, size=0.5) +   \n",
    "    geom_vline(xintercept = 0.3027,linetype = 2) + \n",
    "    geom_vline(xintercept = 0.258,linetype = 2) + \n",
    "    scale_x_continuous(limits=c(0.248,0.35),breaks=c(0.25,0.258,0.275,0.3,0.3027,0.325,0.35),\n",
    "                       labels=c(\"\",\"Prior \\n0.258\",0.275,\"\",\"Data \\n0.3027\",0.325,0.35))+\n",
    "    scale_fill_manual(name=\"Player\",values=c(1,2,3), \n",
    "      labels = c(\"Pete Rose (AB = 14053)\",\"Eddie Brown (AB = 2902)\",\"Walt French (AB = 981)\"))+\n",
    "    xlab(\"Value\")+\n",
    "    ylab(\"Density\")+\n",
    "    ggtitle(\"Career Length and Expected Peformance\")+\n",
    "    theme(legend.position = \"right\")\n",
    "\n",
    "options(repr.plot.width=6.5, repr.plot.height=3.5)\n",
    "bgraph"
   ]
  },
  {
   "cell_type": "markdown",
   "metadata": {
    "deletable": true,
    "editable": true
   },
   "source": [
    "The above illustration clearly indicates that expected performance of players with longer career is less dependent upon prior belief. Everyone knows that how Pete Rose is expected to perform next time according to his past, while prior belief takes much stronger role in predicting performance of Walt French. Also, note that uncertainty over the expectation is much larger (high variance) for player with shorter career (like Walt French) than for player with longer career (like Pete Rose).   "
   ]
  },
  {
   "cell_type": "markdown",
   "metadata": {
    "deletable": true,
    "editable": true
   },
   "source": [
    "## Lecture 3 Conjugate Priors Continue... (04/27/2017)"
   ]
  },
  {
   "cell_type": "markdown",
   "metadata": {
    "deletable": true,
    "editable": true
   },
   "source": [
    "### Priors and Posteriors\n",
    "\n",
    " * **Conjugate priors** and **solicited priors**. Solicited priors are often more difficult to defend (convenient distribution to get better result...) <br><br>\n",
    " \n",
    " * If we want the prior to be **essentially flat**, it is popular to use uniform distibution (computationally challenging), or diffused normal (i.e., very high variance. Computationally little more easy)."
   ]
  },
  {
   "cell_type": "markdown",
   "metadata": {
    "deletable": true,
    "editable": true
   },
   "source": [
    "### Use Conjugate Priors\n",
    "\n",
    "#### Beta Distribution\n",
    "\n",
    "\\begin{align}\n",
    "B(\\alpha, \\beta) = \\frac{\\Gamma(\\alpha + \\beta)}{\\Gamma (\\alpha) + \\Gamma (\\beta)} \\theta^{\\alpha-1} (1-\\theta)^{\\beta-1}\n",
    "\\end{align}\n",
    "\n",
    "This is a PDF on $[0, 1]$ interval, with expected value $\\cfrac{\\alpha}{\\alpha + \\beta}$ & variance $\\cfrac{\\alpha \\beta}{(\\alpha + \\beta)^2 (\\alpha + \\beta + 1)}$ \n",
    "\n",
    "If $\\alpha = \\beta$, then the relevant statistics are reduced to expected value $\\cfrac{1}{2}$ & variance $\\cfrac{1}{4(2\\beta + 1)}$.\n",
    "\n",
    "Examples of the distribution."
   ]
  },
  {
   "cell_type": "code",
   "execution_count": 96,
   "metadata": {
    "collapsed": false,
    "deletable": true,
    "editable": true
   },
   "outputs": [
    {
     "data": {},
     "metadata": {},
     "output_type": "display_data"
    },
    {
     "data": {
      "image/png": "[encoded data removed]",
      "text/plain": [
       "plot without title"
      ]
     },
     "metadata": {},
     "output_type": "display_data"
    }
   ],
   "source": [
    "b1 <- rbeta(1000,10,10) # alpha = beta (small variance)\n",
    "b2 <- rbeta(1000,2,2) # alpha = beta (medium variance)\n",
    "b3 <- rbeta(1000,0.5,0.5) # alpha = beta (large variance)\n",
    "\n",
    "library(ggplot2);\n",
    "source(\"https://raw.githubusercontent.com/gentok/Method_Notes/master/sources/gktheme.R\")\n",
    "\n",
    "betadist <- data.frame(b1, b2, b3) \n",
    "\n",
    "## Plot Result ##\n",
    "bgraph <- ggplot(betadist) + gktheme +\n",
    "    geom_density(aes(b1, fill=\"1\"), alpha = 0.5, size=0.5) +   \n",
    "    geom_density(aes(b2, fill=\"2\"), alpha = 0.5, size=0.5) +   \n",
    "    geom_density(aes(b3, fill=\"3\"), alpha = 0.5, size=0.5) +   \n",
    "    scale_fill_manual(name=\"Gamma Parameters\",values=c(1,2,3), \n",
    "      labels = c(expression(paste(alpha == 10, \"; \" , beta == 10)),\n",
    "                 expression(paste(alpha == 2, \"; \" , beta == 2)),\n",
    "                 expression(paste(alpha == 0.5, \"; \" , beta == 0.5))))+\n",
    "    xlab(\"Value\")+\n",
    "    ylab(\"Density\")+\n",
    "    ggtitle(\"Beta Distributions by Different Parameters\")+\n",
    "    theme(legend.position = \"right\")\n",
    "\n",
    "options(repr.plot.width=6, repr.plot.height=3.5)\n",
    "bgraph"
   ]
  },
  {
   "cell_type": "markdown",
   "metadata": {
    "deletable": true,
    "editable": true
   },
   "source": [
    "$$\\mbox{Binomial Likelihood } = \n",
    "\\begin{pmatrix} \n",
    "n \\\\ y \n",
    "\\end{pmatrix} \n",
    "\\theta^y (1-\\theta)^{n-y} \n",
    "$$\n",
    " * The value of $\\theta$ most likely to have produced the observed data is $\\frac{y}{n}$\n",
    "\n",
    "Then, from the last lecture, **posterior** is (can take the constant out for the minimization problem): \n",
    "\n",
    "\\begin{align}\n",
    "\\mbox{Posterior } &\\propto \\mbox{Prior} \\times \\mbox{Likelihood} \\\\\n",
    "\\pi(\\theta | y) &\\propto \\left\\{ \\frac{\\Gamma(\\alpha + \\beta)}{\\Gamma (\\alpha) + \\Gamma (\\beta)} \\theta^{\\alpha-1} (1-\\theta)^{\\beta-1} \\right\\} \\times \\left\\{ \n",
    "\\begin{pmatrix} \n",
    "n \\\\ y \n",
    "\\end{pmatrix} \n",
    "\\theta^y (1-\\theta)^{n-y} \\right\\} \\\\\n",
    "&\\propto \\theta^{\\alpha - 1 + y} + (1 - \\theta)^{\\beta - 1 + n - y}\n",
    "\\end{align}\n",
    "\n",
    "The Solution is:\n",
    "\n",
    "\\begin{align}\n",
    "\\mbox{Posterior } \\pi (\\theta | y) &\\approx \\mbox{Beta}\\left( \\alpha + y, \\beta + n - y\\right) \\\\\n",
    "E(\\theta | y) &\\approx \\frac{\\alpha + y}{\\alpha + \\beta + n} \n",
    "\\end{align}"
   ]
  },
  {
   "cell_type": "markdown",
   "metadata": {
    "deletable": true,
    "editable": true
   },
   "source": [
    "#### Example: Undervoting (白票を投じる?)\n",
    "\n",
    " * Tomz and van Howelling (2003) finds that, using 1964-2004 ANES data, 10/1091 (0.91%) black respondents and 57/9770 (0.58%) of white respondents stated they undervoted. <br><br>\n",
    " \n",
    " * We know posterior distributions of undervoting: $\\pi_{black}$, $\\pi_{white}$ <br><br>\n",
    " \n",
    " * Set **prior** as $B(\\alpha=1, \\beta=100)$. Then we can extract the sample of posterior distribution as follows... <br>"
   ]
  },
  {
   "cell_type": "code",
   "execution_count": 9,
   "metadata": {
    "collapsed": false,
    "deletable": true,
    "editable": true
   },
   "outputs": [
    {
     "data": {},
     "metadata": {},
     "output_type": "display_data"
    },
    {
     "data": {
      "image/png": "[encoded data removed]",
      "text/plain": [
       "plot without title"
      ]
     },
     "metadata": {},
     "output_type": "display_data"
    }
   ],
   "source": [
    "## Sample beta posterior distribution, given specified prior.\n",
    "## Note that, in this specification, Beta( alpha + y, beta + n - y)\n",
    "white <- rbeta(1000, (1 + 57), (100 + 9770 - 57)) ## Draw 1000\n",
    "black <- rbeta(1000, (1 + 10), (100 + 1091 - 10)) ## Draw 1000\n",
    "\n",
    "betadist <- data.frame(white,black) \n",
    "\n",
    "## Plot Result ##\n",
    "bgraph <- ggplot(betadist) + gktheme +\n",
    "    geom_density(aes(white, fill=\"1\"), alpha = 0.5, size=0.5) +   \n",
    "    geom_density(aes(black, fill=\"2\"), alpha = 0.5, size=0.5) +   \n",
    "    scale_fill_manual(name=\"Population\",\n",
    "                      values=c(\"white\",\"black\"),labels = c(\"White\",\"Black\"))+\n",
    "    xlab(\"Value\") + ylab(\"Density\")+\n",
    "    ggtitle(\"Posterior Beta Distributions by \\nDifferent Observed y\")+\n",
    "    theme(legend.position = \"right\")\n",
    "\n",
    "options(repr.plot.width=6, repr.plot.height=3.5)\n",
    "bgraph"
   ]
  },
  {
   "cell_type": "markdown",
   "metadata": {
    "deletable": true,
    "editable": true
   },
   "source": [
    "We can calculate the \"p-value\" of Bayesian model as follows..."
   ]
  },
  {
   "cell_type": "code",
   "execution_count": 29,
   "metadata": {
    "collapsed": false,
    "deletable": true,
    "editable": true,
    "scrolled": true
   },
   "outputs": [
    {
     "data": {
      "text/plain": [
       "\n",
       "FALSE  TRUE \n",
       "  114   886 "
      ]
     },
     "metadata": {},
     "output_type": "display_data"
    },
    {
     "data": {
      "text/html": [
       "<span style=white-space:pre-wrap>'Bayesian p-value is:  0.886 (higher is better)'</span>"
      ],
      "text/latex": [
       "'Bayesian p-value is:  0.886 (higher is better)'"
      ],
      "text/markdown": [
       "<span style=white-space:pre-wrap>'Bayesian p-value is:  0.886 (higher is better)'</span>"
      ],
      "text/plain": [
       "[1] \"Bayesian p-value is:  0.886 (higher is better)\""
      ]
     },
     "metadata": {},
     "output_type": "display_data"
    }
   ],
   "source": [
    "## Likelihood of black undervoting intention higher than white\n",
    "table(black > white) \n",
    "## Calculate p-value of black undervotes more than whites\n",
    "paste(\"Bayesian p-value is: \", table(black > white)[2] / 1000, \n",
    "      \"(higher is better)\")\n",
    "## 95$ Credible Interval Can be Extracted Just as:\n",
    "blackCI = quantile(black, probs=c(0.025, 0.095))\n",
    "paste(\"Blac\")\n",
    "whiteCI = quantile(black, probs=c(0.025, 0.095))\n"
   ]
  },
  {
   "cell_type": "markdown",
   "metadata": {
    "deletable": true,
    "editable": true
   },
   "source": [
    "* **Gamma (Prior) - Poisson (Likelihood) $\\Rightarrow$ Gamma Posterior**\n",
    "\n",
    "\\begin{align}\n",
    "\\mbox{Prior Distribution} = \\mbox{Gamma}(\\alpha, \\beta) &= \\frac{\\beta^{\\alpha}}{\\Gamma (\\alpha)} \\theta^{\\alpha-1} e^{- \\beta \\theta} \\\\\n",
    "\\mbox{Poisson PMF } &= p(y | \\theta) = \\frac{e^{-\\theta} \\theta^{y_i}}{y_i !} \\\\\n",
    "\\mbox{Poisson Likelihood } &= \\mathit{L}(\\theta | y) = \\hat{\\Pi}_{i=1}^n \\frac{e^{-\\theta} \\theta^{y_i}}{y_i !} \\\\\n",
    "&= \\frac{e^{-\\theta n} \\theta^{\\sum_{i=1}^{n} y_i} }{y_1 ! y_2 ! \\dots y_n !} \\\\\n",
    "\\mbox{Posterior Distribution } \\pi(\\theta | y) &\\propto \\frac{\\beta^{\\alpha}}{\\Gamma (\\alpha)} \\theta^{\\alpha-1} e^{- \\beta \\theta} \\times \\frac{e^{-\\theta n} \\theta^{\\sum_{i=1}^{n} y_i} }{y_1 ! y_2 ! \\dots y_n !} \\\\\n",
    "&\\propto \\theta^{\\alpha - 1 + \\Sigma y} e^{- \\theta (\\beta + n)} \\\\\n",
    "&\\propto \\mbox{Gamma }(\\alpha + \\Sigma y, \\beta + n)\n",
    "\\end{align}"
   ]
  },
  {
   "cell_type": "code",
   "execution_count": null,
   "metadata": {
    "collapsed": true,
    "deletable": true,
    "editable": true
   },
   "outputs": [],
   "source": []
  },
  {
   "cell_type": "markdown",
   "metadata": {
    "deletable": true,
    "editable": true
   },
   "source": [
    "(Note on Gamma Distribution: Shape = alpha; scale = beta)"
   ]
  },
  {
   "cell_type": "markdown",
   "metadata": {
    "deletable": true,
    "editable": true
   },
   "source": [
    "## Lecture 4 MCMC Sampling (04/27, 05/04/2017)"
   ]
  },
  {
   "cell_type": "markdown",
   "metadata": {
    "deletable": true,
    "editable": true
   },
   "source": [
    "### Monte-Carlo Simulation (First MC)\n",
    "\n",
    " * **Problem**:  How do you solve multidimensional integral equations needed to model behavior of complex systems with many random quantities? The complex density that has no simple function to describe them. <br><br>\n",
    " \n",
    " * **Solution**: We can learn learn by sampling many times from $f(\\theta)$, the density of $\\theta$. We assume that, as $n \\rightarrow \\infty$, $\\hat{\\theta} \\rightarrow \\theta$ (We borrow frequentist assumption).  "
   ]
  },
  {
   "cell_type": "markdown",
   "metadata": {
    "deletable": true,
    "editable": true
   },
   "source": [
    "#### Rejection Sampling: \n",
    "\n",
    "* Sample a value z from a distribution $g(x)$ that's easy to sample from and for which all values of $k \\times g(x)$ are greater than our distribution of interest $f(x)$ at all points.\n",
    "\n",
    "* We’re going to call f(x) our **target** distribution and g(x) our\n",
    "**enveloping** distribution.\n",
    "\n",
    "* Compute the ratio: $$ R = \\cfrac{f(z)}{k \\times g(z)}$$\n",
    "\n",
    "* Sample $u \\approx Unif(0, 1)$. If $R > u$, accept $z$ as a draw from $f(x)$. Otherwise, reject. Repeat process a bunch of times."
   ]
  },
  {
   "cell_type": "code",
   "execution_count": 2,
   "metadata": {
    "collapsed": false,
    "deletable": true,
    "editable": true
   },
   "outputs": [],
   "source": [
    "## Some Complicated Function of z (Target)\n",
    "\n",
    "## Rejection Sampling Function \n",
    "\n",
    "target <- function(z){return((1/40)*(2*z+3))} # Some unknown comlicated function\n",
    "enveloping <- .2 ## Enveloping Distribution (uniform)\n",
    "k <- 2 ## Linear multiplyer of enveloping distribution \n",
    "# a <- 0 ## Lower Boundary in the simulation \n",
    "# b <- 5 ## Higher Boundary in the simulation\n",
    "#ndraws <- 100000 ## Number of simulation \n",
    "\n",
    "rjsample <- function(target, enveloping, k, a = 0, b = 5, ndraws = 100000){\n",
    "    proposed <- accept <- rep(NA,ndraws) ## Prepare Storage\n",
    "    for (i in 1:ndraws){\n",
    "        proposed[i] <- z <- runif(1, a, b)\n",
    "        R <- target(z) / (k * enveloping) ## Calculate R\n",
    "        if(R > runif(1, 0, 1)){accept[i] <- z} ## Accept if R > u\n",
    "    }\n",
    "    return(list(proposed,accept))\n",
    "}"
   ]
  },
  {
   "cell_type": "code",
   "execution_count": 5,
   "metadata": {
    "collapsed": false,
    "deletable": true,
    "editable": true
   },
   "outputs": [
    {
     "data": {
      "image/png": "[encoded data removed]",
      "text/plain": [
       "plot without title"
      ]
     },
     "metadata": {},
     "output_type": "display_data"
    }
   ],
   "source": [
    "rjres <- rjsample(target, enveloping, k)\n",
    "proposed <- rjres[[1]]\n",
    "accept <- rjres[[2]]\n",
    "\n",
    "options(repr.plot.width=4, repr.plot.height=4)\n",
    "x <- seq(0,5,0.01)\n",
    "plot(x, target(x), type=\"l\")\n",
    "lines(density(accept, na.rm=TRUE), lty=2, col=\"red\")\n",
    "#\n",
    "#length(proposed[accept < 1 & !is.na(accept)])\n",
    "#length(proposed[proposed < 1])\n",
    "#\n",
    "#length(proposed[accept > 4 & !is.na(accept)])\n",
    "#length(proposed[proposed > 4])"
   ]
  },
  {
   "cell_type": "markdown",
   "metadata": {
    "deletable": true,
    "editable": true
   },
   "source": [
    "### Markov-Chains (Second MC)"
   ]
  },
  {
   "cell_type": "markdown",
   "metadata": {
    "deletable": true,
    "editable": true
   },
   "source": [
    "* A **Markovian process** describes a probabilistic sequence in which the state of an object *depends on all previous states*, but only through its *immediate predecessor*. (chain is \"memoryless,\" but nonetheless dependent.)\n",
    "\n",
    "* **Markov chains** refer to Markovian processes occuring in **discrete** time and/or discrete state spaces ($\\Theta$).\n",
    "\n",
    "* **Transition matrix** defines how the chain wonders about $\\Theta$ ($\\Theta$ is going to include all possible values of our parameter $\\theta$). It defines the probability of \"jumps\" by the chain to a new (discrete) regison of $\\Theta$, conditional on its current position. Rows will sum to 1. "
   ]
  },
  {
   "cell_type": "markdown",
   "metadata": {
    "deletable": true,
    "editable": true
   },
   "source": [
    "Transition Matrix: "
   ]
  },
  {
   "cell_type": "code",
   "execution_count": 16,
   "metadata": {
    "collapsed": false,
    "deletable": true,
    "editable": true
   },
   "outputs": [
    {
     "name": "stdout",
     "output_type": "stream",
     "text": [
      "     [,1] [,2] [,3]\n",
      "[1,]  0.7  0.2  0.1\n",
      "[2,]  0.3  0.3  0.4\n",
      "[3,]  0.6  0.2  0.2\n"
     ]
    }
   ],
   "source": [
    "P <- matrix(c(0.7,0.2,0.1,0.3,0.3,0.4,0.6,0.2,0.2),\n",
    "nrow=3, byrow=TRUE)\n",
    "print(P) ## Transition Matrix"
   ]
  },
  {
   "cell_type": "markdown",
   "metadata": {
    "deletable": true,
    "editable": true
   },
   "source": [
    "Simple Function of Markov Chain Generation: "
   ]
  },
  {
   "cell_type": "code",
   "execution_count": 28,
   "metadata": {
    "collapsed": false,
    "deletable": true,
    "editable": true,
    "scrolled": true
   },
   "outputs": [
    {
     "name": "stdout",
     "output_type": "stream",
     "text": [
      "           [,1]      [,2]      [,3]\n",
      " [1,] 1.0000000 0.0000000 0.0000000\n",
      " [2,] 0.7000000 0.2000000 0.1000000\n",
      " [3,] 0.6100000 0.2200000 0.1700000\n",
      " [4,] 0.5950000 0.2220000 0.1830000\n",
      " [5,] 0.5929000 0.2222000 0.1849000\n",
      " [6,] 0.5926300 0.2222200 0.1851500\n",
      " [7,] 0.5925970 0.2222220 0.1851810\n",
      " [8,] 0.5925931 0.2222222 0.1851847\n",
      " [9,] 0.5925926 0.2222222 0.1851851\n",
      "[10,] 0.5925926 0.2222222 0.1851852\n"
     ]
    }
   ],
   "source": [
    "# S: vector of starting value (discrerte) \n",
    "# P: transition matrix\n",
    "# nsteps = number of steps of simulation\n",
    "\n",
    "mchain <- function(S, P, nsteps){\n",
    "    resS <- matrix(NA, nrow=nsteps, ncol=length(S)) ## Result Matrix\n",
    "    resS[1,] <- S # Initial Value\n",
    "    for (i in 1:(nsteps-1)){ \n",
    "        resS[i+1,] <- resS[i,] %*% P ## update S by transition matrix\n",
    "    }\n",
    "    return(resS) #return result matrix\n",
    "}\n",
    "\n",
    "## Example:\n",
    "S <- c(1,0,0)\n",
    "resS <- mchain(S, P, 10)\n",
    "print(resS)"
   ]
  },
  {
   "cell_type": "markdown",
   "metadata": {
    "deletable": true,
    "editable": true
   },
   "source": [
    "### Monte Carlo + Markov Chain (MCMC)\n",
    "\n",
    "* **Monte Carlo** principle: can learn anything about $\\theta$ by sampling from its density $p(\\theta)$.<br><br>\n",
    "\n",
    "* **Markov chains**: Dependent samples will form a Markov chain, which has nice properties (ergodic). (If a chain is recurrent (visits every subspace inﬁnitely in the limit) and aperiodic (doesn’t repeat), it is ergodic. Ergodicity means that the chain (even though it has serial dependence) will visit a given region in proportion to its density, and that in the limit the values converge on the true value of $\\theta$.)\n",
    "\n"
   ]
  },
  {
   "cell_type": "markdown",
   "metadata": {
    "deletable": true,
    "editable": true
   },
   "source": [
    "#### Metropolis Hastings Algorithm"
   ]
  },
  {
   "cell_type": "code",
   "execution_count": 7,
   "metadata": {
    "collapsed": false,
    "deletable": true,
    "editable": true,
    "scrolled": false
   },
   "outputs": [
    {
     "data": {
      "text/html": [
       "<strong>1:</strong> 0.82"
      ],
      "text/latex": [
       "\\textbf{1:} 0.82"
      ],
      "text/markdown": [
       "**1:** 0.82"
      ],
      "text/plain": [
       "   1 \n",
       "0.82 "
      ]
     },
     "metadata": {},
     "output_type": "display_data"
    }
   ],
   "source": [
    "# n: Number of Simulation\n",
    "# eps: boundary of distribution\n",
    "metrop1 <- function(n=1000,eps=0.5){\n",
    "    vec <- rep(NA, n) ## Create Value Vector\n",
    "    vec[1] <- x <- 0 ## Set Starting Value (Can be any. Arts Involved) \n",
    "    accept <- rep(0, n) ## Create Acceptance Vector (Default = 0)\n",
    "    for (i in 2:n) { \n",
    "        set.seed(372 + i) # For replication\n",
    "        epsilon <- runif(1, -eps, eps) # draw random jump\n",
    "        candidate <- x + epsilon # add random value to current value\n",
    "        aprob <- dnorm(candidate) / dnorm(x) # ratio\n",
    "        u <- runif(1) # draw unif(0,1)\n",
    "        if (u < aprob) { ## Accepting...\n",
    "            accept[i] <- 1\n",
    "            x <- candidate ## alternate x with candidate\n",
    "            }\n",
    "            vec[i] <- x\n",
    "        }\n",
    "        return(list(vec,accept))\n",
    "}\n",
    "\n",
    "# Execute\n",
    "samples <- metrop1(1000, 1)\n",
    "table(samples[[2]])[2]/length(samples[[2]]) ## Acceptance rate "
   ]
  },
  {
   "cell_type": "code",
   "execution_count": 8,
   "metadata": {
    "collapsed": false,
    "deletable": true,
    "editable": true
   },
   "outputs": [
    {
     "data": {
      "image/png": "[encoded data removed]",
      "text/plain": [
       "plot without title"
      ]
     },
     "metadata": {},
     "output_type": "display_data"
    }
   ],
   "source": [
    "options(repr.plot.width=4, repr.plot.height=4)\n",
    "plot(samples[[1]], type=\"l\") ## Plot the process"
   ]
  },
  {
   "cell_type": "code",
   "execution_count": 9,
   "metadata": {
    "collapsed": false,
    "deletable": true,
    "editable": true
   },
   "outputs": [
    {
     "data": {
      "image/png": "[encoded data removed]",
      "text/plain": [
       "Plot with title \"density.default(x = samples[[1]])\""
      ]
     },
     "metadata": {},
     "output_type": "display_data"
    }
   ],
   "source": [
    "options(repr.plot.width=4, repr.plot.height=4)\n",
    "plot(density(samples[[1]]), type=\"l\") ## Plot the density"
   ]
  },
  {
   "cell_type": "markdown",
   "metadata": {
    "deletable": true,
    "editable": true
   },
   "source": [
    "#### Gibbs Sampling\n",
    "\n",
    "* MH can be inefficient when $\\theta$ is highly dimentional/\n",
    "* Motivation: Joint PDFs are just a series of univariate conditional densities.\n",
    "* Intuition: Paritition $\\theta$ into a $q$-length parameter vector $(\\theta_1,...,\\theta_q)$. Sample from $\\theta_1$ while holding all other θ values constant. Do the same for all elements of $\\theta_{1:q}$. Repeat."
   ]
  },
  {
   "cell_type": "code",
   "execution_count": 12,
   "metadata": {
    "collapsed": true,
    "deletable": true,
    "editable": true
   },
   "outputs": [],
   "source": [
    "# n: Number of simulation\n",
    "# rho: parameter to control skew (higher value more skewed)\n",
    "# xstart, ystart: starting values\n",
    "\n",
    "# Two dimentional Gibbs Sampling\n",
    "gibbs <- function (n, rho, xstart=0, ystart=0){\n",
    "    out <- matrix(ncol = 2, nrow = n)\n",
    "    out[1, ] <- c(xstart, ystart)\n",
    "    x <- xstart # assign x starting values\n",
    "    y <- ystart # assign y starting values\n",
    "    for (i in 2:n) {\n",
    "        set.seed(34768 + i) # make it replicable\n",
    "        x <- rnorm(1, rho * y, sqrt(1 - rho^2)) # Draw from normal distribution\n",
    "        y <- rnorm(1, rho * x, sqrt(1 - rho^2)) # Same\n",
    "        out[i, ] <- c(x, y)\n",
    "    }\n",
    "    out\n",
    "}"
   ]
  },
  {
   "cell_type": "code",
   "execution_count": 13,
   "metadata": {
    "collapsed": false,
    "deletable": true,
    "editable": true
   },
   "outputs": [
    {
     "data": {
      "image/png": "[encoded data removed]",
      "text/plain": [
       "plot without title"
      ]
     },
     "metadata": {},
     "output_type": "display_data"
    }
   ],
   "source": [
    "samps <- gibbs(1000, 0.5, -10, 10)\n",
    "#\n",
    "options(repr.plot.width=4, repr.plot.height=4)\n",
    "plot(samps)\n",
    "lines(samps, col=\"red\")"
   ]
  },
  {
   "cell_type": "code",
   "execution_count": 63,
   "metadata": {
    "collapsed": false,
    "deletable": true,
    "editable": true
   },
   "outputs": [
    {
     "data": {
      "image/png": "[encoded data removed]",
      "text/plain": [
       "Plot with title \"Histogram of samps[, 2]\""
      ]
     },
     "metadata": {},
     "output_type": "display_data"
    }
   ],
   "source": [
    "par(mfrow=c(2,2))\n",
    "plot(ts(samps[,1]))\n",
    "plot(ts(samps[,2]))\n",
    "hist(samps[,1],40)\n",
    "hist(samps[,2],40)"
   ]
  },
  {
   "cell_type": "markdown",
   "metadata": {
    "collapsed": true,
    "deletable": true,
    "editable": true
   },
   "source": [
    "## Topic 5: The Bayesian Linear Model"
   ]
  },
  {
   "cell_type": "code",
   "execution_count": 14,
   "metadata": {
    "collapsed": false
   },
   "outputs": [
    {
     "ename": "ERROR",
     "evalue": "Error in library(rjags): there is no package called 'rjags'\n",
     "output_type": "error",
     "traceback": [
      "Error in library(rjags): there is no package called 'rjags'\nTraceback:\n",
      "1. library(rjags)",
      "2. stop(txt, domain = NA)"
     ]
    }
   ],
   "source": [
    "#install.packages(\"rjags\") ## Need Preinstallation of JAGS\n",
    "library(rjags)"
   ]
  }
 ],
 "metadata": {
  "kernelspec": {
   "display_name": "R",
   "language": "R",
   "name": "ir"
  },
  "language_info": {
   "codemirror_mode": "r",
   "file_extension": ".r",
   "mimetype": "text/x-r-source",
   "name": "R",
   "pygments_lexer": "r",
   "version": "3.3.2"
  }
 },
 "nbformat": 4,
 "nbformat_minor": 2
}
