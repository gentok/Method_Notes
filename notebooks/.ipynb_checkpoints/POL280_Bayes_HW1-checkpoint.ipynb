{
 "cells": [
  {
   "cell_type": "markdown",
   "metadata": {
    "deletable": true,
    "editable": true
   },
   "source": [
    "# POL280 Bayesian Modeling Homework 1"
   ]
  },
  {
   "cell_type": "markdown",
   "metadata": {
    "collapsed": true,
    "deletable": true,
    "editable": true
   },
   "source": [
    "### Gento Kato (May 2, 2017)\n",
    "\n",
    "---"
   ]
  },
  {
   "cell_type": "markdown",
   "metadata": {
    "deletable": true,
    "editable": true
   },
   "source": [
    "## Q1\n",
    "*Use the Gamma-Poisson conjugate speciﬁcation to analyze data on the number of presidential appointments from 1960 to 2000. The data are in the ﬁle called **appointments.dta** in the Dropbox folder.*\n",
    "\n",
    "---"
   ]
  },
  {
   "cell_type": "markdown",
   "metadata": {
    "deletable": true,
    "editable": true
   },
   "source": [
    "To start with, it is shown in the class that $gamma(\\alpha, \\beta)$ prior distribution and poisson likelihood produces $gamma(\\alpha + \\Sigma y, \\beta + n)$ posterior distribution, as follows:  \n",
    "\n",
    "* **Gamma (Prior) - Poisson (Likelihood) $\\Rightarrow$ Gamma Posterior**\n",
    "\n",
    "\\begin{align}\n",
    "\\mbox{Prior Distribution} = \\mbox{Gamma}(\\alpha, \\beta) &= \\frac{\\beta^{\\alpha}}{\\Gamma (\\alpha)} \\theta^{\\alpha-1} e^{- \\beta \\theta} \\\\\n",
    "\\mbox{Poisson PMF } &= p(y | \\theta) = \\frac{e^{-\\theta} \\theta^{y_i}}{y_i !} \\\\\n",
    "\\mbox{Poisson Likelihood } &= \\mathit{L}(\\theta | y) = \\hat{\\Pi}_{i=1}^n \\frac{e^{-\\theta} \\theta^{y_i}}{y_i !} \\\\\n",
    "&= \\frac{e^{-\\theta n} \\theta^{\\sum_{i=1}^{n} y_i} }{y_1 ! y_2 ! \\dots y_n !} \\\\\n",
    "\\mbox{Posterior Distribution } \\pi(\\theta | y) &\\propto \\frac{\\beta^{\\alpha}}{\\Gamma (\\alpha)} \\theta^{\\alpha-1} e^{- \\beta \\theta} \\times \\frac{e^{-\\theta n} \\theta^{\\sum_{i=1}^{n} y_i} }{y_1 ! y_2 ! \\dots y_n !} \\\\\n",
    "&\\propto \\theta^{\\alpha - 1 + \\Sigma y} e^{- \\theta (\\beta + n)} \\\\\n",
    "&\\propto \\mbox{Gamma }(\\alpha + \\Sigma y, \\beta + n)\n",
    "\\end{align}"
   ]
  },
  {
   "cell_type": "markdown",
   "metadata": {},
   "source": [
    "Now, the observed posterior value from <code>appointments.dta</code> can be extracted as follows:"
   ]
  },
  {
   "cell_type": "code",
   "execution_count": 10,
   "metadata": {
    "collapsed": false
   },
   "outputs": [
    {
     "data": {
      "text/html": [
       "<ol class=list-inline>\n",
       "\t<li>2</li>\n",
       "\t<li>3</li>\n",
       "\t<li>3</li>\n",
       "\t<li>2</li>\n",
       "\t<li>0</li>\n",
       "\t<li>1</li>\n",
       "\t<li>2</li>\n",
       "\t<li>1</li>\n",
       "\t<li>2</li>\n",
       "\t<li>1</li>\n",
       "</ol>\n"
      ],
      "text/latex": [
       "\\begin{enumerate*}\n",
       "\\item 2\n",
       "\\item 3\n",
       "\\item 3\n",
       "\\item 2\n",
       "\\item 0\n",
       "\\item 1\n",
       "\\item 2\n",
       "\\item 1\n",
       "\\item 2\n",
       "\\item 1\n",
       "\\end{enumerate*}\n"
      ],
      "text/markdown": [
       "1. 2\n",
       "2. 3\n",
       "3. 3\n",
       "4. 2\n",
       "5. 0\n",
       "6. 1\n",
       "7. 2\n",
       "8. 1\n",
       "9. 2\n",
       "10. 1\n",
       "\n",
       "\n"
      ],
      "text/plain": [
       " [1] 2 3 3 2 0 1 2 1 2 1"
      ]
     },
     "metadata": {},
     "output_type": "display_data"
    }
   ],
   "source": [
    "library(foreign)\n",
    "appdta <- read.dta(\"../data/POL280/appointments.dta\") ## Open Data\n",
    "y <- appdta$appoints ; y ## Store observed y"
   ]
  },
  {
   "cell_type": "markdown",
   "metadata": {},
   "source": [
    "Then, using R function <code>rgamma(alpha, beta)</code>, we can create function to produce posterior distribution:"
   ]
  },
  {
   "cell_type": "code",
   "execution_count": 9,
   "metadata": {
    "collapsed": false
   },
   "outputs": [],
   "source": [
    "posterior <- function(y, alpha, beta){\n",
    "n = length(y); sigmay = sum(y)\n",
    "return(rgamma(alpha+sigmay, beta+n))\n",
    "}"
   ]
  },
  {
   "cell_type": "markdown",
   "metadata": {},
   "source": [
    "I will use the above function in Q2, Q3 and Q4."
   ]
  },
  {
   "cell_type": "markdown",
   "metadata": {
    "deletable": true,
    "editable": true
   },
   "source": [
    "## Q2\n",
    "*The posterior distribution for $\\theta$ is $gamma(\\delta_1, \\delta_2)$ according to some parameters $\\delta_1$ and $\\delta_2$, which of course depend on your choice of the parameters for the gamma prior. You should model $\\theta$ using two sets of priors: one which speciﬁes a great deal of certainty regarding your best guess as to the value of $\\theta$ and one that represents ignorance regarding this value. *\n",
    "\n",
    "---"
   ]
  },
  {
   "cell_type": "markdown",
   "metadata": {},
   "source": [
    "Before turning to the analysis, for the gamma distribution specification in Q1, the mean and variance of the distribution are defined as follows:\n",
    "\n",
    "\\begin{align}\n",
    "Mean\\left[gamma(\\alpha, \\beta)\\right] &= \\frac{\\alpha}{\\beta}\\\\\n",
    "Var\\left[gamma(\\alpha, \\beta)\\right] &= \\frac{\\alpha}{\\beta^2}\\\\\n",
    "\\end{align}\n",
    "\n",
    "Now, suppose that there are two prior belief gamma distribution with the same mean (let's say 2), but different variance (certainty), as follows:\n",
    "\n",
    "\\begin{align}\n",
    "\\mbox{Prior 1 (ignorant): Mean } &= \\frac{\\alpha}{\\beta} = \\frac{2}{1} = 2 \\\\\n",
    "\\mbox{Variance } &= \\frac{\\alpha}{\\beta^2} = \\frac{2}{1} = 2\\\\\n",
    "\\mbox{Prior 2 (certain): Mean } &= \\frac{\\alpha}{\\beta} = \\frac{20}{10} = 2 \\\\\n",
    "\\mbox{Variance } &= \\frac{\\alpha}{\\beta^2} = \\frac{20}{100} = \\frac{1}{5}\n",
    "\\end{align}\n",
    "\n",
    "We can generate those two prior distributions in R as follows"
   ]
  },
  {
   "cell_type": "code",
   "execution_count": null,
   "metadata": {
    "collapsed": true
   },
   "outputs": [],
   "source": [
    "library(ggplot2); \n",
    "\n",
    "prior1 <- rgamma(10000,2,1)\n",
    "prior2 <- rgamma(10000,2,1)\n",
    "\n"
   ]
  },
  {
   "cell_type": "markdown",
   "metadata": {
    "deletable": true,
    "editable": true
   },
   "source": [
    "## Q3\n",
    "*Generate a large number of values from this distribution in **R**, say 10, 000 or so, using the command:*\n",
    "\n",
    "**posterior.sample <- rgamma(10000,d1,d2)**\n",
    "\n",
    "---"
   ]
  },
  {
   "cell_type": "markdown",
   "metadata": {
    "deletable": true,
    "editable": true
   },
   "source": [
    "## Q4\n",
    "\n",
    "Summarize the posteriors with quantities of interest such as means, medians, and\n",
    "variances. Also supply plots of the density of the posterior distributions.\n",
    "\n",
    "---"
   ]
  }
 ],
 "metadata": {
  "kernelspec": {
   "display_name": "R",
   "language": "R",
   "name": "ir"
  },
  "language_info": {
   "codemirror_mode": "r",
   "file_extension": ".r",
   "mimetype": "text/x-r-source",
   "name": "R",
   "pygments_lexer": "r",
   "version": "3.3.2"
  }
 },
 "nbformat": 4,
 "nbformat_minor": 2
}
