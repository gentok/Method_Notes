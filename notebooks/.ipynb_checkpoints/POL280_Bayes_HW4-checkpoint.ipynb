{
 "cells": [
  {
   "cell_type": "markdown",
   "metadata": {
    "deletable": true,
    "editable": true
   },
   "source": [
    "# POL280 Bayesian Modeling Homework 4"
   ]
  },
  {
   "cell_type": "markdown",
   "metadata": {
    "collapsed": true,
    "deletable": true,
    "editable": true
   },
   "source": [
    "### Gento Kato (June 15, 2017)\n",
    "\n",
    "---"
   ]
  },
  {
   "cell_type": "markdown",
   "metadata": {
    "deletable": true,
    "editable": true
   },
   "source": [
    "*The 2016 American National Election Study (ANES) data and codebook are stored in the Dropbox folder (<code>ANES2016.dta</code>). The variable <code>presvote</code> is coded so that 0 = Clinton and 1 = Trump, and other variables are coded so that higher values correspond to more conservative attitudes.*\n",
    "\n",
    "---\n",
    "\n",
    "### 1. Perform Bayesian model averaging on a regression model of your choice. Present the results (preferably in graphical format).\n",
    "\n",
    "**Load Packages and Data**"
   ]
  },
  {
   "cell_type": "code",
   "execution_count": 181,
   "metadata": {
    "collapsed": false,
    "deletable": true,
    "editable": true
   },
   "outputs": [],
   "source": [
    "## Load Packages\n",
    "library(rjags); library(mcmcplots); library(coefplot); library(ggplot2)\n",
    "source(\"https://raw.githubusercontent.com/gentok/Method_Notes/master/sources/gktheme.R\")\n",
    "source(\"https://raw.githubusercontent.com/gentok/Method_Notes/master/sources/imageplot.bma2\")\n",
    "library(MCMCpack); library(BMA);library(mlogitBMA); library(mlogit)"
   ]
  },
  {
   "cell_type": "code",
   "execution_count": 182,
   "metadata": {
    "collapsed": true
   },
   "outputs": [],
   "source": [
    "## Load Data\n",
    "library(foreign)\n",
    "anes16 = read.dta(\"../data/POL280/ANES2016.dta\")"
   ]
  },
  {
   "cell_type": "markdown",
   "metadata": {
    "deletable": true,
    "editable": true
   },
   "source": [
    "**Describe Dependent Variable**"
   ]
  },
  {
   "cell_type": "code",
   "execution_count": 183,
   "metadata": {
    "collapsed": false,
    "deletable": true,
    "editable": true,
    "scrolled": false
   },
   "outputs": [
    {
     "data": {},
     "metadata": {},
     "output_type": "display_data"
    },
    {
     "data": {
      "image/png": "[encoded data removed]",
      "text/plain": [
       "plot without title"
      ]
     },
     "metadata": {},
     "output_type": "display_data"
    }
   ],
   "source": [
    "anes16$presvote[is.na(anes16$presvote)] <- 3 \n",
    "anes16$presvote[anes16$presvote==1] <- 2\n",
    "anes16$presvote[anes16$presvote==0] <- 1\n",
    "options(repr.plot.width=4.5, repr.plot.height=3, warn=-1)\n",
    "dvtab <- as.data.frame(table(as.character(anes16$presvote))) \n",
    "dvtab$Var1 <- as.character(dvtab$Var1)\n",
    "dvtab$Var1[1] <- \"0.Clinton\"; dvtab$Var1[2] <- \"1.Trump\"; dvtab$Var1[3] <- \"No Answer\"\n",
    "ggplot(data=dvtab, aes(Var1, Freq)) + gktheme + geom_bar(stat = \"identity\") +\n",
    "ggtitle(\"Frequency of presvote (Dependent Variable)\") + xlab(\"Presidential Vote in 2016 Election\")"
   ]
  },
  {
   "cell_type": "markdown",
   "metadata": {},
   "source": [
    "**Bayesian Model Averaging on Multinomial-Logit Model** \n",
    "\n",
    "Given that the outcome variable is tri-chotomous, I conduct BMA of multinomial logit model, as follows:"
   ]
  },
  {
   "cell_type": "code",
   "execution_count": 184,
   "metadata": {
    "collapsed": true
   },
   "outputs": [],
   "source": [
    "formula.mlogit <- formula(presvote ~ genderresent1 + genderresent2 + genderresent3 + genderresent4 + \n",
    "                          female + partyid + libcon + spendserv + defensespend + healthinsurance + guarjobs + \n",
    "                          mexicowall + aidblacks + environmentjobs + affirmativeaction + troopsisis + syrianrefugees + \n",
    "                          climatechangeaction + transgenderbathrooms + abortion + thermometerpopefrancis + \n",
    "                          thermometerevangelicals + thermometerblacklivesmatter)"
   ]
  },
  {
   "cell_type": "code",
   "execution_count": 185,
   "metadata": {
    "collapsed": false
   },
   "outputs": [
    {
     "name": "stdout",
     "output_type": "stream",
     "text": [
      "\n",
      "Begg & Gray approximation started.\n",
      " 24 variables considered.\n",
      " 1463 models initially selected.\n",
      "Final number of models: 63 \n"
     ]
    }
   ],
   "source": [
    "mlogitBMAres <- bic.mlogit(formula.mlogit, data=na.omit(anes16), choices = 1:3, \n",
    "                           base.choice = 1, include.intercepts = TRUE, verbose=TRUE, OR=10000)"
   ]
  },
  {
   "cell_type": "markdown",
   "metadata": {},
   "source": [
    "**Plotting Model Selection Result**\n",
    "\n",
    "Models as clumns and variables as rows. The black cell implies that the variable is selected into the corresponding model, and white cell implies that the variable is not selected into the corresponding model. Width of columns (models) are weighted by the probability of model given the data."
   ]
  },
  {
   "cell_type": "code",
   "execution_count": 188,
   "metadata": {
    "collapsed": false,
    "scrolled": false
   },
   "outputs": [
    {
     "data": {
      "image/png": "[encoded data removed]",
      "text/plain": [
       "Plot with title \"Models selected by BMA\""
      ]
     },
     "metadata": {},
     "output_type": "display_data"
    }
   ],
   "source": [
    "options(repr.plot.width=10, repr.plot.height=6, warn=-1)\n",
    "imageplot.bma2(mlogitBMAres$bic.glm, color=\"blackandwhite\", order= \"probne0\", mar.set = c(5,12,4,2)) #c(\"brown2\",\"cyan3\",\"beige\")"
   ]
  },
  {
   "cell_type": "markdown",
   "metadata": {
    "deletable": true,
    "editable": true
   },
   "source": [
    "### 2. Which variables most and least consistently contribute predictive value in explaining your response variable?\n",
    "\n",
    "Looking at the image plot, following variables almost always contribute to the prediction (selected into models with high-probability) :\n",
    "\n",
    "* <code>Intercept.3</code> (intercept for third category: no answer)\n",
    "* <code>partyid</code> \n",
    "* <code>mexicowall</code> \n",
    "* <code>thermometerpopefrancis</code>\n",
    "* <code>thermometerblacklivesmatter</code>\n",
    "\n",
    "The above variables should *always* be included in the model.\n",
    "\n",
    "Following variables contribute to the model sometimes:\n",
    "\n",
    "* <code>abortion</code>\n",
    "* <code>genderresent4</code>\n",
    "* <code>thermometerevangelicals</code>\n",
    "* <code>genderresent3</code>\n",
    "\n",
    "Interestingly, the above four variables are never included in the same model all together (at least for well-performed models). Inclusion of all those variables together in the same model may not be a good strategy to go with.  \n",
    "\n",
    "All other variables are almost never included in the well-performed model, so contribute *the least* to predictions. "
   ]
  }
 ],
 "metadata": {
  "kernelspec": {
   "display_name": "R",
   "language": "R",
   "name": "ir"
  },
  "language_info": {
   "codemirror_mode": "r",
   "file_extension": ".r",
   "mimetype": "text/x-r-source",
   "name": "R",
   "pygments_lexer": "r",
   "version": "3.3.2"
  }
 },
 "nbformat": 4,
 "nbformat_minor": 2
}
