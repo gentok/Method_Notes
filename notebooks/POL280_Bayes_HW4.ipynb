{
 "cells": [
  {
   "cell_type": "markdown",
   "metadata": {
    "deletable": true,
    "editable": true
   },
   "source": [
    "# POL280 Bayesian Modeling Homework 4"
   ]
  },
  {
   "cell_type": "markdown",
   "metadata": {
    "collapsed": true,
    "deletable": true,
    "editable": true
   },
   "source": [
    "### Gento Kato (June 15, 2017)\n",
    "\n",
    "---"
   ]
  },
  {
   "cell_type": "markdown",
   "metadata": {
    "deletable": true,
    "editable": true
   },
   "source": [
    "*The 2016 American National Election Study (ANES) data and codebook are stored in the Dropbox folder (<code>ANES2016.dta</code>). The variable presvote is coded so that 0 = Clinton and 1 = Trump, and other variables are coded so that higher values correspond to more conservative attitudes.*\n",
    "\n",
    "---\n",
    "\n",
    "### 1. Perform Bayesian model averaging on a regression model of your choice. Present the results (preferably in graphical format).\n",
    "\n",
    "**Load Packages and Data**"
   ]
  },
  {
   "cell_type": "code",
   "execution_count": 176,
   "metadata": {
    "collapsed": false,
    "deletable": true,
    "editable": true
   },
   "outputs": [],
   "source": [
    "## Load Packages\n",
    "library(rjags); library(mcmcplots); library(coefplot); library(ggplot2)\n",
    "source(\"https://raw.githubusercontent.com/gentok/Method_Notes/master/sources/gktheme.R\")\n",
    "source(\"https://raw.githubusercontent.com/gentok/Method_Notes/master/sources/imageplot.bma2\")\n",
    "library(MCMCpack); library(BMA);library(mlogitBMA); library(mlogit)"
   ]
  },
  {
   "cell_type": "code",
   "execution_count": null,
   "metadata": {
    "collapsed": true
   },
   "outputs": [],
   "source": [
    "## Load Data\n",
    "library(foreign)\n",
    "anes16 = read.dta(\"../data/POL280/ANES2016.dta\")"
   ]
  },
  {
   "cell_type": "markdown",
   "metadata": {
    "deletable": true,
    "editable": true
   },
   "source": [
    "**Describe Dependent Variable**"
   ]
  },
  {
   "cell_type": "code",
   "execution_count": 125,
   "metadata": {
    "collapsed": false,
    "deletable": true,
    "editable": true,
    "scrolled": false
   },
   "outputs": [
    {
     "data": {},
     "metadata": {},
     "output_type": "display_data"
    },
    {
     "data": {
      "image/png": "[encoded data removed]",
      "text/plain": [
       "plot without title"
      ]
     },
     "metadata": {},
     "output_type": "display_data"
    }
   ],
   "source": [
    "anes16$presvote[is.na(anes16$presvote)] <- 3 \n",
    "anes16$presvote[anes16$presvote==1] <- 2\n",
    "anes16$presvote[anes16$presvote==0] <- 1\n",
    "options(repr.plot.width=4.5, repr.plot.height=3, warn=-1)\n",
    "dvtab <- as.data.frame(table(as.character(anes16$presvote))) \n",
    "dvtab$Var1 <- as.character(dvtab$Var1)\n",
    "dvtab$Var1[1] <- \"0.Clinton\"; dvtab$Var1[2] <- \"1.Trump\"; dvtab$Var1[3] <- \"No Answer\"\n",
    "ggplot(data=dvtab, aes(Var1, Freq)) + gktheme + geom_bar(stat = \"identity\") +\n",
    "ggtitle(\"Frequency of presvote (Dependent Variable)\") + xlab(\"Presidential Vote in 2016 Election\")"
   ]
  },
  {
   "cell_type": "markdown",
   "metadata": {},
   "source": [
    "**Bayesian Model Averaging on Multinomial-Logit Model** "
   ]
  },
  {
   "cell_type": "code",
   "execution_count": 126,
   "metadata": {
    "collapsed": true
   },
   "outputs": [],
   "source": [
    "formula.mlogit <- formula(presvote ~ genderresent1 + genderresent2 + genderresent3 + genderresent4 + \n",
    "                          female + partyid + libcon + spendserv + defensespend + healthinsurance + guarjobs + \n",
    "                          mexicowall + aidblacks + environmentjobs + affirmativeaction + troopsisis + syrianrefugees + \n",
    "                          climatechangeaction + transgenderbathrooms + abortion + thermometerpopefrancis + \n",
    "                          thermometerevangelicals + thermometerblacklivesmatter)"
   ]
  },
  {
   "cell_type": "code",
   "execution_count": 152,
   "metadata": {
    "collapsed": false
   },
   "outputs": [
    {
     "name": "stdout",
     "output_type": "stream",
     "text": [
      "\n",
      "Begg & Gray approximation started.\n",
      " 24 variables considered.\n",
      " 1109 models initially selected.\n",
      "Final number of models: 47 \n"
     ]
    }
   ],
   "source": [
    "mlogitBMAres <- bic.mlogit(formula.mlogit, data=na.omit(anes16), choices = 1:3, \n",
    "                           base.choice = 1, include.intercepts = TRUE, verbose=TRUE, OR=1000)"
   ]
  },
  {
   "cell_type": "code",
   "execution_count": 177,
   "metadata": {
    "collapsed": false,
    "scrolled": false
   },
   "outputs": [
    {
     "data": {
      "image/png": "[encoded data removed]",
      "text/plain": [
       "Plot with title \"Models selected by BMA\""
      ]
     },
     "metadata": {},
     "output_type": "display_data"
    }
   ],
   "source": [
    "options(repr.plot.width=10, repr.plot.height=6, warn=-1)\n",
    "imageplot.bma2(mlogitBMAres$bic.glm, color=c(\"brown2\",\"cyan3\",\"beige\"), order= \"probne0\", mar.)"
   ]
  },
  {
   "cell_type": "code",
   "execution_count": 143,
   "metadata": {
    "collapsed": false
   },
   "outputs": [],
   "source": [
    "#summary(mlogitBMAres)\n",
    "#estimate.mlogit(mlogitBMAres, anes16)"
   ]
  },
  {
   "cell_type": "code",
   "execution_count": 144,
   "metadata": {
    "collapsed": false
   },
   "outputs": [],
   "source": [
    "#options(repr.plot.width=6, repr.plot.height=6, warn=-1)\n",
    "#plot(mlogitBMAres)"
   ]
  },
  {
   "cell_type": "code",
   "execution_count": 178,
   "metadata": {
    "collapsed": false
   },
   "outputs": [
    {
     "data": {
      "text/html": [
       "<strong>$mar</strong> = <ol class=list-inline>\n",
       "\t<li>5.1</li>\n",
       "\t<li>4.1</li>\n",
       "\t<li>4.1</li>\n",
       "\t<li>2.1</li>\n",
       "</ol>\n"
      ],
      "text/latex": [
       "\\textbf{\\$mar} = \\begin{enumerate*}\n",
       "\\item 5.1\n",
       "\\item 4.1\n",
       "\\item 4.1\n",
       "\\item 2.1\n",
       "\\end{enumerate*}\n"
      ],
      "text/markdown": [
       "**$mar** = 1. 5.1\n",
       "2. 4.1\n",
       "3. 4.1\n",
       "4. 2.1\n",
       "\n",
       "\n"
      ],
      "text/plain": [
       "$mar\n",
       "[1] 5.1 4.1 4.1 2.1\n"
      ]
     },
     "metadata": {},
     "output_type": "display_data"
    }
   ],
   "source": []
  },
  {
   "cell_type": "markdown",
   "metadata": {
    "deletable": true,
    "editable": true
   },
   "source": [
    "### 2. Which variables most and least consistently contribute predictive value in explaining your response variable?"
   ]
  },
  {
   "cell_type": "markdown",
   "metadata": {
    "deletable": true,
    "editable": true
   },
   "source": [
    "### **Summarize Result**"
   ]
  }
 ],
 "metadata": {
  "kernelspec": {
   "display_name": "R",
   "language": "R",
   "name": "ir"
  },
  "language_info": {
   "codemirror_mode": "r",
   "file_extension": ".r",
   "mimetype": "text/x-r-source",
   "name": "R",
   "pygments_lexer": "r",
   "version": "3.3.2"
  }
 },
 "nbformat": 4,
 "nbformat_minor": 2
}
